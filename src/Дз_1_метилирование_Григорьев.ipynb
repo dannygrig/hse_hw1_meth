{
  "cells": [
    {
      "cell_type": "markdown",
      "metadata": {
        "id": "CLLeQw9Mxab4"
      },
      "source": [
        "## Ссылка на диск с картированными чтениями"
      ]
    },
    {
      "cell_type": "markdown",
      "metadata": {
        "id": "iX7NcoC_CLY0"
      },
      "source": [
        "\n",
        "| | SRA accession  | Stage    |\n",
        "|---:|:-------------|:-----------|\n",
        "| 1 | SRR5836473  | 8 cell       |\n",
        "| 2 | SRR3824222 | Epiblast    |\n",
        "| 3 | SRR5836475  | ICM       |\n"
      ]
    },
    {
      "cell_type": "markdown",
      "metadata": {
        "id": "RQAK_lggxsXi"
      },
      "source": [
        "[Bam-файлы и отчеты](https://drive.google.com/drive/folders/1athn52a93obOwfuHynDCRPRhjAPB80aO?usp=sharing)"
      ]
    },
    {
      "cell_type": "markdown",
      "metadata": {
        "id": "5l0a7C6JHe40"
      },
      "source": [
        "# Установка FastQC"
      ]
    },
    {
      "cell_type": "code",
      "execution_count": null,
      "metadata": {
        "colab": {
          "base_uri": "https://localhost:8080/"
        },
        "id": "esYQuHKO8nAg",
        "outputId": "6f2456e5-29dc-4996-9b88-cfca46bbb3c2"
      },
      "outputs": [
        {
          "output_type": "stream",
          "name": "stdout",
          "text": [
            "--2022-02-17 18:18:33--  https://www.bioinformatics.babraham.ac.uk/projects/fastqc/fastqc_v0.11.9.zip\n",
            "Resolving www.bioinformatics.babraham.ac.uk (www.bioinformatics.babraham.ac.uk)... 149.155.133.4\n",
            "Connecting to www.bioinformatics.babraham.ac.uk (www.bioinformatics.babraham.ac.uk)|149.155.133.4|:443... connected.\n",
            "HTTP request sent, awaiting response... 200 OK\n",
            "Length: 10249221 (9.8M) [application/zip]\n",
            "Saving to: ‘fastqc_v0.11.9.zip’\n",
            "\n",
            "fastqc_v0.11.9.zip  100%[===================>]   9.77M  4.09MB/s    in 2.4s    \n",
            "\n",
            "2022-02-17 18:18:35 (4.09 MB/s) - ‘fastqc_v0.11.9.zip’ saved [10249221/10249221]\n",
            "\n",
            "Archive:  fastqc_v0.11.9.zip\n",
            "  inflating: FastQC/cisd-jhdf5.jar   \n",
            "   creating: FastQC/Configuration/\n",
            "  inflating: FastQC/Configuration/adapter_list.txt  \n",
            "  inflating: FastQC/Configuration/contaminant_list.txt  \n",
            "  inflating: FastQC/Configuration/limits.txt  \n",
            "  inflating: FastQC/fastqc           \n",
            "  inflating: FastQC/fastqc_icon.ico  \n",
            "   creating: FastQC/Help/\n",
            "   creating: FastQC/Help/1 Introduction/\n",
            "   creating: FastQC/Help/1 Introduction/.svn/\n",
            "  inflating: FastQC/Help/1 Introduction/.svn/entries  \n",
            "   creating: FastQC/Help/1 Introduction/.svn/props/\n",
            "   creating: FastQC/Help/1 Introduction/.svn/text-base/\n",
            "  inflating: FastQC/Help/1 Introduction/.svn/text-base/1.1 What is FastQC.html.svn-base  \n",
            "   creating: FastQC/Help/1 Introduction/.svn/tmp/\n",
            "   creating: FastQC/Help/1 Introduction/.svn/tmp/props/\n",
            "  inflating: FastQC/Help/1 Introduction/1.1 What is FastQC.html  \n",
            "   creating: FastQC/Help/2 Basic Operations/\n",
            "   creating: FastQC/Help/2 Basic Operations/.svn/\n",
            "  inflating: FastQC/Help/2 Basic Operations/.svn/entries  \n",
            "   creating: FastQC/Help/2 Basic Operations/.svn/props/\n",
            "   creating: FastQC/Help/2 Basic Operations/.svn/text-base/\n",
            "  inflating: FastQC/Help/2 Basic Operations/.svn/text-base/2.1 Opening a sequence file.html.svn-base  \n",
            "  inflating: FastQC/Help/2 Basic Operations/.svn/text-base/2.2 Evaluating Results.html.svn-base  \n",
            "  inflating: FastQC/Help/2 Basic Operations/.svn/text-base/2.3 Saving a Report.html.svn-base  \n",
            "   creating: FastQC/Help/2 Basic Operations/.svn/tmp/\n",
            "   creating: FastQC/Help/2 Basic Operations/.svn/tmp/props/\n",
            "  inflating: FastQC/Help/2 Basic Operations/2.1 Opening a sequence file.html  \n",
            "  inflating: FastQC/Help/2 Basic Operations/2.2 Evaluating Results.html  \n",
            "  inflating: FastQC/Help/2 Basic Operations/2.3 Saving a Report.html  \n",
            "   creating: FastQC/Help/3 Analysis Modules/\n",
            "   creating: FastQC/Help/3 Analysis Modules/.svn/\n",
            "  inflating: FastQC/Help/3 Analysis Modules/.svn/entries  \n",
            "   creating: FastQC/Help/3 Analysis Modules/.svn/prop-base/\n",
            " extracting: FastQC/Help/3 Analysis Modules/.svn/prop-base/duplication_levels.png.svn-base  \n",
            "  inflating: FastQC/Help/3 Analysis Modules/.svn/prop-base/kmer_profiles.png.svn-base  \n",
            " extracting: FastQC/Help/3 Analysis Modules/.svn/prop-base/per_base_gc_content.png.svn-base  \n",
            " extracting: FastQC/Help/3 Analysis Modules/.svn/prop-base/per_base_n_content.png.svn-base  \n",
            " extracting: FastQC/Help/3 Analysis Modules/.svn/prop-base/per_base_quality.png.svn-base  \n",
            " extracting: FastQC/Help/3 Analysis Modules/.svn/prop-base/per_base_sequence_content.png.svn-base  \n",
            " extracting: FastQC/Help/3 Analysis Modules/.svn/prop-base/per_sequence_gc_content.png.svn-base  \n",
            " extracting: FastQC/Help/3 Analysis Modules/.svn/prop-base/per_sequence_quality.png.svn-base  \n",
            " extracting: FastQC/Help/3 Analysis Modules/.svn/prop-base/per_tile_quality.png.svn-base  \n",
            " extracting: FastQC/Help/3 Analysis Modules/.svn/prop-base/sequence_length_distribution.png.svn-base  \n",
            "   creating: FastQC/Help/3 Analysis Modules/.svn/props/\n",
            "   creating: FastQC/Help/3 Analysis Modules/.svn/text-base/\n",
            "  inflating: FastQC/Help/3 Analysis Modules/.svn/text-base/1 Basic Statistics.html.svn-base  \n",
            "  inflating: FastQC/Help/3 Analysis Modules/.svn/text-base/10 Adapter Content.html.svn-base  \n",
            "  inflating: FastQC/Help/3 Analysis Modules/.svn/text-base/11 Kmer Content.html.svn-base  \n",
            "  inflating: FastQC/Help/3 Analysis Modules/.svn/text-base/12 Per Tile Sequence Quality.html.svn-base  \n",
            "  inflating: FastQC/Help/3 Analysis Modules/.svn/text-base/2 Per Base Sequence Quality.html.svn-base  \n",
            "  inflating: FastQC/Help/3 Analysis Modules/.svn/text-base/3 Per Sequence Quality Scores.html.svn-base  \n",
            "  inflating: FastQC/Help/3 Analysis Modules/.svn/text-base/4 Per Base Sequence Content.html.svn-base  \n",
            "  inflating: FastQC/Help/3 Analysis Modules/.svn/text-base/5 Per Sequence GC Content.html.svn-base  \n",
            "  inflating: FastQC/Help/3 Analysis Modules/.svn/text-base/6 Per Base N Content.html.svn-base  \n",
            "  inflating: FastQC/Help/3 Analysis Modules/.svn/text-base/7 Sequence Length Distribution.html.svn-base  \n",
            "  inflating: FastQC/Help/3 Analysis Modules/.svn/text-base/8 Duplicate Sequences.html.svn-base  \n",
            "  inflating: FastQC/Help/3 Analysis Modules/.svn/text-base/9 Overrepresented Sequences.html.svn-base  \n",
            "  inflating: FastQC/Help/3 Analysis Modules/.svn/text-base/duplication_levels.png.svn-base  \n",
            "  inflating: FastQC/Help/3 Analysis Modules/.svn/text-base/kmer_profiles.png.svn-base  \n",
            "  inflating: FastQC/Help/3 Analysis Modules/.svn/text-base/per_base_gc_content.png.svn-base  \n",
            "  inflating: FastQC/Help/3 Analysis Modules/.svn/text-base/per_base_n_content.png.svn-base  \n",
            "  inflating: FastQC/Help/3 Analysis Modules/.svn/text-base/per_base_quality.png.svn-base  \n",
            "  inflating: FastQC/Help/3 Analysis Modules/.svn/text-base/per_base_sequence_content.png.svn-base  \n",
            "  inflating: FastQC/Help/3 Analysis Modules/.svn/text-base/per_sequence_gc_content.png.svn-base  \n",
            "  inflating: FastQC/Help/3 Analysis Modules/.svn/text-base/per_sequence_quality.png.svn-base  \n",
            "  inflating: FastQC/Help/3 Analysis Modules/.svn/text-base/per_tile_quality.png.svn-base  \n",
            "  inflating: FastQC/Help/3 Analysis Modules/.svn/text-base/sequence_length_distribution.png.svn-base  \n",
            "   creating: FastQC/Help/3 Analysis Modules/.svn/tmp/\n",
            "   creating: FastQC/Help/3 Analysis Modules/.svn/tmp/props/\n",
            "  inflating: FastQC/Help/3 Analysis Modules/1 Basic Statistics.html  \n",
            "  inflating: FastQC/Help/3 Analysis Modules/10 Adapter Content.html  \n",
            "  inflating: FastQC/Help/3 Analysis Modules/11 Kmer Content.html  \n",
            "  inflating: FastQC/Help/3 Analysis Modules/12 Per Tile Sequence Quality.html  \n",
            "  inflating: FastQC/Help/3 Analysis Modules/2 Per Base Sequence Quality.html  \n",
            "  inflating: FastQC/Help/3 Analysis Modules/3 Per Sequence Quality Scores.html  \n",
            "  inflating: FastQC/Help/3 Analysis Modules/4 Per Base Sequence Content.html  \n",
            "  inflating: FastQC/Help/3 Analysis Modules/5 Per Sequence GC Content.html  \n",
            "  inflating: FastQC/Help/3 Analysis Modules/6 Per Base N Content.html  \n",
            "  inflating: FastQC/Help/3 Analysis Modules/7 Sequence Length Distribution.html  \n",
            "  inflating: FastQC/Help/3 Analysis Modules/8 Duplicate Sequences.html  \n",
            "  inflating: FastQC/Help/3 Analysis Modules/9 Overrepresented Sequences.html  \n",
            "  inflating: FastQC/Help/3 Analysis Modules/duplication_levels.png  \n",
            "  inflating: FastQC/Help/3 Analysis Modules/kmer_profiles.png  \n",
            "  inflating: FastQC/Help/3 Analysis Modules/per_base_gc_content.png  \n",
            "  inflating: FastQC/Help/3 Analysis Modules/per_base_n_content.png  \n",
            "  inflating: FastQC/Help/3 Analysis Modules/per_base_quality.png  \n",
            "  inflating: FastQC/Help/3 Analysis Modules/per_base_sequence_content.png  \n",
            "  inflating: FastQC/Help/3 Analysis Modules/per_sequence_gc_content.png  \n",
            "  inflating: FastQC/Help/3 Analysis Modules/per_sequence_quality.png  \n",
            "  inflating: FastQC/Help/3 Analysis Modules/per_tile_quality.png  \n",
            "  inflating: FastQC/Help/3 Analysis Modules/sequence_length_distribution.png  \n",
            "  inflating: FastQC/INSTALL.txt      \n",
            "  inflating: FastQC/jbzip2-0.9.jar   \n",
            "  inflating: FastQC/LICENSE          \n",
            "  inflating: FastQC/LICENSE.txt      \n",
            "  inflating: FastQC/LICENSE_JHDF5.txt  \n",
            "   creating: FastQC/net/\n",
            "   creating: FastQC/net/sourceforge/\n",
            "   creating: FastQC/net/sourceforge/iharder/\n",
            "   creating: FastQC/net/sourceforge/iharder/base64/\n",
            "  inflating: FastQC/net/sourceforge/iharder/base64/Base64$1.class  \n",
            "  inflating: FastQC/net/sourceforge/iharder/base64/Base64$InputStream.class  \n",
            "  inflating: FastQC/net/sourceforge/iharder/base64/Base64$OutputStream.class  \n",
            "  inflating: FastQC/net/sourceforge/iharder/base64/Base64.class  \n",
            "   creating: FastQC/org/\n",
            "   creating: FastQC/org/apache/\n",
            "   creating: FastQC/org/apache/commons/\n",
            "   creating: FastQC/org/apache/commons/math3/\n",
            "   creating: FastQC/org/apache/commons/math3/analysis/\n",
            "   creating: FastQC/org/apache/commons/math3/analysis/solvers/\n",
            "  inflating: FastQC/org/apache/commons/math3/analysis/solvers/AbstractUnivariateSolver.class  \n",
            "  inflating: FastQC/org/apache/commons/math3/analysis/solvers/AllowedSolution.class  \n",
            "  inflating: FastQC/org/apache/commons/math3/analysis/solvers/BaseAbstractUnivariateSolver.class  \n",
            "  inflating: FastQC/org/apache/commons/math3/analysis/solvers/BaseUnivariateSolver.class  \n",
            "  inflating: FastQC/org/apache/commons/math3/analysis/solvers/BracketedUnivariateSolver.class  \n",
            "  inflating: FastQC/org/apache/commons/math3/analysis/solvers/BrentSolver.class  \n",
            "  inflating: FastQC/org/apache/commons/math3/analysis/solvers/UnivariateSolver.class  \n",
            "  inflating: FastQC/org/apache/commons/math3/analysis/solvers/UnivariateSolverUtils.class  \n",
            "  inflating: FastQC/org/apache/commons/math3/analysis/UnivariateFunction.class  \n",
            "   creating: FastQC/org/apache/commons/math3/distribution/\n",
            "  inflating: FastQC/org/apache/commons/math3/distribution/AbstractIntegerDistribution.class  \n",
            "  inflating: FastQC/org/apache/commons/math3/distribution/AbstractRealDistribution$1.class  \n",
            "  inflating: FastQC/org/apache/commons/math3/distribution/AbstractRealDistribution.class  \n",
            "  inflating: FastQC/org/apache/commons/math3/distribution/BetaDistribution.class  \n",
            "  inflating: FastQC/org/apache/commons/math3/distribution/BinomialDistribution.class  \n",
            "  inflating: FastQC/org/apache/commons/math3/distribution/CauchyDistribution.class  \n",
            "  inflating: FastQC/org/apache/commons/math3/distribution/ChiSquaredDistribution.class  \n",
            "  inflating: FastQC/org/apache/commons/math3/distribution/FDistribution.class  \n",
            "  inflating: FastQC/org/apache/commons/math3/distribution/GammaDistribution.class  \n",
            "  inflating: FastQC/org/apache/commons/math3/distribution/HypergeometricDistribution.class  \n",
            "  inflating: FastQC/org/apache/commons/math3/distribution/IntegerDistribution.class  \n",
            "  inflating: FastQC/org/apache/commons/math3/distribution/NormalDistribution.class  \n",
            "  inflating: FastQC/org/apache/commons/math3/distribution/PascalDistribution.class  \n",
            "  inflating: FastQC/org/apache/commons/math3/distribution/PoissonDistribution.class  \n",
            "  inflating: FastQC/org/apache/commons/math3/distribution/RealDistribution.class  \n",
            "  inflating: FastQC/org/apache/commons/math3/distribution/SaddlePointExpansion.class  \n",
            "  inflating: FastQC/org/apache/commons/math3/distribution/TDistribution.class  \n",
            "  inflating: FastQC/org/apache/commons/math3/distribution/WeibullDistribution.class  \n",
            "  inflating: FastQC/org/apache/commons/math3/distribution/ZipfDistribution.class  \n",
            "   creating: FastQC/org/apache/commons/math3/exception/\n",
            "  inflating: FastQC/org/apache/commons/math3/exception/ConvergenceException.class  \n",
            "  inflating: FastQC/org/apache/commons/math3/exception/DimensionMismatchException.class  \n",
            "  inflating: FastQC/org/apache/commons/math3/exception/MathArithmeticException.class  \n",
            "  inflating: FastQC/org/apache/commons/math3/exception/MathIllegalArgumentException.class  \n",
            "  inflating: FastQC/org/apache/commons/math3/exception/MathIllegalNumberException.class  \n",
            "  inflating: FastQC/org/apache/commons/math3/exception/MathIllegalStateException.class  \n",
            "  inflating: FastQC/org/apache/commons/math3/exception/MathInternalError.class  \n",
            "  inflating: FastQC/org/apache/commons/math3/exception/MaxCountExceededException.class  \n",
            "  inflating: FastQC/org/apache/commons/math3/exception/NoBracketingException.class  \n",
            "  inflating: FastQC/org/apache/commons/math3/exception/NotFiniteNumberException.class  \n",
            "  inflating: FastQC/org/apache/commons/math3/exception/NotPositiveException.class  \n",
            "  inflating: FastQC/org/apache/commons/math3/exception/NotStrictlyPositiveException.class  \n",
            "  inflating: FastQC/org/apache/commons/math3/exception/NullArgumentException.class  \n",
            "  inflating: FastQC/org/apache/commons/math3/exception/NumberIsTooLargeException.class  \n",
            "  inflating: FastQC/org/apache/commons/math3/exception/NumberIsTooSmallException.class  \n",
            "  inflating: FastQC/org/apache/commons/math3/exception/OutOfRangeException.class  \n",
            "  inflating: FastQC/org/apache/commons/math3/exception/TooManyEvaluationsException.class  \n",
            "   creating: FastQC/org/apache/commons/math3/exception/util/\n",
            "  inflating: FastQC/org/apache/commons/math3/exception/util/ArgUtils.class  \n",
            "  inflating: FastQC/org/apache/commons/math3/exception/util/ExceptionContext.class  \n",
            "  inflating: FastQC/org/apache/commons/math3/exception/util/ExceptionContextProvider.class  \n",
            "  inflating: FastQC/org/apache/commons/math3/exception/util/Localizable.class  \n",
            "  inflating: FastQC/org/apache/commons/math3/exception/util/LocalizedFormats.class  \n",
            "   creating: FastQC/org/apache/commons/math3/random/\n",
            "  inflating: FastQC/org/apache/commons/math3/random/AbstractWell.class  \n",
            "  inflating: FastQC/org/apache/commons/math3/random/BitsStreamGenerator.class  \n",
            "  inflating: FastQC/org/apache/commons/math3/random/RandomData.class  \n",
            "  inflating: FastQC/org/apache/commons/math3/random/RandomDataImpl.class  \n",
            "  inflating: FastQC/org/apache/commons/math3/random/RandomGenerator.class  \n",
            "  inflating: FastQC/org/apache/commons/math3/random/Well19937c.class  \n",
            "   creating: FastQC/org/apache/commons/math3/special/\n",
            "  inflating: FastQC/org/apache/commons/math3/special/Beta$1.class  \n",
            "  inflating: FastQC/org/apache/commons/math3/special/Beta.class  \n",
            "  inflating: FastQC/org/apache/commons/math3/special/Erf.class  \n",
            "  inflating: FastQC/org/apache/commons/math3/special/Gamma$1.class  \n",
            "  inflating: FastQC/org/apache/commons/math3/special/Gamma.class  \n",
            "   creating: FastQC/org/apache/commons/math3/util/\n",
            "  inflating: FastQC/org/apache/commons/math3/util/ArithmeticUtils.class  \n",
            "  inflating: FastQC/org/apache/commons/math3/util/ContinuedFraction.class  \n",
            "  inflating: FastQC/org/apache/commons/math3/util/DoubleArray.class  \n",
            "  inflating: FastQC/org/apache/commons/math3/util/FastMath$ExpFracTable.class  \n",
            "  inflating: FastQC/org/apache/commons/math3/util/FastMath$ExpIntTable.class  \n",
            "  inflating: FastQC/org/apache/commons/math3/util/FastMath$lnMant.class  \n",
            "  inflating: FastQC/org/apache/commons/math3/util/FastMath.class  \n",
            "  inflating: FastQC/org/apache/commons/math3/util/FastMathCalc.class  \n",
            "  inflating: FastQC/org/apache/commons/math3/util/FastMathLiteralArrays.class  \n",
            "  inflating: FastQC/org/apache/commons/math3/util/Incrementor$1.class  \n",
            "  inflating: FastQC/org/apache/commons/math3/util/Incrementor$MaxCountExceededCallback.class  \n",
            "  inflating: FastQC/org/apache/commons/math3/util/Incrementor.class  \n",
            "  inflating: FastQC/org/apache/commons/math3/util/MathUtils.class  \n",
            "  inflating: FastQC/org/apache/commons/math3/util/Precision.class  \n",
            "  inflating: FastQC/org/apache/commons/math3/util/ResizableDoubleArray.class  \n",
            "  inflating: FastQC/README.md        \n",
            "  inflating: FastQC/README.txt       \n",
            "  inflating: FastQC/RELEASE_NOTES.txt  \n",
            "  inflating: FastQC/run_fastqc.bat   \n",
            "  inflating: FastQC/sam-1.103.jar    \n",
            "   creating: FastQC/Templates/\n",
            "  inflating: FastQC/Templates/fastqc2fo.xsl  \n",
            "  inflating: FastQC/Templates/header_template.html  \n",
            "   creating: FastQC/Templates/Icons/\n",
            " extracting: FastQC/Templates/Icons/error.png  \n",
            " extracting: FastQC/Templates/Icons/fastqc_icon.png  \n",
            " extracting: FastQC/Templates/Icons/tick.png  \n",
            " extracting: FastQC/Templates/Icons/warning.png  \n",
            "   creating: FastQC/uk/\n",
            "   creating: FastQC/uk/ac/\n",
            "   creating: FastQC/uk/ac/babraham/\n",
            "   creating: FastQC/uk/ac/babraham/FastQC/\n",
            "   creating: FastQC/uk/ac/babraham/FastQC/Analysis/\n",
            "  inflating: FastQC/uk/ac/babraham/FastQC/Analysis/AnalysisListener.class  \n",
            "  inflating: FastQC/uk/ac/babraham/FastQC/Analysis/AnalysisQueue.class  \n",
            "  inflating: FastQC/uk/ac/babraham/FastQC/Analysis/AnalysisRunner.class  \n",
            "  inflating: FastQC/uk/ac/babraham/FastQC/Analysis/OfflineRunner.class  \n",
            "   creating: FastQC/uk/ac/babraham/FastQC/Dialogs/\n",
            "  inflating: FastQC/uk/ac/babraham/FastQC/Dialogs/AboutDialog$1.class  \n",
            "  inflating: FastQC/uk/ac/babraham/FastQC/Dialogs/AboutDialog.class  \n",
            "  inflating: FastQC/uk/ac/babraham/FastQC/Dialogs/FastQCTitlePanel$SmoothJLabel.class  \n",
            "  inflating: FastQC/uk/ac/babraham/FastQC/Dialogs/FastQCTitlePanel.class  \n",
            "  inflating: FastQC/uk/ac/babraham/FastQC/Dialogs/WelcomePanel.class  \n",
            "  inflating: FastQC/uk/ac/babraham/FastQC/FastQCApplication$1.class  \n",
            "  inflating: FastQC/uk/ac/babraham/FastQC/FastQCApplication.class  \n",
            "  inflating: FastQC/uk/ac/babraham/FastQC/FastQCConfig.class  \n",
            "  inflating: FastQC/uk/ac/babraham/FastQC/FastQCMenuBar.class  \n",
            "   creating: FastQC/uk/ac/babraham/FastQC/FileFilters/\n",
            "  inflating: FastQC/uk/ac/babraham/FastQC/FileFilters/BAMFileFilter.class  \n",
            "  inflating: FastQC/uk/ac/babraham/FastQC/FileFilters/CasavaFastQFileFilter.class  \n",
            "  inflating: FastQC/uk/ac/babraham/FastQC/FileFilters/FastQFileFilter.class  \n",
            "  inflating: FastQC/uk/ac/babraham/FastQC/FileFilters/GobyFileFilter.class  \n",
            "  inflating: FastQC/uk/ac/babraham/FastQC/FileFilters/MappedBAMFileFilter.class  \n",
            "  inflating: FastQC/uk/ac/babraham/FastQC/FileFilters/SequenceFileFilter.class  \n",
            "   creating: FastQC/uk/ac/babraham/FastQC/Graphs/\n",
            "  inflating: FastQC/uk/ac/babraham/FastQC/Graphs/BaseGroup.class  \n",
            "  inflating: FastQC/uk/ac/babraham/FastQC/Graphs/LineGraph.class  \n",
            "  inflating: FastQC/uk/ac/babraham/FastQC/Graphs/QualityBoxPlot.class  \n",
            "  inflating: FastQC/uk/ac/babraham/FastQC/Graphs/TileGraph.class  \n",
            "   creating: FastQC/uk/ac/babraham/FastQC/Help/\n",
            "  inflating: FastQC/uk/ac/babraham/FastQC/Help/HelpDialog.class  \n",
            "  inflating: FastQC/uk/ac/babraham/FastQC/Help/HelpIndexRoot$FileSorter.class  \n",
            "  inflating: FastQC/uk/ac/babraham/FastQC/Help/HelpIndexRoot.class  \n",
            "  inflating: FastQC/uk/ac/babraham/FastQC/Help/HelpPage.class  \n",
            "  inflating: FastQC/uk/ac/babraham/FastQC/Help/HelpPageDisplay$HelpEditor.class  \n",
            "  inflating: FastQC/uk/ac/babraham/FastQC/Help/HelpPageDisplay.class  \n",
            "  inflating: FastQC/uk/ac/babraham/FastQC/Help/HelpSearchPanel.class  \n",
            "   creating: FastQC/uk/ac/babraham/FastQC/Modules/\n",
            "  inflating: FastQC/uk/ac/babraham/FastQC/Modules/AbstractQCModule.class  \n",
            "  inflating: FastQC/uk/ac/babraham/FastQC/Modules/AdapterContent$Adapter.class  \n",
            "  inflating: FastQC/uk/ac/babraham/FastQC/Modules/AdapterContent$ResultsTable.class  \n",
            "  inflating: FastQC/uk/ac/babraham/FastQC/Modules/AdapterContent.class  \n",
            "  inflating: FastQC/uk/ac/babraham/FastQC/Modules/BasicStats$ResultsTable.class  \n",
            "  inflating: FastQC/uk/ac/babraham/FastQC/Modules/BasicStats.class  \n",
            "  inflating: FastQC/uk/ac/babraham/FastQC/Modules/DuplicationLevel.class  \n",
            "   creating: FastQC/uk/ac/babraham/FastQC/Modules/GCModel/\n",
            "  inflating: FastQC/uk/ac/babraham/FastQC/Modules/GCModel/GCModel.class  \n",
            "  inflating: FastQC/uk/ac/babraham/FastQC/Modules/GCModel/GCModelValue.class  \n",
            "  inflating: FastQC/uk/ac/babraham/FastQC/Modules/KmerContent$Kmer.class  \n",
            "  inflating: FastQC/uk/ac/babraham/FastQC/Modules/KmerContent$ResultsTable.class  \n",
            "  inflating: FastQC/uk/ac/babraham/FastQC/Modules/KmerContent.class  \n",
            "  inflating: FastQC/uk/ac/babraham/FastQC/Modules/ModuleConfig.class  \n",
            "  inflating: FastQC/uk/ac/babraham/FastQC/Modules/ModuleFactory.class  \n",
            "  inflating: FastQC/uk/ac/babraham/FastQC/Modules/NContent.class  \n",
            "  inflating: FastQC/uk/ac/babraham/FastQC/Modules/OverRepresentedSeqs$OverrepresentedSeq.class  \n",
            "  inflating: FastQC/uk/ac/babraham/FastQC/Modules/OverRepresentedSeqs$ResultsTable.class  \n",
            "  inflating: FastQC/uk/ac/babraham/FastQC/Modules/OverRepresentedSeqs.class  \n",
            "  inflating: FastQC/uk/ac/babraham/FastQC/Modules/PerBaseQualityScores.class  \n",
            "  inflating: FastQC/uk/ac/babraham/FastQC/Modules/PerBaseSequenceContent.class  \n",
            "  inflating: FastQC/uk/ac/babraham/FastQC/Modules/PerSequenceGCContent.class  \n",
            "  inflating: FastQC/uk/ac/babraham/FastQC/Modules/PerSequenceQualityScores.class  \n",
            "  inflating: FastQC/uk/ac/babraham/FastQC/Modules/PerTileQualityScores.class  \n",
            "  inflating: FastQC/uk/ac/babraham/FastQC/Modules/QCModule.class  \n",
            "  inflating: FastQC/uk/ac/babraham/FastQC/Modules/SequenceLengthDistribution.class  \n",
            "   creating: FastQC/uk/ac/babraham/FastQC/Report/\n",
            "  inflating: FastQC/uk/ac/babraham/FastQC/Report/HTMLReportArchive.class  \n",
            "  inflating: FastQC/uk/ac/babraham/FastQC/Report/stylesheet.txt  \n",
            "   creating: FastQC/uk/ac/babraham/FastQC/Resources/\n",
            " extracting: FastQC/uk/ac/babraham/FastQC/Resources/error.png  \n",
            " extracting: FastQC/uk/ac/babraham/FastQC/Resources/fastqc_icon.png  \n",
            "  inflating: FastQC/uk/ac/babraham/FastQC/Resources/fastqc_icon.svg  \n",
            " extracting: FastQC/uk/ac/babraham/FastQC/Resources/fastqc_icon_100.png  \n",
            " extracting: FastQC/uk/ac/babraham/FastQC/Resources/tick.png  \n",
            " extracting: FastQC/uk/ac/babraham/FastQC/Resources/warning.png  \n",
            "   creating: FastQC/uk/ac/babraham/FastQC/Results/\n",
            "  inflating: FastQC/uk/ac/babraham/FastQC/Results/ResultsPanel$ModuleRenderer.class  \n",
            "  inflating: FastQC/uk/ac/babraham/FastQC/Results/ResultsPanel.class  \n",
            "   creating: FastQC/uk/ac/babraham/FastQC/Sequence/\n",
            "  inflating: FastQC/uk/ac/babraham/FastQC/Sequence/BAMFile.class  \n",
            "   creating: FastQC/uk/ac/babraham/FastQC/Sequence/Contaminant/\n",
            "  inflating: FastQC/uk/ac/babraham/FastQC/Sequence/Contaminant/Contaminant.class  \n",
            "  inflating: FastQC/uk/ac/babraham/FastQC/Sequence/Contaminant/ContaminantHit.class  \n",
            "  inflating: FastQC/uk/ac/babraham/FastQC/Sequence/Contaminant/ContaminentFinder.class  \n",
            "  inflating: FastQC/uk/ac/babraham/FastQC/Sequence/Fast5File.class  \n",
            "  inflating: FastQC/uk/ac/babraham/FastQC/Sequence/FastQFile.class  \n",
            "   creating: FastQC/uk/ac/babraham/FastQC/Sequence/QualityEncoding/\n",
            "  inflating: FastQC/uk/ac/babraham/FastQC/Sequence/QualityEncoding/PhredEncoding.class  \n",
            "  inflating: FastQC/uk/ac/babraham/FastQC/Sequence/Sequence.class  \n",
            "  inflating: FastQC/uk/ac/babraham/FastQC/Sequence/SequenceFactory.class  \n",
            "  inflating: FastQC/uk/ac/babraham/FastQC/Sequence/SequenceFile.class  \n",
            "  inflating: FastQC/uk/ac/babraham/FastQC/Sequence/SequenceFileGroup.class  \n",
            "  inflating: FastQC/uk/ac/babraham/FastQC/Sequence/SequenceFormatException.class  \n",
            "   creating: FastQC/uk/ac/babraham/FastQC/Statistics/\n",
            "  inflating: FastQC/uk/ac/babraham/FastQC/Statistics/NormalDistribution.class  \n",
            "  inflating: FastQC/uk/ac/babraham/FastQC/Statistics/PearsonCorrelation.class  \n",
            "   creating: FastQC/uk/ac/babraham/FastQC/Utilities/\n",
            "  inflating: FastQC/uk/ac/babraham/FastQC/Utilities/CasavaBasename.class  \n",
            "  inflating: FastQC/uk/ac/babraham/FastQC/Utilities/HotColdColourGradient.class  \n",
            "  inflating: FastQC/uk/ac/babraham/FastQC/Utilities/ImageToBase64.class  \n",
            "  inflating: FastQC/uk/ac/babraham/FastQC/Utilities/MultiMemberGZIPInputStream.class  \n",
            "  inflating: FastQC/uk/ac/babraham/FastQC/Utilities/NameFormatException.class  \n",
            "  inflating: FastQC/uk/ac/babraham/FastQC/Utilities/NanoporeBasename.class  \n",
            "  inflating: FastQC/uk/ac/babraham/FastQC/Utilities/QualityCount.class  \n",
            "  inflating: FastQC/uk/ac/babraham/FastQC/Utilities/RGB.class  \n"
          ]
        }
      ],
      "source": [
        "!wget https://www.bioinformatics.babraham.ac.uk/projects/fastqc/fastqc_v0.11.9.zip\n",
        "!unzip fastqc_v0.11.9.zip\n",
        "!chmod a+x FastQC/fastqc"
      ]
    },
    {
      "cell_type": "markdown",
      "metadata": {
        "id": "_zEx3USYPKoR"
      },
      "source": [
        "Можно получать данные секвенировия с ENA. Например, https://www.ebi.ac.uk/ena/browser/view/SRR5836473"
      ]
    },
    {
      "cell_type": "code",
      "execution_count": null,
      "metadata": {
        "colab": {
          "base_uri": "https://localhost:8080/"
        },
        "id": "c5QMGKJYxrza",
        "outputId": "f48495b7-b53e-45af-895c-482e7bf87c39"
      },
      "outputs": [
        {
          "output_type": "stream",
          "name": "stdout",
          "text": [
            "--2022-02-17 18:18:54--  ftp://ftp.sra.ebi.ac.uk/vol1/fastq/SRR583/003/SRR5836473/SRR5836473_1.fastq.gz\n",
            "           => ‘SRR5836473_1.fastq.gz’\n",
            "Resolving ftp.sra.ebi.ac.uk (ftp.sra.ebi.ac.uk)... 193.62.197.74\n",
            "Connecting to ftp.sra.ebi.ac.uk (ftp.sra.ebi.ac.uk)|193.62.197.74|:21... connected.\n",
            "Logging in as anonymous ... Logged in!\n",
            "==> SYST ... done.    ==> PWD ... done.\n",
            "==> TYPE I ... done.  ==> CWD (1) /vol1/fastq/SRR583/003/SRR5836473 ... done.\n",
            "==> SIZE SRR5836473_1.fastq.gz ... 6856386252\n",
            "==> PASV ... done.    ==> RETR SRR5836473_1.fastq.gz ... done.\n",
            "Length: 6856386252 (6.4G) (unauthoritative)\n",
            "\n",
            "SRR5836473_1.fastq. 100%[===================>]   6.38G  45.5MB/s    in 2m 7s   \n",
            "\n",
            "2022-02-17 18:21:01 (51.6 MB/s) - ‘SRR5836473_1.fastq.gz’ saved [6856386252]\n",
            "\n"
          ]
        }
      ],
      "source": [
        "! wget ftp://ftp.sra.ebi.ac.uk/vol1/fastq/SRR583/003/SRR5836473/SRR5836473_1.fastq.gz"
      ]
    },
    {
      "cell_type": "code",
      "source": [
        "! gunzip SRR5836473_1.fastq.gz"
      ],
      "metadata": {
        "id": "uU5bY8zozvgk"
      },
      "execution_count": null,
      "outputs": []
    },
    {
      "cell_type": "code",
      "source": [
        "! ./FastQC/fastqc SRR5836473_1.fastq"
      ],
      "metadata": {
        "colab": {
          "base_uri": "https://localhost:8080/"
        },
        "id": "lGbsXfDG1MyK",
        "outputId": "a3e930b9-a6f8-4618-fdc4-6dbe040bbd31"
      },
      "execution_count": null,
      "outputs": [
        {
          "output_type": "stream",
          "name": "stdout",
          "text": [
            "Started analysis of SRR5836473_1.fastq\n",
            "Approx 5% complete for SRR5836473_1.fastq\n",
            "Approx 10% complete for SRR5836473_1.fastq\n",
            "Approx 15% complete for SRR5836473_1.fastq\n",
            "Approx 20% complete for SRR5836473_1.fastq\n",
            "Approx 25% complete for SRR5836473_1.fastq\n",
            "Approx 30% complete for SRR5836473_1.fastq\n",
            "Approx 35% complete for SRR5836473_1.fastq\n",
            "Approx 40% complete for SRR5836473_1.fastq\n",
            "Approx 45% complete for SRR5836473_1.fastq\n",
            "Approx 50% complete for SRR5836473_1.fastq\n",
            "Approx 55% complete for SRR5836473_1.fastq\n",
            "Approx 60% complete for SRR5836473_1.fastq\n",
            "Approx 65% complete for SRR5836473_1.fastq\n",
            "Approx 70% complete for SRR5836473_1.fastq\n",
            "Approx 75% complete for SRR5836473_1.fastq\n",
            "Approx 80% complete for SRR5836473_1.fastq\n",
            "Approx 85% complete for SRR5836473_1.fastq\n",
            "Approx 90% complete for SRR5836473_1.fastq\n",
            "Approx 95% complete for SRR5836473_1.fastq\n",
            "Analysis complete for SRR5836473_1.fastq\n"
          ]
        }
      ]
    },
    {
      "cell_type": "code",
      "source": [
        "#! wget ftp://ftp.sra.ebi.ac.uk/vol1/fastq/SRR583/003/SRR5836473/SRR5836473_2.fastq.gz\n",
        "#! gunzip SRR5836473_2.fastq.gz\n",
        "#! ./FastQC/fastqc SRR5836473_2.fastq"
      ],
      "metadata": {
        "id": "gQvExTJE1OU7"
      },
      "execution_count": null,
      "outputs": []
    },
    {
      "cell_type": "code",
      "source": [
        "#! wget ftp://ftp.sra.ebi.ac.uk/vol1/fastq/SRR382/002/SRR3824222/SRR3824222_1.fastq.gz\n",
        "#! wget ftp://ftp.sra.ebi.ac.uk/vol1/fastq/SRR382/002/SRR3824222/SRR3824222_2.fastq.gz"
      ],
      "metadata": {
        "id": "obhnPGsgl95b"
      },
      "execution_count": null,
      "outputs": []
    },
    {
      "cell_type": "code",
      "source": [
        "#! wget ftp://ftp.sra.ebi.ac.uk/vol1/fastq/SRR583/005/SRR5836475/SRR5836475_1.fastq.gz\n",
        "#! wget ftp://ftp.sra.ebi.ac.uk/vol1/fastq/SRR583/005/SRR5836475/SRR5836475_2.fastq.gz"
      ],
      "metadata": {
        "id": "5QKOH27ll-HU"
      },
      "execution_count": null,
      "outputs": []
    },
    {
      "cell_type": "markdown",
      "metadata": {
        "id": "Ugk3bV0LI5El"
      },
      "source": [
        "# Установка Bismark с зависимостями (+bowtie2, samtools)"
      ]
    },
    {
      "cell_type": "code",
      "execution_count": null,
      "metadata": {
        "colab": {
          "base_uri": "https://localhost:8080/"
        },
        "id": "uSOZLyn5n5Nl",
        "outputId": "a41f13a4-b740-4d6d-f668-3f56eeb448cc"
      },
      "outputs": [
        {
          "output_type": "stream",
          "name": "stdout",
          "text": [
            "✨🍰✨ Everything looks OK!\n"
          ]
        }
      ],
      "source": [
        "! pip install -q condacolab\n",
        "import condacolab\n",
        "condacolab.install()"
      ]
    },
    {
      "cell_type": "code",
      "execution_count": null,
      "metadata": {
        "colab": {
          "base_uri": "https://localhost:8080/"
        },
        "id": "npb--DNtn52o",
        "outputId": "8deea4c4-4a6e-42f3-90e4-c0555664e9ff"
      },
      "outputs": [
        {
          "output_type": "stream",
          "name": "stdout",
          "text": [
            "✨🍰✨ Everything looks OK!\n"
          ]
        }
      ],
      "source": [
        "import condacolab\n",
        "condacolab.check()"
      ]
    },
    {
      "cell_type": "code",
      "execution_count": null,
      "metadata": {
        "colab": {
          "base_uri": "https://localhost:8080/"
        },
        "id": "MfBSN4YuoCL6",
        "outputId": "4c4ae9a4-e29f-4889-d70e-a790cf66fc87"
      },
      "outputs": [
        {
          "output_type": "stream",
          "name": "stdout",
          "text": [
            "Collecting package metadata (current_repodata.json): - \b\b\\ \b\b| \b\b/ \b\b- \b\b\\ \b\b| \b\b/ \b\b- \b\b\\ \b\b| \b\b/ \b\b- \b\b\\ \b\b| \b\b/ \b\b- \b\b\\ \b\b| \b\b/ \b\b- \b\b\\ \b\b| \b\b/ \b\b- \b\b\\ \b\b| \b\b/ \b\b- \b\b\\ \b\b| \b\b/ \b\b- \b\b\\ \b\b| \b\b/ \b\b- \b\b\\ \b\b| \b\b/ \b\b- \b\b\\ \b\b| \b\b/ \b\b- \b\b\\ \b\b| \b\b/ \b\b- \b\b\\ \b\b| \b\b/ \b\b- \b\b\\ \b\b| \b\b/ \b\b- \b\b\\ \b\b| \b\b/ \b\b- \b\b\\ \b\b| \b\b/ \b\b- \b\b\\ \b\b| \b\b/ \b\b- \b\b\\ \b\b| \b\b/ \b\b- \b\b\\ \b\b| \b\b/ \b\b- \b\b\\ \b\b| \b\b/ \b\b- \b\b\\ \b\b| \b\b/ \b\b- \b\b\\ \b\b| \b\b/ \b\b- \b\b\\ \b\b| \b\b/ \b\b- \b\b\\ \b\b| \b\b/ \b\b- \b\b\\ \b\b| \b\b/ \b\b- \b\b\\ \b\b| \b\b/ \b\b- \b\b\\ \b\b| \b\b/ \b\b- \b\b\\ \b\b| \b\b/ \b\b- \b\b\\ \b\b| \b\b/ \b\b- \b\b\\ \b\b| \b\b/ \b\b- \b\b\\ \b\b| \b\b/ \b\b- \b\b\\ \b\b| \b\b/ \b\b- \b\b\\ \b\b| \b\b/ \b\b- \b\b\\ \b\b| \b\b/ \b\b- \b\b\\ \b\b| \b\b/ \b\b- \b\b\\ \b\b| \b\b/ \b\b- \b\b\\ \b\b| \b\b/ \b\b- \b\b\\ \b\b| \b\b/ \b\b- \b\b\\ \b\b| \b\b/ \b\bdone\n",
            "Solving environment: \\ \b\b| \b\b/ \b\b- \b\b\\ \b\b| \b\b/ \b\b- \b\b\\ \b\bdone\n",
            "\n",
            "## Package Plan ##\n",
            "\n",
            "  environment location: /usr/local\n",
            "\n",
            "  added / updated specs:\n",
            "    - bismark\n",
            "\n",
            "\n",
            "The following packages will be downloaded:\n",
            "\n",
            "    package                    |            build\n",
            "    ---------------------------|-----------------\n",
            "    bismark-0.23.1             |       hdfd78af_0         6.6 MB  bioconda\n",
            "    bowtie2-2.2.5              |   py37h22450f8_8        14.9 MB  bioconda\n",
            "    ca-certificates-2021.10.8  |       ha878542_0         139 KB  conda-forge\n",
            "    certifi-2021.10.8          |   py37h89c1867_1         145 KB  conda-forge\n",
            "    conda-4.11.0               |   py37h89c1867_0        16.9 MB  conda-forge\n",
            "    hisat2-2.2.1               |       h1b792b2_3        16.5 MB  bioconda\n",
            "    perl-5.32.1                | 0_h7f98852_perl5        14.5 MB  conda-forge\n",
            "    python_abi-3.7             |          2_cp37m           4 KB  conda-forge\n",
            "    samtools-1.3.1             |                0         1.5 MB  bioconda\n",
            "    ------------------------------------------------------------\n",
            "                                           Total:        71.1 MB\n",
            "\n",
            "The following NEW packages will be INSTALLED:\n",
            "\n",
            "  bismark            bioconda/noarch::bismark-0.23.1-hdfd78af_0\n",
            "  bowtie2            bioconda/linux-64::bowtie2-2.2.5-py37h22450f8_8\n",
            "  hisat2             bioconda/linux-64::hisat2-2.2.1-h1b792b2_3\n",
            "  perl               conda-forge/linux-64::perl-5.32.1-0_h7f98852_perl5\n",
            "  samtools           bioconda/linux-64::samtools-1.3.1-0\n",
            "\n",
            "The following packages will be UPDATED:\n",
            "\n",
            "  ca-certificates                      2020.12.5-ha878542_0 --> 2021.10.8-ha878542_0\n",
            "  certifi                          2020.12.5-py37h89c1867_1 --> 2021.10.8-py37h89c1867_1\n",
            "  conda                                4.9.2-py37h89c1867_0 --> 4.11.0-py37h89c1867_0\n",
            "  python_abi                                    3.7-1_cp37m --> 3.7-2_cp37m\n",
            "\n",
            "\n",
            "\n",
            "Downloading and Extracting Packages\n",
            "conda-4.11.0         | 16.9 MB   | : 100% 1.0/1 [00:03<00:00,  3.93s/it]\n",
            "bowtie2-2.2.5        | 14.9 MB   | : 100% 1.0/1 [00:02<00:00,  2.49s/it]\n",
            "samtools-1.3.1       | 1.5 MB    | : 100% 1.0/1 [00:00<00:00,  3.23it/s]\n",
            "python_abi-3.7       | 4 KB      | : 100% 1.0/1 [00:00<00:00, 20.27it/s]\n",
            "perl-5.32.1          | 14.5 MB   | : 100% 1.0/1 [00:04<00:00,  4.71s/it]               \n",
            "hisat2-2.2.1         | 16.5 MB   | : 100% 1.0/1 [00:03<00:00,  3.20s/it]               \n",
            "certifi-2021.10.8    | 145 KB    | : 100% 1.0/1 [00:00<00:00,  9.92it/s]\n",
            "bismark-0.23.1       | 6.6 MB    | : 100% 1.0/1 [00:01<00:00,  1.22s/it]\n",
            "ca-certificates-2021 | 139 KB    | : 100% 1.0/1 [00:00<00:00, 16.41it/s]\n",
            "Preparing transaction: / \b\b- \b\bdone\n",
            "Verifying transaction: | \b\b/ \b\b- \b\b\\ \b\b| \b\b/ \b\bdone\n",
            "Executing transaction: \\ \b\b| \b\b/ \b\bdone\n"
          ]
        }
      ],
      "source": [
        "! conda install -c bioconda bismark"
      ]
    },
    {
      "cell_type": "code",
      "execution_count": null,
      "metadata": {
        "colab": {
          "base_uri": "https://localhost:8080/"
        },
        "id": "13VM_exnoHEl",
        "outputId": "1988f642-02c4-4ed3-ae84-71c4b2b9b01f"
      },
      "outputs": [
        {
          "output_type": "stream",
          "name": "stdout",
          "text": [
            "\n",
            "Usage: samtools view [options] <in.bam>|<in.sam>|<in.cram> [region ...]\n",
            "\n",
            "Options:\n",
            "  -b       output BAM\n",
            "  -C       output CRAM (requires -T)\n",
            "  -1       use fast BAM compression (implies -b)\n",
            "  -u       uncompressed BAM output (implies -b)\n",
            "  -h       include header in SAM output\n",
            "  -H       print SAM header only (no alignments)\n",
            "  -c       print only the count of matching records\n",
            "  -o FILE  output file name [stdout]\n",
            "  -U FILE  output reads not selected by filters to FILE [null]\n",
            "  -t FILE  FILE listing reference names and lengths (see long help) [null]\n",
            "  -L FILE  only include reads overlapping this BED FILE [null]\n",
            "  -r STR   only include reads in read group STR [null]\n",
            "  -R FILE  only include reads with read group listed in FILE [null]\n",
            "  -q INT   only include reads with mapping quality >= INT [0]\n",
            "  -l STR   only include reads in library STR [null]\n",
            "  -m INT   only include reads with number of CIGAR operations consuming\n",
            "           query sequence >= INT [0]\n",
            "  -f INT   only include reads with all bits set in INT set in FLAG [0]\n",
            "  -F INT   only include reads with none of the bits set in INT set in FLAG [0]\n",
            "  -x STR   read tag to strip (repeatable) [null]\n",
            "  -B       collapse the backward CIGAR operation\n",
            "  -s FLOAT integer part sets seed of random number generator [0];\n",
            "           rest sets fraction of templates to subsample [no subsampling]\n",
            "  -@, --threads INT\n",
            "           number of BAM/CRAM compression threads [0]\n",
            "  -?       print long help, including note about region specification\n",
            "  -S       ignored (input format is auto-detected)\n",
            "      --input-fmt-option OPT[=VAL]\n",
            "               Specify a single input file format option in the form\n",
            "               of OPTION or OPTION=VALUE\n",
            "  -O, --output-fmt FORMAT[,OPT[=VAL]]...\n",
            "               Specify output format (SAM, BAM, CRAM)\n",
            "      --output-fmt-option OPT[=VAL]\n",
            "               Specify a single output file format option in the form\n",
            "               of OPTION or OPTION=VALUE\n",
            "  -T, --reference FILE\n",
            "               Reference sequence FASTA FILE [null]\n",
            "\n"
          ]
        }
      ],
      "source": [
        "! samtools view"
      ]
    },
    {
      "cell_type": "markdown",
      "metadata": {
        "id": "lBUia_8DP-gu"
      },
      "source": [
        "Можно загрузить файл с google drive напрямую с помощью функции из чата тг:\n"
      ]
    },
    {
      "cell_type": "code",
      "source": [
        "def download_from_disk(id):\n",
        "  import gdown\n",
        "  gdown.download(f'https://drive.google.com/uc?id={id}&confirm=t', quiet=False)"
      ],
      "metadata": {
        "id": "dHRfyHPfIp2v"
      },
      "execution_count": null,
      "outputs": []
    },
    {
      "cell_type": "code",
      "execution_count": null,
      "metadata": {
        "id": "cuOUtgXNwoQh",
        "colab": {
          "base_uri": "https://localhost:8080/"
        },
        "outputId": "e67985f7-b0c1-4f2c-bf10-2c63a61dcf9a"
      },
      "outputs": [
        {
          "output_type": "stream",
          "name": "stderr",
          "text": [
            "Downloading...\n",
            "From: https://drive.google.com/uc?id=1nsFBUh-PVGviefElK1WEf6GI04ViZ_Ab&confirm=t\n",
            "To: /content/SRR5836473_1_bismark_bt2_pe.bam\n",
            "100%|██████████| 667M/667M [00:03<00:00, 199MB/s]\n",
            "Downloading...\n",
            "From: https://drive.google.com/uc?id=1T9PGnQh_62pobffy_OXwWuPKSbmILbml&confirm=t\n",
            "To: /content/SRR3824222_1_bismark_bt2_pe.bam\n",
            "100%|██████████| 1.56G/1.56G [00:13<00:00, 119MB/s] \n",
            "Downloading...\n",
            "From: https://drive.google.com/uc?id=1iXFty011ai78gs8jwuRxFnSqck5TqEl0&confirm=t\n",
            "To: /content/SRR5836475_1_bismark_bt2_pe.bam\n",
            "100%|██████████| 960M/960M [00:04<00:00, 217MB/s]\n"
          ]
        }
      ],
      "source": [
        "# bam файлы грузим в директорию\n",
        "download_from_disk(\"1nsFBUh-PVGviefElK1WEf6GI04ViZ_Ab\")\n",
        "download_from_disk(\"1T9PGnQh_62pobffy_OXwWuPKSbmILbml\")\n",
        "download_from_disk(\"1iXFty011ai78gs8jwuRxFnSqck5TqEl0\")"
      ]
    },
    {
      "cell_type": "code",
      "source": [
        "# отчеты о выравнивании грузим в колаб с компьютера"
      ],
      "metadata": {
        "id": "pkUcKexXjHzK"
      },
      "execution_count": null,
      "outputs": []
    },
    {
      "cell_type": "code",
      "execution_count": null,
      "metadata": {
        "colab": {
          "base_uri": "https://localhost:8080/"
        },
        "id": "AxMpAQFVQFR8",
        "outputId": "f56bece8-03c3-4359-b9ca-6412e2917db7"
      },
      "outputs": [
        {
          "output_type": "stream",
          "name": "stdout",
          "text": [
            "total 34G\n",
            "-rw-r--r-- 1 root root  14K Feb 17 18:36 condacolab_install.log\n",
            "drwxr-xr-x 8 root root 4.0K Feb 17 18:18 FastQC\n",
            "-rw-r--r-- 1 root root 9.8M Jan 15  2020 fastqc_v0.11.9.zip\n",
            "drwxr-xr-x 1 root root 4.0K Feb  1 14:32 sample_data\n",
            "-rw------- 1 root root 1.5G Feb 17 19:29 SRR3824222_1_bismark_bt2_pe.bam\n",
            "-rw-r--r-- 1 root root 1.9K Feb 17 18:59 SRR3824222_1_bismark_bt2_PE_report.txt\n",
            "-rw------- 1 root root 636M Feb 17 19:29 SRR5836473_1_bismark_bt2_pe.bam\n",
            "-rw-r--r-- 1 root root 1.9K Feb 17 18:59 SRR5836473_1_bismark_bt2_PE_report.txt\n",
            "-rw-r--r-- 1 root root  32G Feb 17 18:21 SRR5836473_1.fastq\n",
            "-rw-r--r-- 1 root root 570K Feb 17 18:36 SRR5836473_1_fastqc.html\n",
            "-rw-r--r-- 1 root root 296K Feb 17 18:36 SRR5836473_1_fastqc.zip\n",
            "-rw------- 1 root root 916M Feb 17 19:29 SRR5836475_1_bismark_bt2_pe.bam\n",
            "-rw-r--r-- 1 root root 1.9K Feb 17 18:59 SRR5836475_1_bismark_bt2_PE_report.txt\n"
          ]
        }
      ],
      "source": [
        "! ls -lh"
      ]
    },
    {
      "cell_type": "code",
      "execution_count": null,
      "metadata": {
        "colab": {
          "base_uri": "https://localhost:8080/"
        },
        "id": "yMQy_LQ8xSOP",
        "outputId": "325675a9-2100-4196-850a-4fe39f846835"
      },
      "outputs": [
        {
          "output_type": "stream",
          "name": "stdout",
          "text": [
            "SRR5836473.18_18/1\t99\tchr11\t116830009\t0\t139M\t=\t116830059\t190\tTTTATTTTGTTATTGGATTTAGAGATTATTTGGCGGGAATCGGGTTTTTTTTTTTTTTTTTTATAATAGAGTGTCGTAATAGTAAAATTGAGTTTTGATTAGAGTGATTTTGATTTGGTTTCGTTTTTTTTTTCGTTCG\tFKKKKKKKKKKKKKKKK<FKKKKFKKKKKKKKKKKKKFKKKKKKFAFKKKKKKKKKKKKKKKAKFFFFKFF7FFFKFKK7AKKKKKKKKAFKKKKAFKKAFKFK,F<FAKKKAFAFFF,FKKKKKKKKKKKKFF<A77F\tNM:i:37\tMD:Z:0C1C2C0C2C2C6C0C23C0C0C0C0C1C0C0C0C0C2C0C2C4C0T8G2C12C4T1C7C0C4C4C1C4C3C2C3C2\tXM:Z:h.h..hx..h..x......x.............Z......Z...hhhhh.hhhhh..hh..h....x.......Z....x............h......x.......hh....h....h.xZ...h...h..xZ..xZ.\tXR:Z:CT\tXG:Z:CT\n",
            "SRR5836473.18_18/1\t147\tchr11\t116830059\t0\t140M\t=\t116830009\t-190\tTTTTTTTTTTTTATAATAGAGTGTCGTAATAGTAAAATTGAGTTTTGATTAGAGTGATTTTGATTTGGTTTCGTTTTTTTTTTCGTTCGTTTAGTTTTTTTTTTGTAGTTCGAGTTGTTATTTTAGTTGAATTGTTTATT\tKKF<A,KAFA7A7,K77KF<F<A<F<7,,7,7A7,,7AFFFA<,KKKAA<<,7KAF7KKFAA<AKFKKF7<KKKKFKKKKKFFKKFFFKKKKKKKKKFKKKKKKKKFKKFKKKKKKKKKKKKKKKKKKKKKKKKKKKKKF\tNM:i:39\tMD:Z:0C0C0C0C0C2C0C2C4C0T8G2C12C4T1C7C0C4C4C1C4C3C2C3C3C5C0C1C1C2T0C2C0C7C0C2C9C0C3C3\tXM:Z:hhhhh..hh..h....x.......Z....x............h......x.......hh....h....h.xZ...h...h..xZ..xZ..h.....hh.h.h...x..hxZ......hh..h.........xz...h...\tXR:Z:GA\tXG:Z:CT\n",
            "SRR5836473.30_30/1\t99\tchr11\t24232407\t0\t140M\t=\t24232506\t239\tGGTAAGAAGGATATATGTTTAATTATGTTTATAGTAGTTTTATTTATAATAGTTAGAAGTTGGAAAGAATTTAGATGTTTTTCAATAGAGGAATGGATATTAAAAAATGTGGTATATTTATATAATGGAGTATTATTTAG\tKKKKKKKKKKKKKKKKKKKKKKKKKKKKKKKKKKKKKKKKKKKKKKKKKKKKKKKKKKKKKKKKKKKKKKKKKKKKKKKKKKKKKKKKKKKKKKKKKKKKKKKKKKKKKFFKKKKKKKKKKKKKKKKKKKFKKKKKAFKK\tNM:i:29\tMD:Z:0T10C1C3C1C0C1C6C4C2C0C13C0C5C9C0C0C5C0C0C0C4C13C0C13C5C1C12C1C2\tXM:Z:...........h.h...h.h..h......h....x..hh.............hx.....x.........hhx.....hhhh.H..x.............hh.............h.....h.h............h.x..\tXR:Z:CT\tXG:Z:CT\n",
            "SRR5836473.30_30/1\t147\tchr11\t24232506\t0\t140M\t=\t24232407\t-239\tTTAAAAAATGTGGTATATTTATATAATGGAGTATTATTTAGTTATTAAAAAGAATGAATTTATGAAATTTTTAGGTAAATGGATGGATTTGGAGGGTATTATTTTGAGTGAGGTAATTTAATTATAAAAGAATTTATATG\t7AKKKKFFFAA7AKFAKKFKFAKKKKKFA7KKKFAFFAKKKKKKFFKFKKKKKKKKKAKKKKKFKKKKKKKKKKKKKFKKKKKKKKKFKKKKKKKKKKKKKKA<AKFKF<AKKKKKKFKFKKKKKKKKKKKKKKKKKKFF\tNM:i:28\tMD:Z:0C0C13C5C1C12C1C2C27C0C4C0C10C0C7C2C2C0C12C0C0C3C1C7C1C1C1C0A0\tXM:Z:hh.............h.....h.h............h.x..h...........................hh....h...........hx.......h..h..hx............hhh...h.h.......h.h.h.h.\tXR:Z:GA\tXG:Z:CT\n",
            "SRR5836473.39_39/1\t83\tchr11\t105051790\t0\t13M1D127M\t=\t105051789\t-142\tTTAAAAACTACATATACTAATATACTAACAAACAAATAAACCAATAAAATAAAATTAAAAACCCAAAAATAAACCCACACACCTATAATCACTTAATCTTTATCAAAAAAACTAAAACCATCCAATAAAAAAAAAACACC\tKFKKKKKKKKKKKKKKKKKKKKKKKKKKKKKKKKKKKKKKKKKKKKKKKKKKKKKKKKKFKKKKKKKKKKKKFKKKKKFKKKKKKKKKKKKKKKKKKKKKKKKKKKKKKKKKKKKKFKKKKKKKKKKKKKKKKKKKKKKK\tNM:i:31\tMD:Z:0A8G3^G0G4G0G6G3G4G2G6G0G4G4G2G5G4G15G0G6G6G0A3G0G0G1G13G1G0G6G3G1\tXM:Z:.........x...h....xh......x...x....h..h......hh....h....h..h.....x....h...............hh......h......h....hhh.h.............x.hh......h.....\tXR:Z:CT\tXG:Z:GA\n",
            "SRR5836473.39_39/1\t163\tchr11\t105051789\t0\t14M1D126M\t=\t105051790\t142\tATTAAAAACTACATATACTAATATACTAACAAACAAATAAACCAATAAAATAAAATTAAAAACCCAAAAATAAACCCACACACCTATAATCACTTAATCTTTATCAAAAAAACTAAAACCATCCAATAAAAAAAAAACAC\tKKKKKKKKKKKKKKKKKKKKKKKKKKKKKKKKKKKKKKKKKKKKKKKKKKKKKKKKKKKKKKKKKKKKKKKKKKKKKKKKKKKKKKKKKKKKKKKKKKKKFKKKKK<FKA<FKFFKKKKKKKKKFKFKKFK,,<FA,,7<\tNM:i:32\tMD:Z:0G0A8G3^G0G4G0G6G3G4G2G6G0G4G4G2G5G4G15G0G6G6G0A3G0G0G1G13G1G0G6G3G0\tXM:Z:h.........x...h....xh......x...x....h..h......hh....h....h..h.....x....h...............hh......h......h....hhh.h.............x.hh......h....\tXR:Z:GA\tXG:Z:GA\n",
            "SRR5836473.41_41/1\t99\tchr11\t40185837\t0\t140M\t=\t40185875\t178\tAATTTTTTTGGGGATTGTATTGAATTTGTAGATTGTTTTTGGTAAGAGAGTTATTTTTATTATATTGATTTTGTTAATTTATGAATATGGGAGATTTTTTTATTTTTTGAGATTTTTTTTAATTTTTTTTTTTAGAGATT\tKKKKKKKKKKKKKKKFKKKKKKKKKKKKKKFKKKKKKKKKFKKKKKKKKKFKKKKKKKKKKKKKKKKKKKKKKKKKKKKKKKKKKKKKKKKKKKKKKKKKKKKKKKKKKKKKKKKKKKKKKKKKKKKKKKKKKF7<77FF\tNM:i:28\tMD:Z:6G0A9C7C9C6C4T2C0C7C9C0C2C0C3C0C5C9C3C0C2C2C6C2C8C3C2C5C1\tXM:Z:.................h.......x.........h......h.......hh.......h.........hx..hh...hh.....h.........h...hh..h..x......h..h........h...h..x.....h.\tXR:Z:CT\tXG:Z:CT\n",
            "SRR5836473.41_41/1\t147\tchr11\t40185875\t0\t140M\t=\t40185837\t-178\tTTGGTAAGAGAGTTATTTTTATTATATTGATTTTGTTAATTTATGAATATGGGAGATTTTTTTATTTTTTGAGATTTTTTTTAATTTTTTTTTTTAGAGATTTGAAGTTTTTATTATATAGATTTTTTATTTTTTTAGTG\tAKKKKKAAFFFKKKKKKKKKKKKKFFKKKKKKKKKKFAFKKKKKKKKKKKKKKKKKKKKKKKKKKKKKKFKKKKKKKKKKKKFKKKKKKKKKKKKKKKKKKKKKKKKKKKKKKKKKKKKKKKKKKKKKKKKKKKKKKKKK\tNM:i:31\tMD:Z:4C4T2C0C7C9C0C2C0C3C0C5C9C3C0C2C2C6C2C8C3C2C5C8C4C3A4C3C1C2C6T0\tXM:Z:....h.......hh.......h.........hx..hh...hh.....h.........h...hh..h..x......h..h........h...h..x.....h........h....h........h...h.h..h.......\tXR:Z:GA\tXG:Z:CT\n",
            "SRR5836473.46_46/1\t83\tchr11\t22771774\t8\t140M\t=\t22771594\t-320\tCAAATTAAAAAAAAAAAAATAAAAATATCACTTTTTACAAATAATATAATAATATATATAAATAACCCTAAAAATTCTATCACAAAACTCCTAAACCTAATAAACAACTTCAATAAAATAACTAAATATAAAATTAACTC\tKKKKAAKKKKKKKKKKKKKKKKKKKKKKKKKKKKKKKKKKKKKKKKKKKKKKKKKKKKKKKKKKKKKKKKKKKKKKKKKKKKKKKKKKKKKKKKKKKKKKKKKKKKKKKKKKKKKKKKKKKKKKKKKKKKKKKKKKKKKK\tNM:i:26\tMD:Z:6G0G4G2G2G1C15G2G2G4G3G9G1G13C1C2G1G9G3G7G5G1G2G2G2G0G15\tXM:Z:......hh....h..h..h.................h..x..h....h...h.........h.h....................h.........h...x.......x.....x.h..h..h..xh...............\tXR:Z:CT\tXG:Z:GA\n",
            "SRR5836473.46_46/1\t163\tchr11\t22771594\t8\t140M\t=\t22771774\t320\tAGAATAAAAACAATCTACAACAAACCAATAACCAACATCAAAATAAATAATAAAAAACTAAAAACAATCCCACTAAAATCAAAAACTAAACAAAACTACCCACTTTCTCCCTACCTATTCAACATTATACTTAAAATCCT\tFKKKKKKKKKKKKKKKKKKKKKKKKKKKKKKKKKKKKKKKKKKKKKKKKKKKKKKKKKKKKKKKKKKKKKKKKKKKKKKKKAKKKKKKKKKKKKKKKKKKKKKKKKFFKFKKKKKKFKKKKKKK<AKKKKKKFFF7<A<K\tNM:i:25\tMD:Z:1T0G6G9G7G2G11G5G0G1G1G2G2G0G2G17G0G0G4G4G0G2G28G5G2G4\tXM:Z:..h......h.........x.......x..h...........h.....hh.h.h..h..xh..h.................xhh....h....hh..x............................h.....h..h....\tXR:Z:GA\tXG:Z:GA\n"
          ]
        }
      ],
      "source": [
        "! samtools view SRR5836473_1_bismark_bt2_pe.bam | head"
      ]
    },
    {
      "cell_type": "code",
      "source": [
        "! samtools view SRR3824222_1_bismark_bt2_pe.bam | head"
      ],
      "metadata": {
        "id": "0_k3PEesDmra",
        "colab": {
          "base_uri": "https://localhost:8080/"
        },
        "outputId": "2b015eb2-9516-4b48-8728-03a51243eda1"
      },
      "execution_count": null,
      "outputs": [
        {
          "output_type": "stream",
          "name": "stdout",
          "text": [
            "SRR3824222.40_40/1\t99\tchr11\t8735553\t16\t140M\t=\t8735587\t174\tTTAAAGGAGAATTGTTAATTTTAGATTTAGTAAGGTTTAGGTAAGAATTATGTTATTAGTAATATTACGATTTGTGGTTAAAATAGGAGTTGGAAGTTGTTTTTTTTTATTTTTGTTATTTTTATAGTTTGAGGAATTAA\tKKKKKKKKKKKKKKKKKKKKKKKKKKKKKKKKKKKKKKKKKKKKKKKKKKKKKKKKKKKKKKKKKKKKKKKKKKKKKKKKKKKKKKKKK7FKKKKKKKKKKKKKKKKKKKKKKKKKKKKKKKKKKKKKKKKKKKKKKKKK\tNM:i:29\tMD:Z:0C6T5A1C2C0C1C13C0C4C11C8C2C11C11C7C3C0C1C2C2C0C0C8C0C1C2C0C7C3\tXM:Z:h..............h..hh.x.............hh....h...........h........h..h.Z.........h...........x.......z...hh.h..h..hhx........hh.x..hx.......h...\tXR:Z:CT\tXG:Z:CT\n",
            "SRR3824222.40_40/1\t147\tchr11\t8735587\t16\t140M\t=\t8735553\t-174\tGTTTAGGTAAGAATTATGTTATTAGTAATATTACGATTTGTGGTTAAAATAGGAGTTGGAAGTTGTTTTTTTTTATTTTTGTTATTTTTATAGTTTGAGGAATTAAGGATATTTTGTAGTAATAGTAAGGGTGAAAAGTT\tKF<KKKKKKKKKKKKKKKFKKKKKKKKKFFAKKKKKKKKKKKKKKKKKKKKKKKKKKKKKKKKKKKKKKKKKKKKKKKKKKKKKKKKKKKKKKKKKKKKKKKKKKKKKKKKKKKKKKKKKKKKKKKKKKKKKKKKKKKKK\tNM:i:30\tMD:Z:1C0C4C11C8C2C11C11C7C3C0C1C2C2C0C0C8C0C1C2C0C7C6C1C0C3C5C2C12C0C0\tXM:Z:.hh....h...........h........h..h.Z.........h...........x.......z...hh.h..h..hhx........hh.x..hx.......h......h.hh...x.....x..h............hx\tXR:Z:GA\tXG:Z:CT\n",
            "SRR3824222.42_42/1\t99\tchr11\t8735518\t0\t140M\t=\t8735603\t225\tAATTAGTATGTATAGTTTTGAGTATTGTGTAGTTTTTAAAGGAGAATTGTTAATTTTAGATTTAGTAAGGTTTAGGAAAGAATTATGTTATTAGTAATATTACGATTTGTGGTTAAAATAGGAGTTGGAAGTCGTTTTTT\tKKKKKKKKKKKKKKKKKKKKKKFFKKKKKKKKKKKKKKKKKKKKKKKKKKKKKKKKKKKKKKKKKKKKKKKKKKKKKKKKKKKFKKKKKKKKKKKKKKKKKKKKKKKKKAKKKKKKKKKKKKKKFKKKKKK7AK<FKKKF\tNM:i:28\tMD:Z:2C0C1C4C1C4C6C4C2C1C0C6T5A1C2C0C1C13C0C4C11C8C2C11C11C11C0C1C0\tXM:Z:..hh......h.x....x......x....x..h.hh..............h..hh.x.............hh................h........h..h.Z.........h...........x.......Z...hh.h\tXR:Z:CT\tXG:Z:CT\n",
            "SRR3824222.42_42/1\t147\tchr11\t8735603\t0\t140M\t=\t8735518\t-225\tTGTTATTAGTAATATTACGATTTGTGGTTAAAATAGGAGTTGGAAGTCGTTTTTTTTTATTTTTGTTATTTTTATAGTTTGAGGAATTAAGGATATTTTTTAGTAATAGTAAGGGTGAAAAGTTAGAGGTTATTTAAGGG\t<FAKKKKKKKKKAKKKKKKFKKKKKKFFAAFAFAKKKKKKFKKKKKKKKFKKKKKKKFKKKKKKKKKKKKKKKKKKKKKKKKKKKKFKKKKKKKKKFKKKFKKKKKKKKKKKKKKKKKKKKKKKKKKKKKKKKKKKKKKK\tNM:i:31\tMD:Z:3C8C2C11C11C11C0C1C2C2C0C0C8C0C1C2C0C7C6C1C0C2G0C5C2C12C0C5C0C1G0C6\tXM:Z:...h........h..h.Z.........h...........x.......Z...hh.h..h..hhx........hh.x..hx.......h......h.hh...x.....x..h............hx.....hx..h......\tXR:Z:GA\tXG:Z:CT\n",
            "SRR3824222.52_52/1\t99\tchr11\t58717111\t23\t140M\t=\t58717131\t160\tTAAAAAATATTTACGGTTTTGTTTTTTTTTTTTAAAAGATATTAAGAGTTATAGGTGTGGGTCGTGATAGTATTTACGGGAGGAATCGGGTTAATGTTTATTTAAGTTAAGGTTAAAAGTTTATTTATTTATGGATGAGA\tKKKKKKKKKKKKKKKKKKKKKKKKKKKKKKKKKKKKKKKKKKKKKKKKAFKKKKKKKKKKKKKFKKKKKKKKKKKKKKKKFKKKKKKKKK,FKKKKKKKKKKKKKKKKKKKKKKKKKKKFKKFKKKKKKKKKKKKKKKFK\tNM:i:39\tMD:Z:0C0C8C2A2C1C2C0C1C0C0C0C2C0C0C8C0C5C0C1C18C1C0C0C14A1C5C0C1C0C0C3C0C11C0C0C1C1C2C11\tXM:Z:h.........h.....h.x..hh.hhhh..hhh........hh.....hh.x..........Z.......h.hhh.Z.........Z....h.....hh.hhh...hh...........hhh.h.h..h...........\tXR:Z:CT\tXG:Z:CT\n",
            "SRR3824222.52_52/1\t147\tchr11\t58717131\t23\t140M\t=\t58717111\t-160\tGTTTTTTTTTTTTAAAAGATATTAAGAGTTATAGGTGTGGGTCGTGATAGTATTTACGGGAGGAATCGGGTTAATGTTTATTTAAGTTAAGGTTAAAAGTTTATTTATTTATGGATGAGAAAATTATTTGATTATTTTAG\t<7<,F<FFKF<<AAAKKF<<KFA,FFFKKFA,KKKKFFKFKFKKKKFKFKFAAAFAAKKKKKKKF,FKKKFKKKKKKKKKKKKKKKKKKKKKKKKKKKKKKKKKKKKKKKKKKKKKKKKKKKKKKKKKKKKKKKKKKFFF\tNM:i:38\tMD:Z:1C0C1C0C0C0C2C0C0C8C0C5C0C1C18C1C0C0C14A1C5C0C1C0C0C3C0C11C0C0C1C1C2C15C7C1C0C1C2\tXM:Z:.hh.hhhh..hhh........hh.....hh.x..........Z.......h.hhh.Z.........Z....h.....hh.hhh...hh...........hhh.h.h..h...............h.......h.hh.x..\tXR:Z:GA\tXG:Z:CT\n",
            "SRR3824222.56_56/1\t99\tchr11\t87478638\t0\t140M\t=\t87478712\t212\tATAGTACGGTTTTTAATTTCTTTTTTTTTTATTAATTAAGTTTAATAAGGTAATGTTAAATTGAGGTGATTAAATGATTTTTTTATTCGTAGATGAGTGGGTTTTTAATTTTGGTTTGGGTGGACATTGATTTGATTTTT\tKKKKKKKKKKKKKKKKKKKKKKKKKKKKKKKKKKKKKKKKKKKKKKKKKKKKKKKKKKKKKKKKKKKKKKKKKKKKKKKKKKKKKKKKKFKKKKKKKAKKKK7<FKKKKKKKKKFAKKKKAKKFFKKKFFKKKFFAA,A7\tNM:i:32\tMD:Z:1C8C1C0C2C0C3C1C0C0C0C0C0C21C2C1C1T2C9C12C2C0T13C1A4C0C4C15C0C0C4C0C1\tXM:Z:.x....Z...h.hh..hh.H.h.hhhhhh.....................h..z.h....x.........h............h..x..............h......hh....h.........H.....hxz....hh.\tXR:Z:CT\tXG:Z:CT\n",
            "SRR3824222.56_56/1\t147\tchr11\t87478712\t0\t138M\t=\t87478638\t-212\tTGATTTTTTTATTCGTAGATGAGTGGGTTTTTAATTTTGGTTTGGGTGGACATTGATTTGATTTTTTTTGTGGGTGTTGTTACGATTTATATTTGTGGTTTTTGGTATTTTTTGGGGAGGGGAGGGAGAGTTATAGAT\tAFAFKFAKKKKKFKKAKKKKKKFKAAKF<FA<AFFKKKKKKAKKKKKKKKKKKKKKKKKKKKKKKKKKKFAFKF7FKKKKKKKKK7KKKKKKKKKKKKKKKKKKKKKKKKKKKKKKKFF<FKA,F,KKKKKKKKKKKF\tNM:i:31\tMD:Z:9C2C0T13C1A4C0C4C15C0C0C4C0C1C0C0C7C3C4C0C0C1C1C0C5C1C7C16C4C0C0T5\tXM:Z:.........h..x..............h......hh....h.........H.....hxz....hh.hxz.......x...h.Z..hhh.h.hx.....h.h.......h.....................hh......\tXR:Z:GA\tXG:Z:CT\n",
            "SRR3824222.65_65/1\t83\tchr11\t28372568\t0\t140M\t=\t28372555\t-153\tCAACTCAATATTATTCTTAATAAAATATATTTCAAATTTATTCAATCAAACTTAACCAAAATTCCAACGTCCTACTTAAAATTCAACTAAAAAATTACCTATTCAACACAAATTAACATTATAAAATCAAAACTTTCTAC\tKKFKKKKKKKKKKKKKKKKKKKKKKKKKKKKKKKKKKKKKKKKKKKKKKKKKKKKKKKKKKKKKKKFKKKKKKKKKKKKKKKKKKKKKKKKKKKKKKKKKKKKKKKKKKKKKKKKKKKKKKKKKKKKKKKKKKKKKKKKK\tNM:i:23\tMD:Z:7G1G14G1G12G4G9G3G0G0G8C19G0G2G11G3T5G9G3G1G1C1A2G1\tXM:Z:.......x.h..............h.h............h....x.........h...xhh.......Z....................hh..h...........x.........h.........h...x.h......x.\tXR:Z:CT\tXG:Z:GA\n",
            "SRR3824222.65_65/1\t163\tchr11\t28372555\t0\t140M\t=\t28372568\t153\tTACGAAAAAATATCAACTCAATATTATTCTTAATAAAATATATTTCAAATTTATTCAATCAAACTTAACCAAAATTCCAACGTCCTACTTAAAATTCAACTAAAAAATTACCTATTCAACACAAATTAACATTATAAAAT\tKKKKKKKKKKKKKKKKKKKKKKKKKKKKKKKKKKKKKKKKKKKKKKKKKKKKKKKKKKKKKKKKKKKKKKKKKKKKKKKKKKFKKKKKKKKKKKKKKKKKKKKKKKKKKKKKKKKKKFFKKKFKKKFKKKKKKKKKKKKA\tNM:i:23\tMD:Z:1G0T1G1G0G12G1G14G1G12G4G9G3G0G0G8C19G0G2G11G3T5G9G1\tXM:Z:.h.Hh.hh............x.h..............h.h............h....x.........h...xhh.......Z....................hh..h...........x.........h.........h.\tXR:Z:GA\tXG:Z:GA\n"
          ]
        }
      ]
    },
    {
      "cell_type": "code",
      "source": [
        "! samtools view SRR5836475_1_bismark_bt2_pe.bam | head"
      ],
      "metadata": {
        "id": "PAu4LPuvDm6M",
        "colab": {
          "base_uri": "https://localhost:8080/"
        },
        "outputId": "2dedb5ab-02af-4516-d305-a82ceea745b5"
      },
      "execution_count": null,
      "outputs": [
        {
          "output_type": "stream",
          "name": "stdout",
          "text": [
            "SRR5836475.1_1/1\t83\tchr11\t27610910\t0\t140M\t=\t27610897\t-153\tTTTACAAAAAATTTAAAACAAATAAAATAAAAACAAAATAAACCTTTAATAACCTTAAAAAAAATAACTACCCCTCTTTTATTTTAAAAAACCAATTCTTTAAAATACAATAAACACATTCAACTATTCCTTATCCCATA\tFFKKAKAKKKKKKKKKKKKKKKKKKFKKKKKKKKKFAKKKKKKKKKKKKKKKKKKKKKKKKKKKKKKKKKKKKKKKKKKKKKKKKKKKKKKKKKKKKKKKKKKKKKKKKKKKKKKKKKKKKKKKKKKKKKKKKKKKKKKK\tNM:i:39\tMD:Z:1G1G3G7G0G8G0G1G2G0G3G0G1G0G0G5G0G1G5G0G0G0G0G1T3G2G10G1C5G1G12G0G1G1G2G1G3G14G6G0\tXM:Z:...h...h.......hh........hh.h..hh...hh.hhh.....hh.h.....hhhhh.....h..x..........h.......h.h............hh.h.z..h.h...z..............h......h\tXR:Z:CT\tXG:Z:GA\n",
            "SRR5836475.1_1/1\t163\tchr11\t27610897\t0\t140M\t=\t27610910\t153\tCCTTTAATATCAATTTACAAAAAATTTAAAACAAATAAAATAAAAACAAAATAAACCTTTAATAACCTTAAAAAAAATAACTACCCCTCTTTTATTTTAAAAAACCAATTCTTTAAAATACAATAAACACATTCAACTAT\tFFKKKKKKKKKKKKKKKKKKKKKKKKKKKKKKKKKKKKKKKKKKKKKKKKKKKKKKKKKKKKKKKKKKKKKKKKKKKFKKKKKKKKKKKFKKKKKKKKKKKKAKKKKFKKKFFKKKKKFKKAAKKKAFAAFKKKF<AKKK\tNM:i:41\tMD:Z:2C2G5G0G1G1G3G7G0G8G0G1G2G0G3G0G1G0G0G5G0G1G5G0G0G0G0G1T3G2G10G1C5G1G12G0G1G1G2G1G3G9\tXM:Z:.....h.....zx...h...h.......hh........hh.h..hh...hh.hhh.....hh.h.....hhhhh.....h..x..........h.......h.h............hh.h.z..h.h...z.........\tXR:Z:GA\tXG:Z:GA\n",
            "SRR5836475.28_28/1\t83\tchr11\t58716819\t0\t140M\t=\t58716800\t-159\tAATAACAAAAATAAAAAAAAACAACTTCCAACTCCTATTTTAACCACAAATCATAATATTACTAATAACATAATTCTTACCTAAACCTTACTAAATCTAAAATTAACAATTCTCCTTTAAAAACTACACAATACTCAAAA\tKKKKKKKKKKKFKKKKKKKKKFAKKKKKKFAKKKKKKKKKKKKKKKKKKKKKKKKKKKKKKKKKKKKKKKKKKKKKKKKKKKKKKKKKKKKKKKKKKKKKKKKKKKKKKKKKKKKKKKKKKKKKKKKKKKKKKKKKKKKK\tNM:i:28\tMD:Z:7G1G2G1G0G1G0G3G7G11G11G0G1G8G11G0T3G0G4G8G2G2G14G0G1G2G4G6G2\tXM:Z:.......x.h..h.hh.hh...z.......x...........h...........hh.h........h...........h....hh....h........x..h..h..............hh.h..x....x......x..\tXR:Z:CT\tXG:Z:GA\n",
            "SRR5836475.28_28/1\t163\tchr11\t58716800\t0\t140M\t=\t58716819\t159\tAAGATCCTCAAACTATAAAAATAACAAAAATAAAAAAAAACAACTTCCAACTCCTATTTTAACCACAAATCATAATATTACTAATAACATAATTCTTACCTAAACCTTACTAAATCTAAAATTAACAATTCTCCTTTAAA\tKKKFKKKKKKKKKKKKKKKKKKKKKKKKKKKKKKKKKKKKKKKKKKKKKKFKKKKKKKKKKKKKKKKKKKKKKKKKKKKKKKKKKKKKKKFKKKFFKAKKK7FFFKKKKKKFAA<FKAFKKKFKFF<AAFKKKKKKKFA<\tNM:i:32\tMD:Z:0T2T6G0G2G1G0G0G7G1G2G1G0G1G0G3G7G11G11G0G1G8G11G0T3G0G4G8G2G2G14G0G0\tXM:Z:..H.......xh..x.hhh.......x.h..h.hh.hh...z.......x...........h...........hh.h........h...........h....hh....h........x..h..h..............hh\tXR:Z:GA\tXG:Z:GA\n",
            "SRR5836475.64_64/1\t99\tchr11\t43166397\t0\t140M\t=\t43166396\t141\tATAAAGTTTGTAAGATTAATGGGTTTTTTTTTTTATTGATGGTTGATTAGGTTATTTTTTGATATATATGTAGTTAGAGATTTGAGTTTTGGGGGGTATTGGTTAGTTTATAATGTTGTTTTATTTATAGGGTTGTAGAT\tKKKKKKFKKKKKKKKKKKKKKKKFKKKKKKKKKKKKKKKKKKKKKKKKKKKKKKKKKKKKKKFKKKKKAKKKKKKKKKKKKKKKKKFKKKKKKKKK,<FFKKFKFFKFKKKKKFFKFFFKKKFKKKAKKFKAF7,7AAFK\tNM:i:33\tMD:Z:10C1C2C0C6C0C1C1C3C0C1C6C0C2C4C0C2C2C5C5C2C6C0A4C1C9C9C3T7C0C1C0C10C4\tXM:Z:..........h....hh......hh.h.h...hh.x......xz..h....hh..h..x.....h.....x..h......h.....h.x.........x.........h...........hh.hh..........x....\tXR:Z:CT\tXG:Z:CT\n",
            "SRR5836475.64_64/1\t147\tchr11\t43166396\t0\t140M\t=\t43166397\t-141\tTATAAAGTTTGTAAGATTAATGGGTTTTTTTTTTTATTGATGGTTGATTAGGTTATTTTTTGATATATATGTAGTTAGAGATTTGAGTTTTGGGGGGTATTGGTTAGTTTATAATGTTGTTTTATTTATAGGGTTGTAGA\tKKAAFFKF<<A7FKKKKKKKFAKKKKFKKKKKKKKKKKKKKKKKFKKKKKKKKKKKKKKKKKKKKKKKKKKKKKKKKKKKKKKKKKKKKKKKKKKKKKKKKKKKKKKKKKKKKKKKKKKKKKKKKKKKKKKKKKKKKKKK\tNM:i:33\tMD:Z:11C1C2C0C6C0C1C1C3C0C1C6C0C2C4C0C2C2C5C5C2C6C0A4C1C9C9C3T7C0C1C0C10C3\tXM:Z:...........h....hh......hh.h.h...hh.x......xz..h....hh..h..x.....h.....x..h......h.....h.x.........x.........h...........hh.hh..........x...\tXR:Z:GA\tXG:Z:CT\n",
            "SRR5836475.86_86/1\t83\tchr11\t71167245\t0\t140M\t=\t71167203\t-182\tCTTCTTACCAATTAAAACATCTTCTAAATATATACCCAAAAAAAATATTACTAAATCCTCCAATAATACTATATCCAATTTTCTAAAAAAATACCAAAATAATTTAAAAAATAATTATACAAACTTACAATCCCACCAAC\t<FAAA7KKKKKKFA,FAF<FAFKAKKKKKKKFKFFAFKKKKKKKKKKKKFFKKKKKKKKKKKKKKFKKKKKKKKKFKKKKKKKKKKKKKKKKKKKKKKKKKKKKKKKKKKKKKKKKKKKKKKKKKKKKKKKKKFAKKKKK\tNM:i:36\tMD:Z:10G2G0G0G0G8G0G6G4G0G1G1G0G4G2G0G8G2G6G11G1G0G2C1G3G1C1G4C0C1G1G1G0G2G5G3G13\tXM:Z:..........x..hhhh........xh......h....xh.h.hh....h..xh........x..h......h...........x.hh....x...x...x.......x.h.hh..h.....h...h.............\tXR:Z:CT\tXG:Z:GA\n",
            "SRR5836475.86_86/1\t163\tchr11\t71167203\t0\t140M\t=\t71167245\t182\tTATTATAAATAAAACTACTATAAACATAATTAAACATATATCCTTCTTACCAATTAAAACATCTTCTAAATATATACCCAAAAAAAATATTACTAAATCCTCCAATAATACTATATCCAATTTTCTAAAAAAATACCACA\tKKKKKKKKKKKKKKKKKKKKKKKKKKKKKKKKKKKKKKKKKKAKKKKKKKKKKKKKKKKKKKKKKKKKKKKKKKFKFFKKKKFKKKFFFFKFKKFF<FF<FFKA<A7AF,AA77AFFF,A<<<AF<A7,<<AKA7<7,,7\tNM:i:36\tMD:Z:9A2G0G2G4G6G1G0G1G3G1G12G2G0G0G0G8G0G6G4G0G1G1G0G4G2G0G8G2G6G11G1G0G2C1G3G1\tXM:Z:............hh..x....h......h..h.h...h.h............x..hhhh........xh......h....xh.h.hh....h..xh........x..h......h...........x.hh....x.....\tXR:Z:GA\tXG:Z:GA\n",
            "SRR5836475.89_89/1\t99\tchr11\t7397034\t0\t140M\t=\t7397045\t151\tTTGTTGTTATTTGGAATTTTGATTTTAGTTATTTTGATTGGTGTGTGATGGAATTTTAGGGTTGTTTTGATTTGTATTTTTTTGATGATTAAGGATGTTGAATATTTTTTTAGGTGTTTTTTAGATATTTGGTATTTTTT\tKKKKKKKKKKKKKKKKKKKKKKKKKKKKAFKKKKKKKKFKKKKKKKKKKKKFKKKKKKKKF7FFAFKKKKKKFF<KKKKKKKKKKKKK,KKAKKKKKKKKKKKKKKKKKKKKKKKKAAKKKKKKFKKKKKKKKKKKKKKK\tNM:i:30\tMD:Z:0C2C3C1C0C2A1T7C4C0C3C3C7A8C1C17C4C0C0C15C4C7C8C1C2C0C3C6C0C1C0\tXM:Z:x..x...h.hx............h....hh...x...x................h.x.................h....hhx...............x....h.......x........h.x...h...z......hh.x\tXR:Z:CT\tXG:Z:CT\n",
            "SRR5836475.89_89/1\t147\tchr11\t7397045\t0\t140M\t=\t7397034\t-151\tTGGAATTTTGATTTTAGTTATTTTGATTGGTGTGTGATGGAATTTTAGGGTTGTTTTGATTTGTATTTTTTTGATGATTAAGGATGTTGAATATTTTTTTAGGTGTTTTTTAGATATTTGGTATTTTTTAGGTGAGAACC\tF<AAFKA7KF<KKA<7A<,AFKFKKKKFKKAKKKFKKKKKKK<FAKKFFKKKFKKAAFAFAKFF<7KF7KKKKKKKKKKKKKKKKKKAKAKK<KFFKKKKKAKFFKKKKKKKF,KKFKKKKKKFFKKF,<AFAA,F,F,,\tNM:i:27\tMD:Z:2A1T7C4C0C3C3C7A8C1C17C4C0C0C15C4C7C8C1C2C0C3C6C0C1C9T0T0\tXM:Z:............h....hh...x...x................h.x.................h....hhx...............x....h.......x........h.x...h...z......hh.x...........\tXR:Z:GA\tXG:Z:CT\n"
          ]
        }
      ]
    },
    {
      "cell_type": "code",
      "execution_count": null,
      "metadata": {
        "colab": {
          "base_uri": "https://localhost:8080/"
        },
        "id": "SrGGCxZQ2Ao3",
        "outputId": "ea750ee2-cf6f-4b52-ccc2-3a22e9df58c2"
      },
      "outputs": [
        {
          "output_type": "stream",
          "name": "stdout",
          "text": [
            "[bam_sort_core] merging from 5 files...\n"
          ]
        }
      ],
      "source": [
        "! samtools sort SRR5836473_1_bismark_bt2_pe.bam -o sorted_8cell.bam"
      ]
    },
    {
      "cell_type": "code",
      "source": [
        "! samtools sort SRR3824222_1_bismark_bt2_pe.bam -o sorted_epiblast.bam"
      ],
      "metadata": {
        "id": "fgWh3LpCDzho",
        "colab": {
          "base_uri": "https://localhost:8080/"
        },
        "outputId": "f0f64556-0830-47be-db0d-d30e487de67b"
      },
      "execution_count": null,
      "outputs": [
        {
          "output_type": "stream",
          "name": "stdout",
          "text": [
            "[bam_sort_core] merging from 11 files...\n"
          ]
        }
      ]
    },
    {
      "cell_type": "code",
      "source": [
        "! samtools sort SRR5836475_1_bismark_bt2_pe.bam -o sorted_icm.bam"
      ],
      "metadata": {
        "id": "Xtdv_0eQDz00",
        "colab": {
          "base_uri": "https://localhost:8080/"
        },
        "outputId": "2ef81833-dc54-4a34-8218-55045be294ad"
      },
      "execution_count": null,
      "outputs": [
        {
          "output_type": "stream",
          "name": "stdout",
          "text": [
            "[bam_sort_core] merging from 7 files...\n"
          ]
        }
      ]
    },
    {
      "cell_type": "code",
      "execution_count": null,
      "metadata": {
        "id": "GErvoOM-3Axj"
      },
      "outputs": [],
      "source": [
        "! samtools index  sorted_8cell.bam"
      ]
    },
    {
      "cell_type": "code",
      "source": [
        "! samtools index sorted_epiblast.bam"
      ],
      "metadata": {
        "id": "vTL5tmABEJiK"
      },
      "execution_count": null,
      "outputs": []
    },
    {
      "cell_type": "code",
      "source": [
        "! samtools index sorted_icm.bam"
      ],
      "metadata": {
        "id": "96J02WIsEJr-"
      },
      "execution_count": null,
      "outputs": []
    },
    {
      "cell_type": "markdown",
      "source": [
        "Получим файлы с mouse_chr\n"
      ],
      "metadata": {
        "id": "22vHD9W1LUMR"
      }
    },
    {
      "cell_type": "code",
      "source": [
        "download_from_disk(\"1xLz8No9Isgp5H7nZbKIVe4fINOjL_8-G\")"
      ],
      "metadata": {
        "colab": {
          "base_uri": "https://localhost:8080/"
        },
        "id": "N7SvIVLaLT6Q",
        "outputId": "5dde1955-a798-452c-a4bf-e4572733f417"
      },
      "execution_count": null,
      "outputs": [
        {
          "output_type": "stream",
          "name": "stderr",
          "text": [
            "Downloading...\n",
            "From: https://drive.google.com/uc?id=1xLz8No9Isgp5H7nZbKIVe4fINOjL_8-G&confirm=t\n",
            "To: /content/mouse_chr.zip\n",
            "100%|██████████| 366M/366M [00:01<00:00, 197MB/s]\n"
          ]
        }
      ]
    },
    {
      "cell_type": "code",
      "source": [
        "#распакуем\n",
        "! unzip mouse_chr.zip"
      ],
      "metadata": {
        "colab": {
          "base_uri": "https://localhost:8080/"
        },
        "id": "4Ne2mVR2L0sk",
        "outputId": "ff6f0d3f-c3d6-436d-93c4-6eb872ddd886"
      },
      "execution_count": null,
      "outputs": [
        {
          "output_type": "stream",
          "name": "stdout",
          "text": [
            "Archive:  mouse_chr.zip\n",
            "   creating: mouse_chr/\n",
            "   creating: mouse_chr/Bisulfite_Genome/\n",
            "   creating: mouse_chr/Bisulfite_Genome/CT_conversion/\n",
            "  inflating: mouse_chr/Bisulfite_Genome/CT_conversion/genome_mfa.CT_conversion.fa  \n",
            "  inflating: mouse_chr/Bisulfite_Genome/CT_conversion/BS_CT.4.bt2  \n",
            "  inflating: mouse_chr/Bisulfite_Genome/CT_conversion/BS_CT.1.bt2  \n",
            "  inflating: mouse_chr/Bisulfite_Genome/CT_conversion/BS_CT.3.bt2  \n",
            "  inflating: mouse_chr/Bisulfite_Genome/CT_conversion/BS_CT.2.bt2  \n",
            "  inflating: mouse_chr/Bisulfite_Genome/CT_conversion/BS_CT.rev.2.bt2  \n",
            "  inflating: mouse_chr/Bisulfite_Genome/CT_conversion/BS_CT.rev.1.bt2  \n",
            "   creating: mouse_chr/Bisulfite_Genome/GA_conversion/\n",
            "  inflating: mouse_chr/Bisulfite_Genome/GA_conversion/BS_GA.rev.1.bt2  \n",
            "  inflating: mouse_chr/Bisulfite_Genome/GA_conversion/BS_GA.rev.2.bt2  \n",
            "  inflating: mouse_chr/Bisulfite_Genome/GA_conversion/genome_mfa.GA_conversion.fa  \n",
            "  inflating: mouse_chr/Bisulfite_Genome/GA_conversion/BS_GA.4.bt2  \n",
            "  inflating: mouse_chr/Bisulfite_Genome/GA_conversion/BS_GA.1.bt2  \n",
            "  inflating: mouse_chr/Bisulfite_Genome/GA_conversion/BS_GA.2.bt2  \n",
            "  inflating: mouse_chr/Bisulfite_Genome/GA_conversion/BS_GA.3.bt2  \n",
            "  inflating: mouse_chr/chr11.fa      \n"
          ]
        }
      ]
    },
    {
      "cell_type": "markdown",
      "metadata": {
        "id": "Lw--6KavBoXp"
      },
      "source": [
        "Сколько ридов закартировалось на регион 58717111-58917111 в образце 8-cell?"
      ]
    },
    {
      "cell_type": "code",
      "execution_count": null,
      "metadata": {
        "colab": {
          "base_uri": "https://localhost:8080/"
        },
        "id": "b-ZhJMlax75S",
        "outputId": "e356e25f-a24b-4e20-f384-582020239dcc"
      },
      "outputs": [
        {
          "output_type": "stream",
          "name": "stdout",
          "text": [
            "2744\n"
          ]
        }
      ],
      "source": [
        "! samtools view sorted_8cell.bam chr11:58717111-58917111 | cut -f1 | sort -u | wc -l"
      ]
    },
    {
      "cell_type": "markdown",
      "source": [
        "Сколько ридов закартировалось на регион 11347700-11367700 в трех образцах?"
      ],
      "metadata": {
        "id": "zFMREflhK-3I"
      }
    },
    {
      "cell_type": "code",
      "source": [
        "! samtools view sorted_8cell.bam chr11:11347700-11367700 | cut -f1 | sort -u | wc -l\n",
        "! samtools view sorted_epiblast.bam chr11:11347700-11367700 | cut -f1 | sort -u | wc -l\n",
        "! samtools view sorted_icm.bam chr11:11347700-11367700 | cut -f1 | sort -u | wc -l"
      ],
      "metadata": {
        "colab": {
          "base_uri": "https://localhost:8080/"
        },
        "id": "hNjgC72rK9Fl",
        "outputId": "a8496b18-a145-489b-db0d-c76965cc71b0"
      },
      "execution_count": null,
      "outputs": [
        {
          "output_type": "stream",
          "name": "stdout",
          "text": [
            "1090\n",
            "2328\n",
            "1456\n"
          ]
        }
      ]
    },
    {
      "cell_type": "markdown",
      "source": [
        "Сколько ридов закартировалось на регион 40185800-40195800 в трех образцах? "
      ],
      "metadata": {
        "id": "8OOP9dcoLI5D"
      }
    },
    {
      "cell_type": "code",
      "source": [
        "! samtools view sorted_8cell.bam chr11:40185800-40195800 | cut -f1 | sort -u | wc -l\n",
        "! samtools view sorted_epiblast.bam chr11:40185800-40195800 | cut -f1 | sort -u | wc -l\n",
        "! samtools view sorted_icm.bam chr11:40185800-40195800 | cut -f1 | sort -u | wc -l"
      ],
      "metadata": {
        "colab": {
          "base_uri": "https://localhost:8080/"
        },
        "id": "XBzW2NLgLNfZ",
        "outputId": "66f86e1f-f452-4eeb-9b4c-332067fdc05d"
      },
      "execution_count": null,
      "outputs": [
        {
          "output_type": "stream",
          "name": "stdout",
          "text": [
            "464\n",
            "1062\n",
            "630\n"
          ]
        }
      ]
    },
    {
      "cell_type": "markdown",
      "metadata": {
        "id": "CliRCSUQTmV-"
      },
      "source": [
        "Дедупликация"
      ]
    },
    {
      "cell_type": "code",
      "execution_count": null,
      "metadata": {
        "colab": {
          "base_uri": "https://localhost:8080/"
        },
        "id": "ShW-Fhzq19kE",
        "outputId": "305db585-eed4-4c07-aadf-63dc94f028c5"
      },
      "outputs": [
        {
          "output_type": "stream",
          "name": "stdout",
          "text": [
            "deduplicate_bismark --bam --paired -o s_SRR3824222_1_bismark_bt2_pe.bam SRR3824222_1_bismark_bt2_pe.bam \n",
            "deduplicate_bismark --bam --paired -o s_SRR5836473_1_bismark_bt2_pe.bam SRR5836473_1_bismark_bt2_pe.bam \n",
            "deduplicate_bismark --bam --paired -o s_SRR5836475_1_bismark_bt2_pe.bam SRR5836475_1_bismark_bt2_pe.bam \n",
            "Output filename was given as: s_SRR5836475_1_bismark_bt2_pe.bam\n",
            "Processing paired-end Bismark output file(s) (SAM format):\n",
            "SRR5836475_1_bismark_bt2_pe.bam\n",
            "\n",
            "Output filename was given as: s_SRR3824222_1_bismark_bt2_pe.bam\n",
            "Processing paired-end Bismark output file(s) (SAM format):\n",
            "SRR3824222_1_bismark_bt2_pe.bam\n",
            "\n",
            "Output filename was given as: s_SRR5836473_1_bismark_bt2_pe.bam\n",
            "Processing paired-end Bismark output file(s) (SAM format):\n",
            "SRR5836473_1_bismark_bt2_pe.bam\n",
            "\n",
            "\n",
            "If there are several alignments to a single position in the genome the first alignment will be chosen. Since the input files are not in any way sorted this is a near-enough random selection of reads.\n",
            "\n",
            "Checking file >>SRR5836475_1_bismark_bt2_pe.bam<< for signs of file truncation...\n",
            "\n",
            "If there are several alignments to a single position in the genome the first alignment will be chosen. Since the input files are not in any way sorted this is a near-enough random selection of reads.\n",
            "\n",
            "Checking file >>SRR3824222_1_bismark_bt2_pe.bam<< for signs of file truncation...\n",
            "\n",
            "If there are several alignments to a single position in the genome the first alignment will be chosen. Since the input files are not in any way sorted this is a near-enough random selection of reads.\n",
            "\n",
            "Checking file >>SRR5836473_1_bismark_bt2_pe.bam<< for signs of file truncation...\n",
            "\n",
            "\n",
            "\n",
            "\n",
            "\n",
            "Now testing Bismark result file SRR3824222_1_bismark_bt2_pe.bam for positional sorting (which would be bad...)\t\n",
            "\n",
            "Now testing Bismark result file SRR5836475_1_bismark_bt2_pe.bam for positional sorting (which would be bad...)\t\n",
            "\n",
            "Now testing Bismark result file SRR5836473_1_bismark_bt2_pe.bam for positional sorting (which would be bad...)\t...passed!\n",
            "Output file is: s_SRR3824222_1_bismark_bt2_pe.deduplicated.bam\n",
            "\n",
            "skipping header line:\t@HD\tVN:1.0\tSO:unsorted\n",
            "skipping header line:\t@SQ\tSN:chr11\tLN:122082543\n",
            "skipping header line:\t@PG\tID:Bismark\tVN:v0.23.1dev\tCL:\"bismark -p 2 --gzip mouse_chr -1 data/SRR3824222_1.fastq.gz -2 data/SRR3824222_2.fastq.gz -o epiblast/\"\n",
            "...passed!\n",
            "Output file is: s_SRR5836473_1_bismark_bt2_pe.deduplicated.bam\n",
            "\n",
            "skipping header line:\t@HD\tVN:1.0\tSO:unsorted\n",
            "skipping header line:\t@SQ\tSN:chr11\tLN:122082543\n",
            "skipping header line:\t@PG\tID:Bismark\tVN:v0.23.1dev\tCL:\"bismark -p 2 --gzip mouse_chr -1 data/SRR5836473_1.fastq.gz -2 data/SRR5836473_2.fastq.gz -o cell8/\"\n",
            "...passed!\n",
            "Output file is: s_SRR5836475_1_bismark_bt2_pe.deduplicated.bam\n",
            "\n",
            "skipping header line:\t@HD\tVN:1.0\tSO:unsorted\n",
            "skipping header line:\t@SQ\tSN:chr11\tLN:122082543\n",
            "skipping header line:\t@PG\tID:Bismark\tVN:v0.23.1dev\tCL:\"bismark --gzip mouse_chr -1 data/SRR5836475_1.fastq.gz -2 data/SRR5836475_2.fastq.gz -o ICM/\"\n",
            "\n",
            "Total number of alignments analysed in SRR5836473_1_bismark_bt2_pe.bam:\t2850231\n",
            "Total number duplicated alignments removed:\t521904 (18.31%)\n",
            "Duplicated alignments were found at:\t230432 different position(s)\n",
            "\n",
            "Total count of deduplicated leftover sequences: 2328327 (81.69% of total)\n",
            "\n",
            "\n",
            "Total number of alignments analysed in SRR5836475_1_bismark_bt2_pe.bam:\t4159998\n",
            "Total number duplicated alignments removed:\t377882 (9.08%)\n",
            "Duplicated alignments were found at:\t229833 different position(s)\n",
            "\n",
            "Total count of deduplicated leftover sequences: 3782116 (90.92% of total)\n",
            "\n",
            "\n",
            "Total number of alignments analysed in SRR3824222_1_bismark_bt2_pe.bam:\t7039016\n",
            "Total number duplicated alignments removed:\t205258 (2.92%)\n",
            "Duplicated alignments were found at:\t164796 different position(s)\n",
            "\n",
            "Total count of deduplicated leftover sequences: 6833758 (97.08% of total)\n",
            "\n"
          ]
        }
      ],
      "source": [
        "!ls *bismark_bt2_pe.bam | xargs -P 3 -tI{} deduplicate_bismark  --bam  --paired  -o s_{}  {}"
      ]
    },
    {
      "cell_type": "code",
      "execution_count": null,
      "metadata": {
        "colab": {
          "base_uri": "https://localhost:8080/"
        },
        "id": "OkrrqUQPXCCI",
        "outputId": "2e30a65f-d00b-4e73-89f3-d62bb381dd8c"
      },
      "outputs": [
        {
          "output_type": "stream",
          "name": "stdout",
          "text": [
            "condacolab_install.log\n",
            "FastQC\n",
            "fastqc_v0.11.9.zip\n",
            "mouse_chr\n",
            "mouse_chr.zip\n",
            "sample_data\n",
            "sorted_8cell.bam\n",
            "sorted_8cell.bam.bai\n",
            "sorted_epiblast.bam\n",
            "sorted_epiblast.bam.bai\n",
            "sorted_icm.bam\n",
            "sorted_icm.bam.bai\n",
            "SRR3824222_1_bismark_bt2_pe.bam\n",
            "SRR3824222_1_bismark_bt2_pe.deduplication_report.txt\n",
            "SRR3824222_1_bismark_bt2_PE_report.txt\n",
            "SRR5836473_1_bismark_bt2_pe.bam\n",
            "SRR5836473_1_bismark_bt2_pe.deduplication_report.txt\n",
            "SRR5836473_1_bismark_bt2_PE_report.txt\n",
            "SRR5836473_1.fastq\n",
            "SRR5836473_1_fastqc.html\n",
            "SRR5836473_1_fastqc.zip\n",
            "SRR5836475_1_bismark_bt2_pe.bam\n",
            "SRR5836475_1_bismark_bt2_pe.deduplication_report.txt\n",
            "SRR5836475_1_bismark_bt2_PE_report.txt\n",
            "s_SRR3824222_1_bismark_bt2_pe.deduplicated.bam\n",
            "s_SRR5836473_1_bismark_bt2_pe.deduplicated.bam\n",
            "s_SRR5836475_1_bismark_bt2_pe.deduplicated.bam\n"
          ]
        }
      ],
      "source": [
        "!ls"
      ]
    },
    {
      "cell_type": "markdown",
      "source": [
        "Коллинг метилирования"
      ],
      "metadata": {
        "id": "LKBD3cwo1wLx"
      }
    },
    {
      "cell_type": "code",
      "execution_count": null,
      "metadata": {
        "colab": {
          "base_uri": "https://localhost:8080/"
        },
        "id": "4c5BEvKpDw5K",
        "outputId": "225094c9-74f9-4a9c-a00a-c55fa633a764"
      },
      "outputs": [
        {
          "output_type": "stream",
          "name": "stdout",
          "text": [
            "bismark_methylation_extractor --gzip --bedGraph --cytosine_report --genome_folder ./mouse_chr s_SRR3824222_1_bismark_bt2_pe.deduplicated.bam \n",
            "bismark_methylation_extractor --gzip --bedGraph --cytosine_report --genome_folder ./mouse_chr s_SRR5836473_1_bismark_bt2_pe.deduplicated.bam \n",
            "bismark_methylation_extractor --gzip --bedGraph --cytosine_report --genome_folder ./mouse_chr s_SRR5836475_1_bismark_bt2_pe.deduplicated.bam \n",
            "\n",
            " *** Bismark methylation extractor version v0.23.1 ***\n",
            "\n",
            "\n",
            " *** Bismark methylation extractor version v0.23.1 ***\n",
            "\n",
            "\n",
            " *** Bismark methylation extractor version v0.23.1 ***\n",
            "\n",
            "Trying to determine the type of mapping from the SAM header line of file s_SRR3824222_1_bismark_bt2_pe.deduplicated.bam\n",
            "Trying to determine the type of mapping from the SAM header line of file s_SRR5836473_1_bismark_bt2_pe.deduplicated.bam\n",
            "Trying to determine the type of mapping from the SAM header line of file s_SRR5836475_1_bismark_bt2_pe.deduplicated.bam\n",
            "Treating file(s) as paired-end data (as extracted from @PG line)\n",
            "\n",
            "Treating file(s) as paired-end data (as extracted from @PG line)\n",
            "\n",
            "Treating file(s) as paired-end data (as extracted from @PG line)\n",
            "\n",
            "Setting option '--no_overlap' since this is (normally) the right thing to do for paired-end data\n",
            "\n",
            "\n",
            "Setting core usage to single-threaded (default). Consider using --multicore <int> to speed up the extraction process.\n",
            "\n",
            "Summarising Bismark methylation extractor parameters:\n",
            "===============================================================\n",
            "Bismark paired-end SAM format specified (default)\n",
            "Number of cores to be used: 1\n",
            "Output will be written to the current directory ('/content')\n",
            "\n",
            "\n",
            "Summarising bedGraph parameters:\n",
            "===============================================================\n",
            "Generating additional output in bedGraph and coverage format\n",
            "bedGraph format:\t<Chromosome> <Start Position> <End Position> <Methylation Percentage>\n",
            "coverage format:\t<Chromosome> <Start Position> <End Position> <Methylation Percentage> <count methylated> <count non-methylated>\n",
            "\n",
            "Using a cutoff of 1 read(s) to report cytosine positions\n",
            "Reporting and sorting cytosine methylation information in CpG context only (default)\n",
            "The bedGraph UNIX sort command will use the following memory setting:\t'2G'. Temporary directory used for sorting is the output directory\n",
            "\n",
            "\n",
            "Summarising genome-wide cytosine methylation report parameters:\n",
            "===============================================================\n",
            "Generating comprehensive genome-wide cytosine report\n",
            "(output format: <Chromosome> <Position> <Strand> <count methylated> <count non-methylated>  <C-context>  <trinucleotide context> )\n",
            "Reporting cytosine methylation in CpG context only (default)\n",
            "Using 1-based genomic coordinates (default)\n",
            "Genome folder was specified as ./mouse_chr/\n",
            "Setting option '--no_overlap' since this is (normally) the right thing to do for paired-end data\n",
            "\n",
            "\n",
            "Setting core usage to single-threaded (default). Consider using --multicore <int> to speed up the extraction process.\n",
            "\n",
            "Summarising Bismark methylation extractor parameters:\n",
            "===============================================================\n",
            "Bismark paired-end SAM format specified (default)\n",
            "Number of cores to be used: 1\n",
            "Output will be written to the current directory ('/content')\n",
            "\n",
            "\n",
            "Summarising bedGraph parameters:\n",
            "===============================================================\n",
            "Generating additional output in bedGraph and coverage format\n",
            "bedGraph format:\t<Chromosome> <Start Position> <End Position> <Methylation Percentage>\n",
            "coverage format:\t<Chromosome> <Start Position> <End Position> <Methylation Percentage> <count methylated> <count non-methylated>\n",
            "\n",
            "Using a cutoff of 1 read(s) to report cytosine positions\n",
            "Reporting and sorting cytosine methylation information in CpG context only (default)\n",
            "The bedGraph UNIX sort command will use the following memory setting:\t'2G'. Temporary directory used for sorting is the output directory\n",
            "\n",
            "\n",
            "Summarising genome-wide cytosine methylation report parameters:\n",
            "===============================================================\n",
            "Generating comprehensive genome-wide cytosine report\n",
            "(output format: <Chromosome> <Position> <Strand> <count methylated> <count non-methylated>  <C-context>  <trinucleotide context> )\n",
            "Reporting cytosine methylation in CpG context only (default)\n",
            "Using 1-based genomic coordinates (default)\n",
            "Genome folder was specified as ./mouse_chr/\n",
            "Setting option '--no_overlap' since this is (normally) the right thing to do for paired-end data\n",
            "\n",
            "\n",
            "Setting core usage to single-threaded (default). Consider using --multicore <int> to speed up the extraction process.\n",
            "\n",
            "Summarising Bismark methylation extractor parameters:\n",
            "===============================================================\n",
            "Bismark paired-end SAM format specified (default)\n",
            "Number of cores to be used: 1\n",
            "Output will be written to the current directory ('/content')\n",
            "\n",
            "\n",
            "Summarising bedGraph parameters:\n",
            "===============================================================\n",
            "Generating additional output in bedGraph and coverage format\n",
            "bedGraph format:\t<Chromosome> <Start Position> <End Position> <Methylation Percentage>\n",
            "coverage format:\t<Chromosome> <Start Position> <End Position> <Methylation Percentage> <count methylated> <count non-methylated>\n",
            "\n",
            "Using a cutoff of 1 read(s) to report cytosine positions\n",
            "Reporting and sorting cytosine methylation information in CpG context only (default)\n",
            "The bedGraph UNIX sort command will use the following memory setting:\t'2G'. Temporary directory used for sorting is the output directory\n",
            "\n",
            "\n",
            "Summarising genome-wide cytosine methylation report parameters:\n",
            "===============================================================\n",
            "Generating comprehensive genome-wide cytosine report\n",
            "(output format: <Chromosome> <Position> <Strand> <count methylated> <count non-methylated>  <C-context>  <trinucleotide context> )\n",
            "Reporting cytosine methylation in CpG context only (default)\n",
            "Using 1-based genomic coordinates (default)\n",
            "Genome folder was specified as ./mouse_chr/\n",
            "\n",
            "Checking file >>s_SRR3824222_1_bismark_bt2_pe.deduplicated.bam<< for signs of file truncation...\n",
            "\n",
            "Checking file >>s_SRR5836473_1_bismark_bt2_pe.deduplicated.bam<< for signs of file truncation...\n",
            "\n",
            "Checking file >>s_SRR5836475_1_bismark_bt2_pe.deduplicated.bam<< for signs of file truncation...\n",
            "\n",
            "\n",
            "Now testing Bismark result file >s_SRR3824222_1_bismark_bt2_pe.deduplicated.bam< for positional sorting (which would be bad...)\t\n",
            "\n",
            "Now testing Bismark result file >s_SRR5836475_1_bismark_bt2_pe.deduplicated.bam< for positional sorting (which would be bad...)\t\n",
            "\n",
            "Now testing Bismark result file >s_SRR5836473_1_bismark_bt2_pe.deduplicated.bam< for positional sorting (which would be bad...)\t...passed!\n",
            "...passed!\n",
            "...passed!\n",
            "Writing result file containing methylation information for C in CpG context from the original top strand to CpG_OT_s_SRR3824222_1_bismark_bt2_pe.deduplicated.txt.gz\n",
            "Writing result file containing methylation information for C in CpG context from the complementary to original top strand to CpG_CTOT_s_SRR3824222_1_bismark_bt2_pe.deduplicated.txt.gz\n",
            "Writing result file containing methylation information for C in CpG context from the complementary to original bottom strand to CpG_CTOB_s_SRR3824222_1_bismark_bt2_pe.deduplicated.txt.gz\n",
            "Writing result file containing methylation information for C in CpG context from the original bottom strand to CpG_OB_s_SRR3824222_1_bismark_bt2_pe.deduplicated.txt.gz\n",
            "\n",
            "Writing result file containing methylation information for C in CHG context from the original top strand to CHG_OT_s_SRR3824222_1_bismark_bt2_pe.deduplicated.txt.gz\n",
            "Writing result file containing methylation information for C in CHG context from the complementary to original top strand to CHG_CTOT_s_SRR3824222_1_bismark_bt2_pe.deduplicated.txt.gz\n",
            "Writing result file containing methylation information for C in CHG context from the complementary to original bottom strand to CHG_CTOB_s_SRR3824222_1_bismark_bt2_pe.deduplicated.txt.gz\n",
            "Writing result file containing methylation information for C in CHG context from the original bottom strand to CHG_OB_s_SRR3824222_1_bismark_bt2_pe.deduplicated.txt.gz\n",
            "\n",
            "Writing result file containing methylation information for C in CHH context from the original top strand to CHH_OT_s_SRR3824222_1_bismark_bt2_pe.deduplicated.txt.gz\n",
            "Writing result file containing methylation information for C in CpG context from the original top strand to CpG_OT_s_SRR5836473_1_bismark_bt2_pe.deduplicated.txt.gz\n",
            "Writing result file containing methylation information for C in CHH context from the complementary to original top strand to CHH_CTOT_s_SRR3824222_1_bismark_bt2_pe.deduplicated.txt.gz\n",
            "Writing result file containing methylation information for C in CHH context from the complementary to original bottom strand to CHH_CTOB_s_SRR3824222_1_bismark_bt2_pe.deduplicated.txt.gz\n",
            "Writing result file containing methylation information for C in CpG context from the complementary to original top strand to CpG_CTOT_s_SRR5836473_1_bismark_bt2_pe.deduplicated.txt.gz\n",
            "Writing result file containing methylation information for C in CpG context from the complementary to original bottom strand to CpG_CTOB_s_SRR5836473_1_bismark_bt2_pe.deduplicated.txt.gz\n",
            "Writing result file containing methylation information for C in CpG context from the original bottom strand to CpG_OB_s_SRR5836473_1_bismark_bt2_pe.deduplicated.txt.gz\n",
            "\n",
            "Writing result file containing methylation information for C in CHH context from the original bottom strand to CHH_OB_s_SRR3824222_1_bismark_bt2_pe.deduplicated.txt.gz\n",
            "\n",
            "Now reading in Bismark result file s_SRR3824222_1_bismark_bt2_pe.deduplicated.bam\n",
            "Writing result file containing methylation information for C in CHG context from the original top strand to CHG_OT_s_SRR5836473_1_bismark_bt2_pe.deduplicated.txt.gz\n",
            "Writing result file containing methylation information for C in CHG context from the complementary to original top strand to CHG_CTOT_s_SRR5836473_1_bismark_bt2_pe.deduplicated.txt.gz\n",
            "Writing result file containing methylation information for C in CHG context from the complementary to original bottom strand to CHG_CTOB_s_SRR5836473_1_bismark_bt2_pe.deduplicated.txt.gz\n",
            "skipping SAM header line:\t@HD\tVN:1.0\tSO:unsorted\n",
            "skipping SAM header line:\t@SQ\tSN:chr11\tLN:122082543\n",
            "skipping SAM header line:\t@PG\tID:Bismark\tVN:v0.23.1dev\tCL:\"bismark -p 2 --gzip mouse_chr -1 data/SRR3824222_1.fastq.gz -2 data/SRR3824222_2.fastq.gz -o epiblast/\"\n",
            "Writing result file containing methylation information for C in CHG context from the original bottom strand to CHG_OB_s_SRR5836473_1_bismark_bt2_pe.deduplicated.txt.gz\n",
            "\n",
            "Writing result file containing methylation information for C in CHH context from the original top strand to CHH_OT_s_SRR5836473_1_bismark_bt2_pe.deduplicated.txt.gz\n",
            "Writing result file containing methylation information for C in CHH context from the complementary to original top strand to CHH_CTOT_s_SRR5836473_1_bismark_bt2_pe.deduplicated.txt.gz\n",
            "Writing result file containing methylation information for C in CHH context from the complementary to original bottom strand to CHH_CTOB_s_SRR5836473_1_bismark_bt2_pe.deduplicated.txt.gz\n",
            "Writing result file containing methylation information for C in CHH context from the original bottom strand to CHH_OB_s_SRR5836473_1_bismark_bt2_pe.deduplicated.txt.gz\n",
            "\n",
            "Now reading in Bismark result file s_SRR5836473_1_bismark_bt2_pe.deduplicated.bam\n",
            "Writing result file containing methylation information for C in CpG context from the original top strand to CpG_OT_s_SRR5836475_1_bismark_bt2_pe.deduplicated.txt.gz\n",
            "Writing result file containing methylation information for C in CpG context from the complementary to original top strand to CpG_CTOT_s_SRR5836475_1_bismark_bt2_pe.deduplicated.txt.gz\n",
            "Writing result file containing methylation information for C in CpG context from the complementary to original bottom strand to CpG_CTOB_s_SRR5836475_1_bismark_bt2_pe.deduplicated.txt.gz\n",
            "Writing result file containing methylation information for C in CpG context from the original bottom strand to CpG_OB_s_SRR5836475_1_bismark_bt2_pe.deduplicated.txt.gz\n",
            "\n",
            "Writing result file containing methylation information for C in CHG context from the original top strand to CHG_OT_s_SRR5836475_1_bismark_bt2_pe.deduplicated.txt.gz\n",
            "skipping SAM header line:\t@HD\tVN:1.0\tSO:unsorted\n",
            "skipping SAM header line:\t@SQ\tSN:chr11\tLN:122082543\n",
            "skipping SAM header line:\t@PG\tID:Bismark\tVN:v0.23.1dev\tCL:\"bismark -p 2 --gzip mouse_chr -1 data/SRR5836473_1.fastq.gz -2 data/SRR5836473_2.fastq.gz -o cell8/\"\n",
            "Writing result file containing methylation information for C in CHG context from the complementary to original top strand to CHG_CTOT_s_SRR5836475_1_bismark_bt2_pe.deduplicated.txt.gz\n",
            "Writing result file containing methylation information for C in CHG context from the complementary to original bottom strand to CHG_CTOB_s_SRR5836475_1_bismark_bt2_pe.deduplicated.txt.gz\n",
            "Writing result file containing methylation information for C in CHG context from the original bottom strand to CHG_OB_s_SRR5836475_1_bismark_bt2_pe.deduplicated.txt.gz\n",
            "\n",
            "Writing result file containing methylation information for C in CHH context from the original top strand to CHH_OT_s_SRR5836475_1_bismark_bt2_pe.deduplicated.txt.gz\n",
            "Writing result file containing methylation information for C in CHH context from the complementary to original top strand to CHH_CTOT_s_SRR5836475_1_bismark_bt2_pe.deduplicated.txt.gz\n",
            "Writing result file containing methylation information for C in CHH context from the complementary to original bottom strand to CHH_CTOB_s_SRR5836475_1_bismark_bt2_pe.deduplicated.txt.gz\n",
            "Writing result file containing methylation information for C in CHH context from the original bottom strand to CHH_OB_s_SRR5836475_1_bismark_bt2_pe.deduplicated.txt.gz\n",
            "\n",
            "Now reading in Bismark result file s_SRR5836475_1_bismark_bt2_pe.deduplicated.bam\n",
            "skipping SAM header line:\t@HD\tVN:1.0\tSO:unsorted\n",
            "skipping SAM header line:\t@SQ\tSN:chr11\tLN:122082543\n",
            "skipping SAM header line:\t@PG\tID:Bismark\tVN:v0.23.1dev\tCL:\"bismark --gzip mouse_chr -1 data/SRR5836475_1.fastq.gz -2 data/SRR5836475_2.fastq.gz -o ICM/\"\n",
            "Processed lines: 500000\n",
            "Processed lines: 500000\n",
            "Processed lines: 500000\n",
            "Processed lines: 1000000\n",
            "Processed lines: 1000000\n",
            "Processed lines: 1000000\n",
            "Processed lines: 1500000\n",
            "Processed lines: 1500000\n",
            "Processed lines: 1500000\n",
            "Processed lines: 2000000\n",
            "Processed lines: 2000000\n",
            "Processed lines: 2000000\n",
            "\n",
            "Processed 2328327 lines in total\n",
            "Total number of methylation call strings processed: 4656654\n",
            "\n",
            "Final Cytosine Methylation Report\n",
            "=================================\n",
            "Total number of C's analysed:\t104224209\n",
            "\n",
            "Total methylated C's in CpG context:\t2101489\n",
            "Total methylated C's in CHG context:\t269204\n",
            "Total methylated C's in CHH context:\t944695\n",
            "\n",
            "Total C to T conversions in CpG context:\t2731177\n",
            "Total C to T conversions in CHG context:\t22964928\n",
            "Total C to T conversions in CHH context:\t75212716\n",
            "\n",
            "C methylated in CpG context:\t43.5%\n",
            "C methylated in CHG context:\t1.2%\n",
            "C methylated in CHH context:\t1.2%\n",
            "\n",
            "\n",
            "Determining maximum read lengths for M-Bias plots\n",
            "Maximum read length of Read 1: 140\n",
            "Maximum read length of Read 2: 140\n",
            "\n",
            "Perl module GD::Graph::lines is not installed, skipping drawing M-bias plots (only writing out M-bias plot table)\n",
            "Determining maximum read lengths for M-Bias plots\n",
            "Maximum read length of Read 1: 140\n",
            "Maximum read length of Read 2: 140\n",
            "\n",
            "Perl module GD::Graph::lines is not installed, skipping drawing M-bias plots (only writing out M-bias plot table)\n",
            "Deleting unused files ...\n",
            "\n",
            "CpG_OT_s_SRR5836473_1_bismark_bt2_pe.deduplicated.txt.gz contains data ->\tkept\n",
            "CpG_CTOT_s_SRR5836473_1_bismark_bt2_pe.deduplicated.txt.gz was empty ->\tdeleted\n",
            "CpG_CTOB_s_SRR5836473_1_bismark_bt2_pe.deduplicated.txt.gz was empty ->\tdeleted\n",
            "CpG_OB_s_SRR5836473_1_bismark_bt2_pe.deduplicated.txt.gz contains data ->\tkept\n",
            "CHG_OT_s_SRR5836473_1_bismark_bt2_pe.deduplicated.txt.gz contains data ->\tkept\n",
            "CHG_CTOT_s_SRR5836473_1_bismark_bt2_pe.deduplicated.txt.gz was empty ->\tdeleted\n",
            "CHG_CTOB_s_SRR5836473_1_bismark_bt2_pe.deduplicated.txt.gz was empty ->\tdeleted\n",
            "CHG_OB_s_SRR5836473_1_bismark_bt2_pe.deduplicated.txt.gz contains data ->\tkept\n",
            "CHH_OT_s_SRR5836473_1_bismark_bt2_pe.deduplicated.txt.gz contains data ->\tkept\n",
            "CHH_CTOT_s_SRR5836473_1_bismark_bt2_pe.deduplicated.txt.gz was empty ->\tdeleted\n",
            "CHH_CTOB_s_SRR5836473_1_bismark_bt2_pe.deduplicated.txt.gz was empty ->\tdeleted\n",
            "CHH_OB_s_SRR5836473_1_bismark_bt2_pe.deduplicated.txt.gz contains data ->\tkept\n",
            "\n",
            "\n",
            "Using these input files: CpG_OT_s_SRR5836473_1_bismark_bt2_pe.deduplicated.txt.gz CpG_OB_s_SRR5836473_1_bismark_bt2_pe.deduplicated.txt.gz CHG_OT_s_SRR5836473_1_bismark_bt2_pe.deduplicated.txt.gz CHG_OB_s_SRR5836473_1_bismark_bt2_pe.deduplicated.txt.gz CHH_OT_s_SRR5836473_1_bismark_bt2_pe.deduplicated.txt.gz CHH_OB_s_SRR5836473_1_bismark_bt2_pe.deduplicated.txt.gz\n",
            "\n",
            "Summary of parameters for bismark2bedGraph conversion:\n",
            "======================================================\n",
            "bedGraph output:\t\ts_SRR5836473_1_bismark_bt2_pe.deduplicated.bedGraph.gz\n",
            "output directory:\t\t><\n",
            "remove whitespaces:\t\tno\n",
            "CX context:\t\t\tno (CpG context only, default)\n",
            "No-header selected:\t\tno\n",
            "Sorting method:\t\t\tUnix sort-based (smaller memory footprint, but slower)\n",
            "Sort buffer size:\t\t2G\n",
            "Coverage threshold:\t\t1\n",
            "=============================================================================\n",
            "Methylation information will now be written into a bedGraph and coverage file\n",
            "=============================================================================\n",
            "\n",
            "Using the following files as Input:\n",
            "/content/CpG_OT_s_SRR5836473_1_bismark_bt2_pe.deduplicated.txt.gz\t/content/CpG_OB_s_SRR5836473_1_bismark_bt2_pe.deduplicated.txt.gz\n",
            "\n",
            "Writing bedGraph to file: s_SRR5836473_1_bismark_bt2_pe.deduplicated.bedGraph.gz\n",
            "Also writing out a coverage file including counts methylated and unmethylated residues to file: s_SRR5836473_1_bismark_bt2_pe.deduplicated.bismark.cov.gz\n",
            "\n",
            "Now writing methylation information for file >>CpG_OT_s_SRR5836473_1_bismark_bt2_pe.deduplicated.txt.gz<< to individual files for each chromosome\n",
            "Finished writing out individual chromosome files for CpG_OT_s_SRR5836473_1_bismark_bt2_pe.deduplicated.txt.gz\n",
            "Now writing methylation information for file >>CpG_OB_s_SRR5836473_1_bismark_bt2_pe.deduplicated.txt.gz<< to individual files for each chromosome\n",
            "Finished writing out individual chromosome files for CpG_OB_s_SRR5836473_1_bismark_bt2_pe.deduplicated.txt.gz\n",
            "\n",
            "Collecting temporary chromosome file information... Processing the following input file(s):\n",
            "CpG_OT_s_SRR5836473_1_bismark_bt2_pe.deduplicated.txt.gz.chrchr11.methXtractor.temp\n",
            "\n",
            "Sorting input file CpG_OT_s_SRR5836473_1_bismark_bt2_pe.deduplicated.txt.gz.chrchr11.methXtractor.temp by positions (using -S of 2G)\n",
            "tcmalloc: large alloc 2147491840 bytes == 0x558736c00000 @  0x7fe2942c81e7 0x5587342eb718 0x5587342ea5a1 0x7fe293ca6bf7 0x5587342eb02a\n",
            "Successfully deleted the temporary input file CpG_OT_s_SRR5836473_1_bismark_bt2_pe.deduplicated.txt.gz.chrchr11.methXtractor.temp\n",
            "\n",
            "Finished BedGraph conversion ...\n",
            "\n",
            "Summary of parameters for genome-wide cytosine report:\n",
            "==============================================================================\n",
            "Coverage infile:\t\t\t\ts_SRR5836473_1_bismark_bt2_pe.deduplicated.bismark.cov.gz\n",
            "Output directory:\t\t\t\t><\n",
            "Parent directory:\t\t\t\t>/content/<\n",
            "Genome directory:\t\t\t\t>/content/mouse_chr/<\n",
            "Coverage threshold\t\t\t\t0 (all positions will be reported, default)\n",
            "CX context:\t\t\t\t\tno (CpG context only, default)\n",
            "Genome coordinates used:\t\t\t1-based (default)\n",
            "GZIP compression:\t\t\t\tyes\n",
            "Split by chromosome:\t\t\t\tno\n",
            "\n",
            "\n",
            "Now reading in and storing sequence information of the genome specified in: /content/mouse_chr/\n",
            "\n",
            "chr chr11 (122082543 bp)\n",
            "\n",
            "Stored sequence information of 1 chromosomes/scaffolds in total\n",
            "\n",
            "==============================================================================\n",
            "Methylation information will now be written into a genome-wide cytosine report\n",
            "==============================================================================\n",
            "\n",
            "Adding context-specific methylation summaries\n",
            "\n",
            ">>> Writing genome-wide cytosine report to: s_SRR5836473_1_bismark_bt2_pe.deduplicated.CpG_report.txt.gz <<<\n",
            "\n",
            ">>> Writing all cytosine context summary file to: s_SRR5836473_1_bismark_bt2_pe.deduplicated.cytosine_context_summary.txt <<<\n",
            "\n",
            "Storing all covered cytosine positions for chromosome: chr11\n",
            "Writing cytosine report for last chromosome chr11 (stored 1736778 different covered positions)\n",
            "Processed lines: 2500000\n",
            "Processed lines: 2500000\n",
            "Finished writing out cytosine report for covered chromosomes (processed 1 chromosomes/scaffolds in total)\n",
            "\n",
            "Now processing chromosomes that were not covered by any methylation calls in the coverage file...\n",
            "All chromosomes in the genome were covered by at least some reads. coverage2cytosine processing complete.\n",
            "\n",
            "\n",
            "\n",
            "Finished generating genome-wide cytosine report\n",
            "\n",
            "Processed lines: 3000000\n",
            "Processed lines: 3000000\n",
            "Processed lines: 3500000\n",
            "Processed lines: 3500000\n",
            "\n",
            "Processed 3782116 lines in total\n",
            "Total number of methylation call strings processed: 7564232\n",
            "\n",
            "Final Cytosine Methylation Report\n",
            "=================================\n",
            "Total number of C's analysed:\t177157754\n",
            "\n",
            "Total methylated C's in CpG context:\t1914374\n",
            "Total methylated C's in CHG context:\t297421\n",
            "Total methylated C's in CHH context:\t1066806\n",
            "\n",
            "Total C to T conversions in CpG context:\t6262904\n",
            "Total C to T conversions in CHG context:\t39194423\n",
            "Total C to T conversions in CHH context:\t128421826\n",
            "\n",
            "C methylated in CpG context:\t23.4%\n",
            "C methylated in CHG context:\t0.8%\n",
            "C methylated in CHH context:\t0.8%\n",
            "\n",
            "\n",
            "Determining maximum read lengths for M-Bias plots\n",
            "Maximum read length of Read 1: 140\n",
            "Maximum read length of Read 2: 140\n",
            "\n",
            "Perl module GD::Graph::lines is not installed, skipping drawing M-bias plots (only writing out M-bias plot table)\n",
            "Determining maximum read lengths for M-Bias plots\n",
            "Maximum read length of Read 1: 140\n",
            "Maximum read length of Read 2: 140\n",
            "\n",
            "Perl module GD::Graph::lines is not installed, skipping drawing M-bias plots (only writing out M-bias plot table)\n",
            "Deleting unused files ...\n",
            "\n",
            "CpG_OT_s_SRR5836475_1_bismark_bt2_pe.deduplicated.txt.gz contains data ->\tkept\n",
            "CpG_CTOT_s_SRR5836475_1_bismark_bt2_pe.deduplicated.txt.gz was empty ->\tdeleted\n",
            "CpG_CTOB_s_SRR5836475_1_bismark_bt2_pe.deduplicated.txt.gz was empty ->\tdeleted\n",
            "CpG_OB_s_SRR5836475_1_bismark_bt2_pe.deduplicated.txt.gz contains data ->\tkept\n",
            "CHG_OT_s_SRR5836475_1_bismark_bt2_pe.deduplicated.txt.gz contains data ->\tkept\n",
            "CHG_CTOT_s_SRR5836475_1_bismark_bt2_pe.deduplicated.txt.gz was empty ->\tdeleted\n",
            "CHG_CTOB_s_SRR5836475_1_bismark_bt2_pe.deduplicated.txt.gz was empty ->\tdeleted\n",
            "CHG_OB_s_SRR5836475_1_bismark_bt2_pe.deduplicated.txt.gz contains data ->\tkept\n",
            "CHH_OT_s_SRR5836475_1_bismark_bt2_pe.deduplicated.txt.gz contains data ->\tkept\n",
            "CHH_CTOT_s_SRR5836475_1_bismark_bt2_pe.deduplicated.txt.gz was empty ->\tdeleted\n",
            "CHH_CTOB_s_SRR5836475_1_bismark_bt2_pe.deduplicated.txt.gz was empty ->\tdeleted\n",
            "CHH_OB_s_SRR5836475_1_bismark_bt2_pe.deduplicated.txt.gz contains data ->\tkept\n",
            "\n",
            "\n",
            "Using these input files: CpG_OT_s_SRR5836475_1_bismark_bt2_pe.deduplicated.txt.gz CpG_OB_s_SRR5836475_1_bismark_bt2_pe.deduplicated.txt.gz CHG_OT_s_SRR5836475_1_bismark_bt2_pe.deduplicated.txt.gz CHG_OB_s_SRR5836475_1_bismark_bt2_pe.deduplicated.txt.gz CHH_OT_s_SRR5836475_1_bismark_bt2_pe.deduplicated.txt.gz CHH_OB_s_SRR5836475_1_bismark_bt2_pe.deduplicated.txt.gz\n",
            "\n",
            "Summary of parameters for bismark2bedGraph conversion:\n",
            "======================================================\n",
            "bedGraph output:\t\ts_SRR5836475_1_bismark_bt2_pe.deduplicated.bedGraph.gz\n",
            "output directory:\t\t><\n",
            "remove whitespaces:\t\tno\n",
            "CX context:\t\t\tno (CpG context only, default)\n",
            "No-header selected:\t\tno\n",
            "Sorting method:\t\t\tUnix sort-based (smaller memory footprint, but slower)\n",
            "Sort buffer size:\t\t2G\n",
            "Coverage threshold:\t\t1\n",
            "=============================================================================\n",
            "Methylation information will now be written into a bedGraph and coverage file\n",
            "=============================================================================\n",
            "\n",
            "Using the following files as Input:\n",
            "/content/CpG_OT_s_SRR5836475_1_bismark_bt2_pe.deduplicated.txt.gz\t/content/CpG_OB_s_SRR5836475_1_bismark_bt2_pe.deduplicated.txt.gz\n",
            "\n",
            "Writing bedGraph to file: s_SRR5836475_1_bismark_bt2_pe.deduplicated.bedGraph.gz\n",
            "Also writing out a coverage file including counts methylated and unmethylated residues to file: s_SRR5836475_1_bismark_bt2_pe.deduplicated.bismark.cov.gz\n",
            "\n",
            "Now writing methylation information for file >>CpG_OT_s_SRR5836475_1_bismark_bt2_pe.deduplicated.txt.gz<< to individual files for each chromosome\n",
            "Finished writing out individual chromosome files for CpG_OT_s_SRR5836475_1_bismark_bt2_pe.deduplicated.txt.gz\n",
            "Now writing methylation information for file >>CpG_OB_s_SRR5836475_1_bismark_bt2_pe.deduplicated.txt.gz<< to individual files for each chromosome\n",
            "Finished writing out individual chromosome files for CpG_OB_s_SRR5836475_1_bismark_bt2_pe.deduplicated.txt.gz\n",
            "\n",
            "Collecting temporary chromosome file information... Processing the following input file(s):\n",
            "CpG_OT_s_SRR5836475_1_bismark_bt2_pe.deduplicated.txt.gz.chrchr11.methXtractor.temp\n",
            "\n",
            "Sorting input file CpG_OT_s_SRR5836475_1_bismark_bt2_pe.deduplicated.txt.gz.chrchr11.methXtractor.temp by positions (using -S of 2G)\n",
            "tcmalloc: large alloc 2147491840 bytes == 0x56102676e000 @  0x7fd1123231e7 0x561025907718 0x5610259065a1 0x7fd111d01bf7 0x56102590702a\n",
            "Processed lines: 4000000\n",
            "Successfully deleted the temporary input file CpG_OT_s_SRR5836475_1_bismark_bt2_pe.deduplicated.txt.gz.chrchr11.methXtractor.temp\n",
            "\n",
            "Finished BedGraph conversion ...\n",
            "\n",
            "Summary of parameters for genome-wide cytosine report:\n",
            "==============================================================================\n",
            "Coverage infile:\t\t\t\ts_SRR5836475_1_bismark_bt2_pe.deduplicated.bismark.cov.gz\n",
            "Output directory:\t\t\t\t><\n",
            "Parent directory:\t\t\t\t>/content/<\n",
            "Genome directory:\t\t\t\t>/content/mouse_chr/<\n",
            "Coverage threshold\t\t\t\t0 (all positions will be reported, default)\n",
            "CX context:\t\t\t\t\tno (CpG context only, default)\n",
            "Genome coordinates used:\t\t\t1-based (default)\n",
            "GZIP compression:\t\t\t\tyes\n",
            "Split by chromosome:\t\t\t\tno\n",
            "\n",
            "\n",
            "Now reading in and storing sequence information of the genome specified in: /content/mouse_chr/\n",
            "\n",
            "chr chr11 (122082543 bp)\n",
            "\n",
            "Stored sequence information of 1 chromosomes/scaffolds in total\n",
            "\n",
            "==============================================================================\n",
            "Methylation information will now be written into a genome-wide cytosine report\n",
            "==============================================================================\n",
            "\n",
            "Adding context-specific methylation summaries\n",
            "\n",
            ">>> Writing genome-wide cytosine report to: s_SRR5836475_1_bismark_bt2_pe.deduplicated.CpG_report.txt.gz <<<\n",
            "\n",
            ">>> Writing all cytosine context summary file to: s_SRR5836475_1_bismark_bt2_pe.deduplicated.cytosine_context_summary.txt <<<\n",
            "\n",
            "Storing all covered cytosine positions for chromosome: chr11\n",
            "Writing cytosine report for last chromosome chr11 (stored 2053827 different covered positions)\n",
            "Finished writing out cytosine report for covered chromosomes (processed 1 chromosomes/scaffolds in total)\n",
            "\n",
            "Now processing chromosomes that were not covered by any methylation calls in the coverage file...\n",
            "All chromosomes in the genome were covered by at least some reads. coverage2cytosine processing complete.\n",
            "\n",
            "Processed lines: 4500000\n",
            "\n",
            "\n",
            "Finished generating genome-wide cytosine report\n",
            "\n",
            "Processed lines: 5000000\n",
            "Processed lines: 5500000\n",
            "Processed lines: 6000000\n",
            "Processed lines: 6500000\n",
            "\n",
            "Processed 6833758 lines in total\n",
            "Total number of methylation call strings processed: 13667516\n",
            "\n",
            "Final Cytosine Methylation Report\n",
            "=================================\n",
            "Total number of C's analysed:\t330808061\n",
            "\n",
            "Total methylated C's in CpG context:\t11544557\n",
            "Total methylated C's in CHG context:\t1572954\n",
            "Total methylated C's in CHH context:\t3695988\n",
            "\n",
            "Total C to T conversions in CpG context:\t3465254\n",
            "Total C to T conversions in CHG context:\t71995231\n",
            "Total C to T conversions in CHH context:\t238534077\n",
            "\n",
            "C methylated in CpG context:\t76.9%\n",
            "C methylated in CHG context:\t2.1%\n",
            "C methylated in CHH context:\t1.5%\n",
            "\n",
            "\n",
            "Determining maximum read lengths for M-Bias plots\n",
            "Maximum read length of Read 1: 140\n",
            "Maximum read length of Read 2: 140\n",
            "\n",
            "Perl module GD::Graph::lines is not installed, skipping drawing M-bias plots (only writing out M-bias plot table)\n",
            "Determining maximum read lengths for M-Bias plots\n",
            "Maximum read length of Read 1: 140\n",
            "Maximum read length of Read 2: 140\n",
            "\n",
            "Perl module GD::Graph::lines is not installed, skipping drawing M-bias plots (only writing out M-bias plot table)\n",
            "Deleting unused files ...\n",
            "\n",
            "CpG_OT_s_SRR3824222_1_bismark_bt2_pe.deduplicated.txt.gz contains data ->\tkept\n",
            "CpG_CTOT_s_SRR3824222_1_bismark_bt2_pe.deduplicated.txt.gz was empty ->\tdeleted\n",
            "CpG_CTOB_s_SRR3824222_1_bismark_bt2_pe.deduplicated.txt.gz was empty ->\tdeleted\n",
            "CpG_OB_s_SRR3824222_1_bismark_bt2_pe.deduplicated.txt.gz contains data ->\tkept\n",
            "CHG_OT_s_SRR3824222_1_bismark_bt2_pe.deduplicated.txt.gz contains data ->\tkept\n",
            "CHG_CTOT_s_SRR3824222_1_bismark_bt2_pe.deduplicated.txt.gz was empty ->\tdeleted\n",
            "CHG_CTOB_s_SRR3824222_1_bismark_bt2_pe.deduplicated.txt.gz was empty ->\tdeleted\n",
            "CHG_OB_s_SRR3824222_1_bismark_bt2_pe.deduplicated.txt.gz contains data ->\tkept\n",
            "CHH_OT_s_SRR3824222_1_bismark_bt2_pe.deduplicated.txt.gz contains data ->\tkept\n",
            "CHH_CTOT_s_SRR3824222_1_bismark_bt2_pe.deduplicated.txt.gz was empty ->\tdeleted\n",
            "CHH_CTOB_s_SRR3824222_1_bismark_bt2_pe.deduplicated.txt.gz was empty ->\tdeleted\n",
            "CHH_OB_s_SRR3824222_1_bismark_bt2_pe.deduplicated.txt.gz contains data ->\tkept\n",
            "\n",
            "\n",
            "Using these input files: CpG_OT_s_SRR3824222_1_bismark_bt2_pe.deduplicated.txt.gz CpG_OB_s_SRR3824222_1_bismark_bt2_pe.deduplicated.txt.gz CHG_OT_s_SRR3824222_1_bismark_bt2_pe.deduplicated.txt.gz CHG_OB_s_SRR3824222_1_bismark_bt2_pe.deduplicated.txt.gz CHH_OT_s_SRR3824222_1_bismark_bt2_pe.deduplicated.txt.gz CHH_OB_s_SRR3824222_1_bismark_bt2_pe.deduplicated.txt.gz\n",
            "\n",
            "Summary of parameters for bismark2bedGraph conversion:\n",
            "======================================================\n",
            "bedGraph output:\t\ts_SRR3824222_1_bismark_bt2_pe.deduplicated.bedGraph.gz\n",
            "output directory:\t\t><\n",
            "remove whitespaces:\t\tno\n",
            "CX context:\t\t\tno (CpG context only, default)\n",
            "No-header selected:\t\tno\n",
            "Sorting method:\t\t\tUnix sort-based (smaller memory footprint, but slower)\n",
            "Sort buffer size:\t\t2G\n",
            "Coverage threshold:\t\t1\n",
            "=============================================================================\n",
            "Methylation information will now be written into a bedGraph and coverage file\n",
            "=============================================================================\n",
            "\n",
            "Using the following files as Input:\n",
            "/content/CpG_OT_s_SRR3824222_1_bismark_bt2_pe.deduplicated.txt.gz\t/content/CpG_OB_s_SRR3824222_1_bismark_bt2_pe.deduplicated.txt.gz\n",
            "\n",
            "Writing bedGraph to file: s_SRR3824222_1_bismark_bt2_pe.deduplicated.bedGraph.gz\n",
            "Also writing out a coverage file including counts methylated and unmethylated residues to file: s_SRR3824222_1_bismark_bt2_pe.deduplicated.bismark.cov.gz\n",
            "\n",
            "Now writing methylation information for file >>CpG_OT_s_SRR3824222_1_bismark_bt2_pe.deduplicated.txt.gz<< to individual files for each chromosome\n",
            "Finished writing out individual chromosome files for CpG_OT_s_SRR3824222_1_bismark_bt2_pe.deduplicated.txt.gz\n",
            "Now writing methylation information for file >>CpG_OB_s_SRR3824222_1_bismark_bt2_pe.deduplicated.txt.gz<< to individual files for each chromosome\n",
            "Finished writing out individual chromosome files for CpG_OB_s_SRR3824222_1_bismark_bt2_pe.deduplicated.txt.gz\n",
            "\n",
            "Collecting temporary chromosome file information... Processing the following input file(s):\n",
            "CpG_OT_s_SRR3824222_1_bismark_bt2_pe.deduplicated.txt.gz.chrchr11.methXtractor.temp\n",
            "\n",
            "Sorting input file CpG_OT_s_SRR3824222_1_bismark_bt2_pe.deduplicated.txt.gz.chrchr11.methXtractor.temp by positions (using -S of 2G)\n",
            "tcmalloc: large alloc 2147491840 bytes == 0x558a211e2000 @  0x7f3bdde2e1e7 0x558a1f051718 0x558a1f0505a1 0x7f3bdd80cbf7 0x558a1f05102a\n",
            "Successfully deleted the temporary input file CpG_OT_s_SRR3824222_1_bismark_bt2_pe.deduplicated.txt.gz.chrchr11.methXtractor.temp\n",
            "\n",
            "Finished BedGraph conversion ...\n",
            "\n",
            "Summary of parameters for genome-wide cytosine report:\n",
            "==============================================================================\n",
            "Coverage infile:\t\t\t\ts_SRR3824222_1_bismark_bt2_pe.deduplicated.bismark.cov.gz\n",
            "Output directory:\t\t\t\t><\n",
            "Parent directory:\t\t\t\t>/content/<\n",
            "Genome directory:\t\t\t\t>/content/mouse_chr/<\n",
            "Coverage threshold\t\t\t\t0 (all positions will be reported, default)\n",
            "CX context:\t\t\t\t\tno (CpG context only, default)\n",
            "Genome coordinates used:\t\t\t1-based (default)\n",
            "GZIP compression:\t\t\t\tyes\n",
            "Split by chromosome:\t\t\t\tno\n",
            "\n",
            "\n",
            "Now reading in and storing sequence information of the genome specified in: /content/mouse_chr/\n",
            "\n",
            "chr chr11 (122082543 bp)\n",
            "\n",
            "Stored sequence information of 1 chromosomes/scaffolds in total\n",
            "\n",
            "==============================================================================\n",
            "Methylation information will now be written into a genome-wide cytosine report\n",
            "==============================================================================\n",
            "\n",
            "Adding context-specific methylation summaries\n",
            "\n",
            ">>> Writing genome-wide cytosine report to: s_SRR3824222_1_bismark_bt2_pe.deduplicated.CpG_report.txt.gz <<<\n",
            "\n",
            ">>> Writing all cytosine context summary file to: s_SRR3824222_1_bismark_bt2_pe.deduplicated.cytosine_context_summary.txt <<<\n",
            "\n",
            "Storing all covered cytosine positions for chromosome: chr11\n",
            "Writing cytosine report for last chromosome chr11 (stored 2249610 different covered positions)\n",
            "Finished writing out cytosine report for covered chromosomes (processed 1 chromosomes/scaffolds in total)\n",
            "\n",
            "Now processing chromosomes that were not covered by any methylation calls in the coverage file...\n",
            "All chromosomes in the genome were covered by at least some reads. coverage2cytosine processing complete.\n",
            "\n",
            "\n",
            "\n",
            "Finished generating genome-wide cytosine report\n",
            "\n"
          ]
        }
      ],
      "source": [
        "!ls *bismark_bt2_pe.deduplicated.bam | xargs -P 3 -tI{} bismark_methylation_extractor --gzip --bedGraph --cytosine_report --genome_folder ./mouse_chr {}"
      ]
    },
    {
      "cell_type": "code",
      "source": [
        "! ls -lh "
      ],
      "metadata": {
        "colab": {
          "base_uri": "https://localhost:8080/"
        },
        "id": "iNwzMUeAkQ4f",
        "outputId": "144ee2c3-2f8c-47a8-eb69-8138e3b63d18"
      },
      "execution_count": null,
      "outputs": [
        {
          "output_type": "stream",
          "name": "stdout",
          "text": [
            "total 42G\n",
            "-rw-r--r-- 1 root root 142M Feb 17 21:58 CHG_OB_s_SRR3824222_1_bismark_bt2_pe.deduplicated.txt.gz\n",
            "-rw-r--r-- 1 root root  47M Feb 17 21:05 CHG_OB_s_SRR5836473_1_bismark_bt2_pe.deduplicated.txt.gz\n",
            "-rw-r--r-- 1 root root  77M Feb 17 21:31 CHG_OB_s_SRR5836475_1_bismark_bt2_pe.deduplicated.txt.gz\n",
            "-rw-r--r-- 1 root root 140M Feb 17 21:58 CHG_OT_s_SRR3824222_1_bismark_bt2_pe.deduplicated.txt.gz\n",
            "-rw-r--r-- 1 root root  47M Feb 17 21:05 CHG_OT_s_SRR5836473_1_bismark_bt2_pe.deduplicated.txt.gz\n",
            "-rw-r--r-- 1 root root  77M Feb 17 21:31 CHG_OT_s_SRR5836475_1_bismark_bt2_pe.deduplicated.txt.gz\n",
            "-rw-r--r-- 1 root root 395M Feb 17 21:58 CHH_OB_s_SRR3824222_1_bismark_bt2_pe.deduplicated.txt.gz\n",
            "-rw-r--r-- 1 root root 127M Feb 17 21:05 CHH_OB_s_SRR5836473_1_bismark_bt2_pe.deduplicated.txt.gz\n",
            "-rw-r--r-- 1 root root 211M Feb 17 21:31 CHH_OB_s_SRR5836475_1_bismark_bt2_pe.deduplicated.txt.gz\n",
            "-rw-r--r-- 1 root root 395M Feb 17 21:58 CHH_OT_s_SRR3824222_1_bismark_bt2_pe.deduplicated.txt.gz\n",
            "-rw-r--r-- 1 root root 126M Feb 17 21:05 CHH_OT_s_SRR5836473_1_bismark_bt2_pe.deduplicated.txt.gz\n",
            "-rw-r--r-- 1 root root 212M Feb 17 21:31 CHH_OT_s_SRR5836475_1_bismark_bt2_pe.deduplicated.txt.gz\n",
            "-rw-r--r-- 1 root root  14K Feb 17 18:36 condacolab_install.log\n",
            "-rw-r--r-- 1 root root  41M Feb 17 21:58 CpG_OB_s_SRR3824222_1_bismark_bt2_pe.deduplicated.txt.gz\n",
            "-rw-r--r-- 1 root root  15M Feb 17 21:05 CpG_OB_s_SRR5836473_1_bismark_bt2_pe.deduplicated.txt.gz\n",
            "-rw-r--r-- 1 root root  24M Feb 17 21:31 CpG_OB_s_SRR5836475_1_bismark_bt2_pe.deduplicated.txt.gz\n",
            "-rw-r--r-- 1 root root  41M Feb 17 21:58 CpG_OT_s_SRR3824222_1_bismark_bt2_pe.deduplicated.txt.gz\n",
            "-rw-r--r-- 1 root root  15M Feb 17 21:05 CpG_OT_s_SRR5836473_1_bismark_bt2_pe.deduplicated.txt.gz\n",
            "-rw-r--r-- 1 root root  23M Feb 17 21:31 CpG_OT_s_SRR5836475_1_bismark_bt2_pe.deduplicated.txt.gz\n",
            "drwxr-xr-x 8 root root 4.0K Feb 17 18:18 FastQC\n",
            "-rw-r--r-- 1 root root 9.8M Jan 15  2020 fastqc_v0.11.9.zip\n",
            "drwxr-xr-x 3 root root 4.0K Feb  3 06:58 mouse_chr\n",
            "-rw------- 1 root root 349M Feb 17 19:45 mouse_chr.zip\n",
            "drwxr-xr-x 1 root root 4.0K Feb  1 14:32 sample_data\n",
            "-rw-r--r-- 1 root root 524M Feb 17 19:32 sorted_8cell.bam\n",
            "-rw-r--r-- 1 root root 199K Feb 17 19:44 sorted_8cell.bam.bai\n",
            "-rw-r--r-- 1 root root 1.3G Feb 17 19:40 sorted_epiblast.bam\n",
            "-rw-r--r-- 1 root root 349K Feb 17 19:44 sorted_epiblast.bam.bai\n",
            "-rw-r--r-- 1 root root 770M Feb 17 19:44 sorted_icm.bam\n",
            "-rw-r--r-- 1 root root 339K Feb 17 19:45 sorted_icm.bam.bai\n",
            "-rw------- 1 root root 1.5G Feb 17 19:29 SRR3824222_1_bismark_bt2_pe.bam\n",
            "-rw-r--r-- 1 root root  282 Feb 17 20:12 SRR3824222_1_bismark_bt2_pe.deduplication_report.txt\n",
            "-rw-r--r-- 1 root root 1.9K Feb 17 18:59 SRR3824222_1_bismark_bt2_PE_report.txt\n",
            "-rw------- 1 root root 636M Feb 17 19:29 SRR5836473_1_bismark_bt2_pe.bam\n",
            "-rw-r--r-- 1 root root  283 Feb 17 20:07 SRR5836473_1_bismark_bt2_pe.deduplication_report.txt\n",
            "-rw-r--r-- 1 root root 1.9K Feb 17 18:59 SRR5836473_1_bismark_bt2_PE_report.txt\n",
            "-rw-r--r-- 1 root root  32G Feb 17 18:21 SRR5836473_1.fastq\n",
            "-rw-r--r-- 1 root root 570K Feb 17 18:36 SRR5836473_1_fastqc.html\n",
            "-rw-r--r-- 1 root root 296K Feb 17 18:36 SRR5836473_1_fastqc.zip\n",
            "-rw------- 1 root root 916M Feb 17 19:29 SRR5836475_1_bismark_bt2_pe.bam\n",
            "-rw-r--r-- 1 root root  282 Feb 17 20:09 SRR5836475_1_bismark_bt2_pe.deduplication_report.txt\n",
            "-rw-r--r-- 1 root root 1.9K Feb 17 18:59 SRR5836475_1_bismark_bt2_PE_report.txt\n",
            "-rw-r--r-- 1 root root 1.5G Feb 17 20:12 s_SRR3824222_1_bismark_bt2_pe.deduplicated.bam\n",
            "-rw-r--r-- 1 root root  14M Feb 17 22:00 s_SRR3824222_1_bismark_bt2_pe.deduplicated.bedGraph.gz\n",
            "-rw-r--r-- 1 root root  14M Feb 17 22:00 s_SRR3824222_1_bismark_bt2_pe.deduplicated.bismark.cov.gz\n",
            "-rw-r--r-- 1 root root  11M Feb 17 22:03 s_SRR3824222_1_bismark_bt2_pe.deduplicated.CpG_report.txt.gz\n",
            "-rw-r--r-- 1 root root 1.7K Feb 17 22:03 s_SRR3824222_1_bismark_bt2_pe.deduplicated.cytosine_context_summary.txt\n",
            "-rw-r--r-- 1 root root  24K Feb 17 21:58 s_SRR3824222_1_bismark_bt2_pe.deduplicated.M-bias.txt\n",
            "-rw-r--r-- 1 root root  866 Feb 17 21:58 s_SRR3824222_1_bismark_bt2_pe.deduplicated_splitting_report.txt\n",
            "-rw-r--r-- 1 root root 528M Feb 17 20:07 s_SRR5836473_1_bismark_bt2_pe.deduplicated.bam\n",
            "-rw-r--r-- 1 root root 9.8M Feb 17 21:07 s_SRR5836473_1_bismark_bt2_pe.deduplicated.bedGraph.gz\n",
            "-rw-r--r-- 1 root root 9.4M Feb 17 21:07 s_SRR5836473_1_bismark_bt2_pe.deduplicated.bismark.cov.gz\n",
            "-rw-r--r-- 1 root root 9.9M Feb 17 21:17 s_SRR5836473_1_bismark_bt2_pe.deduplicated.CpG_report.txt.gz\n",
            "-rw-r--r-- 1 root root 1.6K Feb 17 21:17 s_SRR5836473_1_bismark_bt2_pe.deduplicated.cytosine_context_summary.txt\n",
            "-rw-r--r-- 1 root root  22K Feb 17 21:05 s_SRR5836473_1_bismark_bt2_pe.deduplicated.M-bias.txt\n",
            "-rw-r--r-- 1 root root  861 Feb 17 21:05 s_SRR5836473_1_bismark_bt2_pe.deduplicated_splitting_report.txt\n",
            "-rw-r--r-- 1 root root 836M Feb 17 20:09 s_SRR5836475_1_bismark_bt2_pe.deduplicated.bam\n",
            "-rw-r--r-- 1 root root  12M Feb 17 21:33 s_SRR5836475_1_bismark_bt2_pe.deduplicated.bedGraph.gz\n",
            "-rw-r--r-- 1 root root  12M Feb 17 21:33 s_SRR5836475_1_bismark_bt2_pe.deduplicated.bismark.cov.gz\n",
            "-rw-r--r-- 1 root root  11M Feb 17 21:40 s_SRR5836475_1_bismark_bt2_pe.deduplicated.CpG_report.txt.gz\n",
            "-rw-r--r-- 1 root root 1.7K Feb 17 21:40 s_SRR5836475_1_bismark_bt2_pe.deduplicated.cytosine_context_summary.txt\n",
            "-rw-r--r-- 1 root root  23K Feb 17 21:31 s_SRR5836475_1_bismark_bt2_pe.deduplicated.M-bias.txt\n",
            "-rw-r--r-- 1 root root  863 Feb 17 21:31 s_SRR5836475_1_bismark_bt2_pe.deduplicated_splitting_report.txt\n"
          ]
        }
      ]
    },
    {
      "cell_type": "code",
      "execution_count": null,
      "metadata": {
        "colab": {
          "base_uri": "https://localhost:8080/"
        },
        "id": "6RQ7FwM-UsSi",
        "outputId": "e803158c-78d4-4201-c9b8-e430aeaedd74"
      },
      "outputs": [
        {
          "output_type": "stream",
          "name": "stdout",
          "text": [
            "\n",
            "Writing Bismark HTML report to >> SRR5836473_1_bismark_bt2_PE_report.html <<\n",
            "\n",
            "==============================================================================================================\n",
            "Using the following alignment report:\t\t> SRR5836473_1_bismark_bt2_PE_report.txt <\n",
            "Processing alignment report SRR5836473_1_bismark_bt2_PE_report.txt ...\n",
            "Complete\n",
            "\n",
            "Using the following deduplication report:\t> SRR5836473_1_bismark_bt2_pe.deduplication_report.txt <\n",
            "Processing deduplication report SRR5836473_1_bismark_bt2_pe.deduplication_report.txt ...\n",
            "Complete\n",
            "\n",
            "No splitting report file specified, skipping this step\n",
            "Using the following M-bias report:\t\t> s_SRR5836473_1_bismark_bt2_pe.deduplicated.M-bias.txt <\n",
            "Processing M-bias report s_SRR5836473_1_bismark_bt2_pe.deduplicated.M-bias.txt ...\n",
            "Complete\n",
            "\n",
            "No nucleotide coverage report file specified, skipping this step\n",
            "==============================================================================================================\n",
            "\n",
            "\n"
          ]
        }
      ],
      "source": [
        "! bismark2report --alignment_report SRR5836473_1_bismark_bt2_PE_report.txt -mbias_report  s_SRR5836473_1_bismark_bt2_pe.deduplicated.M-bias.txt "
      ]
    },
    {
      "cell_type": "code",
      "source": [
        "! bismark2report --alignment_report SRR3824222_1_bismark_bt2_PE_report.txt -mbias_report s_SRR3824222_1_bismark_bt2_pe.deduplicated.M-bias.txt"
      ],
      "metadata": {
        "colab": {
          "base_uri": "https://localhost:8080/"
        },
        "id": "sx4nykkTuy8Y",
        "outputId": "1c5ede84-8884-46be-eb27-4af62adc5a46"
      },
      "execution_count": null,
      "outputs": [
        {
          "output_type": "stream",
          "name": "stdout",
          "text": [
            "\n",
            "Writing Bismark HTML report to >> SRR3824222_1_bismark_bt2_PE_report.html <<\n",
            "\n",
            "==============================================================================================================\n",
            "Using the following alignment report:\t\t> SRR3824222_1_bismark_bt2_PE_report.txt <\n",
            "Processing alignment report SRR3824222_1_bismark_bt2_PE_report.txt ...\n",
            "Complete\n",
            "\n",
            "Using the following deduplication report:\t> SRR3824222_1_bismark_bt2_pe.deduplication_report.txt <\n",
            "Processing deduplication report SRR3824222_1_bismark_bt2_pe.deduplication_report.txt ...\n",
            "Complete\n",
            "\n",
            "No splitting report file specified, skipping this step\n",
            "Using the following M-bias report:\t\t> s_SRR3824222_1_bismark_bt2_pe.deduplicated.M-bias.txt <\n",
            "Processing M-bias report s_SRR3824222_1_bismark_bt2_pe.deduplicated.M-bias.txt ...\n",
            "Complete\n",
            "\n",
            "No nucleotide coverage report file specified, skipping this step\n",
            "==============================================================================================================\n",
            "\n",
            "\n"
          ]
        }
      ]
    },
    {
      "cell_type": "code",
      "source": [
        "! bismark2report --alignment_report SRR5836475_1_bismark_bt2_PE_report.txt -mbias_report s_SRR5836475_1_bismark_bt2_pe.deduplicated.M-bias.txt "
      ],
      "metadata": {
        "colab": {
          "base_uri": "https://localhost:8080/"
        },
        "id": "bq7ii5-Pu25d",
        "outputId": "2027bb5d-22cd-4089-f2b3-277db57158ac"
      },
      "execution_count": null,
      "outputs": [
        {
          "output_type": "stream",
          "name": "stdout",
          "text": [
            "\n",
            "Writing Bismark HTML report to >> SRR5836475_1_bismark_bt2_PE_report.html <<\n",
            "\n",
            "==============================================================================================================\n",
            "Using the following alignment report:\t\t> SRR5836475_1_bismark_bt2_PE_report.txt <\n",
            "Processing alignment report SRR5836475_1_bismark_bt2_PE_report.txt ...\n",
            "Complete\n",
            "\n",
            "Using the following deduplication report:\t> SRR5836475_1_bismark_bt2_pe.deduplication_report.txt <\n",
            "Processing deduplication report SRR5836475_1_bismark_bt2_pe.deduplication_report.txt ...\n",
            "Complete\n",
            "\n",
            "No splitting report file specified, skipping this step\n",
            "Using the following M-bias report:\t\t> s_SRR5836475_1_bismark_bt2_pe.deduplicated.M-bias.txt <\n",
            "Processing M-bias report s_SRR5836475_1_bismark_bt2_pe.deduplicated.M-bias.txt ...\n",
            "Complete\n",
            "\n",
            "No nucleotide coverage report file specified, skipping this step\n",
            "==============================================================================================================\n",
            "\n",
            "\n"
          ]
        }
      ]
    },
    {
      "cell_type": "code",
      "execution_count": null,
      "metadata": {
        "colab": {
          "base_uri": "https://localhost:8080/",
          "height": 1000
        },
        "id": "b6k9REsM6NXn",
        "outputId": "5b65d857-ce58-4b9c-c2bf-ce07a93242cf"
      },
      "outputs": [
        {
          "output_type": "stream",
          "name": "stdout",
          "text": [
            "Collecting pyGenomeTracks\n",
            "  Downloading pyGenomeTracks-3.6-py2.py3-none-any.whl (94 kB)\n",
            "\u001b[K     |████████████████████████████████| 94 kB 2.4 MB/s \n",
            "\u001b[?25hCollecting matplotlib<=3.3.2,>=3.1.1\n",
            "  Downloading matplotlib-3.3.2-cp37-cp37m-manylinux1_x86_64.whl (11.6 MB)\n",
            "\u001b[K     |████████████████████████████████| 11.6 MB 56.4 MB/s \n",
            "\u001b[?25hCollecting pyBigWig>=0.3.16\n",
            "  Downloading pyBigWig-0.3.18.tar.gz (64 kB)\n",
            "\u001b[K     |████████████████████████████████| 64 kB 2.4 MB/s \n",
            "\u001b[?25hCollecting numpy>=1.16\n",
            "  Downloading numpy-1.21.5-cp37-cp37m-manylinux_2_12_x86_64.manylinux2010_x86_64.whl (15.7 MB)\n",
            "\u001b[K     |████████████████████████████████| 15.7 MB 51.9 MB/s \n",
            "\u001b[?25hCollecting pytest\n",
            "  Downloading pytest-7.0.1-py3-none-any.whl (296 kB)\n",
            "\u001b[K     |████████████████████████████████| 296 kB 84.1 MB/s \n",
            "\u001b[?25hCollecting pybedtools>=0.8.1\n",
            "  Downloading pybedtools-0.9.0.tar.gz (12.5 MB)\n",
            "\u001b[K     |████████████████████████████████| 12.5 MB 65.7 MB/s \n",
            "\u001b[?25hCollecting hicmatrix>=15\n",
            "  Downloading HiCMatrix-15-py3-none-any.whl (37 kB)\n",
            "Collecting pysam>=0.14\n",
            "  Downloading pysam-0.18.0-cp37-cp37m-manylinux_2_12_x86_64.manylinux2010_x86_64.whl (14.9 MB)\n",
            "\u001b[K     |████████████████████████████████| 14.9 MB 26.7 MB/s \n",
            "\u001b[?25hCollecting future>=0.17.0\n",
            "  Downloading future-0.18.2.tar.gz (829 kB)\n",
            "\u001b[K     |████████████████████████████████| 829 kB 34.2 MB/s \n",
            "\u001b[?25hRequirement already satisfied: tqdm>=4.20 in /usr/local/lib/python3.7/site-packages (from pyGenomeTracks) (4.59.0)\n",
            "Collecting gffutils>=0.9\n",
            "  Downloading gffutils-0.10.1.tar.gz (1.5 MB)\n",
            "\u001b[K     |████████████████████████████████| 1.5 MB 23.3 MB/s \n",
            "\u001b[?25hCollecting intervaltree>=2.1.0\n",
            "  Downloading intervaltree-3.1.0.tar.gz (32 kB)\n",
            "Collecting pyfaidx>=0.5.5.2\n",
            "  Downloading pyfaidx-0.6.4.tar.gz (100 kB)\n",
            "\u001b[K     |████████████████████████████████| 100 kB 8.5 MB/s \n",
            "\u001b[?25hRequirement already satisfied: six>=1.12.0 in /usr/local/lib/python3.7/site-packages (from gffutils>=0.9->pyGenomeTracks) (1.15.0)\n",
            "Collecting argh>=0.26.2\n",
            "  Downloading argh-0.26.2-py2.py3-none-any.whl (30 kB)\n",
            "Collecting argcomplete>=1.9.4\n",
            "  Downloading argcomplete-2.0.0-py2.py3-none-any.whl (37 kB)\n",
            "Collecting simplejson\n",
            "  Downloading simplejson-3.17.6-cp37-cp37m-manylinux_2_5_x86_64.manylinux1_x86_64.manylinux_2_12_x86_64.manylinux2010_x86_64.whl (130 kB)\n",
            "\u001b[K     |████████████████████████████████| 130 kB 71.9 MB/s \n",
            "\u001b[?25hCollecting importlib-metadata<5,>=0.23\n",
            "  Downloading importlib_metadata-4.11.1-py3-none-any.whl (17 kB)\n",
            "Collecting tables>=3.5.*\n",
            "  Downloading tables-3.7.0-cp37-cp37m-manylinux_2_17_x86_64.manylinux2014_x86_64.whl (5.9 MB)\n",
            "\u001b[K     |████████████████████████████████| 5.9 MB 58.6 MB/s \n",
            "\u001b[?25hCollecting cooler>=0.8.9\n",
            "  Downloading cooler-0.8.11-py2.py3-none-any.whl (100 kB)\n",
            "\u001b[K     |████████████████████████████████| 100 kB 8.4 MB/s \n",
            "\u001b[?25hCollecting pandas>=0.25.*\n",
            "  Downloading pandas-1.3.5-cp37-cp37m-manylinux_2_17_x86_64.manylinux2014_x86_64.whl (11.3 MB)\n",
            "\u001b[K     |████████████████████████████████| 11.3 MB 33.3 MB/s \n",
            "\u001b[?25hCollecting scipy>=1.2.*\n",
            "  Downloading scipy-1.7.3-cp37-cp37m-manylinux_2_12_x86_64.manylinux2010_x86_64.whl (38.1 MB)\n",
            "\u001b[K     |████████████████████████████████| 38.1 MB 1.4 MB/s \n",
            "\u001b[?25hCollecting pypairix\n",
            "  Downloading pypairix-0.3.7.tar.gz (65 kB)\n",
            "\u001b[K     |████████████████████████████████| 65 kB 3.2 MB/s \n",
            "\u001b[?25hCollecting multiprocess\n",
            "  Downloading multiprocess-0.70.12.2-py37-none-any.whl (112 kB)\n",
            "\u001b[K     |████████████████████████████████| 112 kB 59.1 MB/s \n",
            "\u001b[?25hCollecting asciitree\n",
            "  Downloading asciitree-0.3.3.tar.gz (4.0 kB)\n",
            "Collecting pyyaml\n",
            "  Downloading PyYAML-6.0-cp37-cp37m-manylinux_2_5_x86_64.manylinux1_x86_64.manylinux_2_12_x86_64.manylinux2010_x86_64.whl (596 kB)\n",
            "\u001b[K     |████████████████████████████████| 596 kB 52.1 MB/s \n",
            "\u001b[?25hCollecting cytoolz<0.11\n",
            "  Downloading cytoolz-0.10.1.tar.gz (475 kB)\n",
            "\u001b[K     |████████████████████████████████| 475 kB 65.6 MB/s \n",
            "\u001b[?25hCollecting click>=7\n",
            "  Downloading click-8.0.3-py3-none-any.whl (97 kB)\n",
            "\u001b[K     |████████████████████████████████| 97 kB 6.3 MB/s \n",
            "\u001b[?25hCollecting h5py>=2.5\n",
            "  Downloading h5py-3.6.0-cp37-cp37m-manylinux_2_12_x86_64.manylinux2010_x86_64.whl (4.1 MB)\n",
            "\u001b[K     |████████████████████████████████| 4.1 MB 52.2 MB/s \n",
            "\u001b[?25hCollecting toolz>=0.8.0\n",
            "  Downloading toolz-0.11.2-py3-none-any.whl (55 kB)\n",
            "\u001b[K     |████████████████████████████████| 55 kB 3.1 MB/s \n",
            "\u001b[?25hCollecting cached-property\n",
            "  Downloading cached_property-1.5.2-py2.py3-none-any.whl (7.6 kB)\n",
            "Collecting zipp>=0.5\n",
            "  Downloading zipp-3.7.0-py3-none-any.whl (5.3 kB)\n",
            "Collecting typing-extensions>=3.6.4\n",
            "  Downloading typing_extensions-4.1.1-py3-none-any.whl (26 kB)\n",
            "Collecting sortedcontainers<3.0,>=2.0\n",
            "  Downloading sortedcontainers-2.4.0-py2.py3-none-any.whl (29 kB)\n",
            "Collecting kiwisolver>=1.0.1\n",
            "  Downloading kiwisolver-1.3.2-cp37-cp37m-manylinux_2_5_x86_64.manylinux1_x86_64.whl (1.1 MB)\n",
            "\u001b[K     |████████████████████████████████| 1.1 MB 68.1 MB/s \n",
            "\u001b[?25hCollecting cycler>=0.10\n",
            "  Downloading cycler-0.11.0-py3-none-any.whl (6.4 kB)\n",
            "Collecting pillow>=6.2.0\n",
            "  Downloading Pillow-9.0.1-cp37-cp37m-manylinux_2_17_x86_64.manylinux2014_x86_64.whl (4.3 MB)\n",
            "\u001b[K     |████████████████████████████████| 4.3 MB 45.4 MB/s \n",
            "\u001b[?25hRequirement already satisfied: certifi>=2020.06.20 in /usr/local/lib/python3.7/site-packages (from matplotlib<=3.3.2,>=3.1.1->pyGenomeTracks) (2021.10.8)\n",
            "Collecting pyparsing!=2.0.4,!=2.1.2,!=2.1.6,>=2.0.3\n",
            "  Using cached pyparsing-3.0.7-py3-none-any.whl (98 kB)\n",
            "Collecting python-dateutil>=2.1\n",
            "  Downloading python_dateutil-2.8.2-py2.py3-none-any.whl (247 kB)\n",
            "\u001b[K     |████████████████████████████████| 247 kB 43.7 MB/s \n",
            "\u001b[?25hCollecting pytz>=2017.3\n",
            "  Downloading pytz-2021.3-py2.py3-none-any.whl (503 kB)\n",
            "\u001b[K     |████████████████████████████████| 503 kB 54.4 MB/s \n",
            "\u001b[?25hRequirement already satisfied: setuptools>=0.7 in /usr/local/lib/python3.7/site-packages (from pyfaidx>=0.5.5.2->gffutils>=0.9->pyGenomeTracks) (49.6.0.post20210108)\n",
            "Collecting packaging\n",
            "  Using cached packaging-21.3-py3-none-any.whl (40 kB)\n",
            "Collecting numexpr>=2.6.2\n",
            "  Downloading numexpr-2.8.1-cp37-cp37m-manylinux_2_17_x86_64.manylinux2014_x86_64.whl (379 kB)\n",
            "\u001b[K     |████████████████████████████████| 379 kB 37.1 MB/s \n",
            "\u001b[?25hCollecting dill>=0.3.4\n",
            "  Downloading dill-0.3.4-py2.py3-none-any.whl (86 kB)\n",
            "\u001b[K     |████████████████████████████████| 86 kB 3.7 MB/s \n",
            "\u001b[?25hCollecting pluggy<2.0,>=0.12\n",
            "  Downloading pluggy-1.0.0-py2.py3-none-any.whl (13 kB)\n",
            "Collecting attrs>=19.2.0\n",
            "  Downloading attrs-21.4.0-py2.py3-none-any.whl (60 kB)\n",
            "\u001b[K     |████████████████████████████████| 60 kB 4.8 MB/s \n",
            "\u001b[?25hCollecting iniconfig\n",
            "  Downloading iniconfig-1.1.1-py2.py3-none-any.whl (5.0 kB)\n",
            "Collecting py>=1.8.2\n",
            "  Downloading py-1.11.0-py2.py3-none-any.whl (98 kB)\n",
            "\u001b[K     |████████████████████████████████| 98 kB 6.6 MB/s \n",
            "\u001b[?25hCollecting tomli>=1.0.0\n",
            "  Using cached tomli-2.0.1-py3-none-any.whl (12 kB)\n",
            "Building wheels for collected packages: future, gffutils, cytoolz, intervaltree, pybedtools, pyBigWig, pyfaidx, asciitree, pypairix\n",
            "  Building wheel for future (setup.py) ... \u001b[?25l\u001b[?25hdone\n",
            "  Created wheel for future: filename=future-0.18.2-py3-none-any.whl size=491059 sha256=c06b0aaacbce3e4700ca3e14b9a4535386cf64105b9c6212ded8feb9e08db534\n",
            "  Stored in directory: /root/.cache/pip/wheels/56/b0/fe/4410d17b32f1f0c3cf54cdfb2bc04d7b4b8f4ae377e2229ba0\n",
            "  Building wheel for gffutils (setup.py) ... \u001b[?25l\u001b[?25hdone\n",
            "  Created wheel for gffutils: filename=gffutils-0.10.1-py3-none-any.whl size=1608576 sha256=330d7bd5729c5ced7d4d639ef1fc692f9ee019bd61e7228a5245c976bd32195d\n",
            "  Stored in directory: /root/.cache/pip/wheels/cc/30/54/f2100041e9b3f5ea90f8f7ebd748aa98a58ebc7b456688a0ba\n",
            "  Building wheel for cytoolz (setup.py) ... \u001b[?25l\u001b[?25hdone\n",
            "  Created wheel for cytoolz: filename=cytoolz-0.10.1-cp37-cp37m-linux_x86_64.whl size=1257767 sha256=ebb467c73f1dde82d0dcb2cfa57ee2ecce7f6c5438b47f5204d7f14852085d8c\n",
            "  Stored in directory: /root/.cache/pip/wheels/db/f0/a6/8d56aaec49585b245b0694bf8972e50a3b2a83331657ea7e95\n",
            "  Building wheel for intervaltree (setup.py) ... \u001b[?25l\u001b[?25hdone\n",
            "  Created wheel for intervaltree: filename=intervaltree-3.1.0-py2.py3-none-any.whl size=26102 sha256=eef3578898454253c0e5badcadc312b0bfcedbbab389cdede712e63de6914919\n",
            "  Stored in directory: /root/.cache/pip/wheels/16/85/bd/1001cbb46dcfb71c2001cd7401c6fb250392f22a81ce3722f7\n",
            "  Building wheel for pybedtools (setup.py) ... \u001b[?25l\u001b[?25hdone\n",
            "  Created wheel for pybedtools: filename=pybedtools-0.9.0-cp37-cp37m-linux_x86_64.whl size=13654262 sha256=14dd90a0f5f834e9e1f79b5910fec156d9273accc2a2494e13481a0897eb2d2e\n",
            "  Stored in directory: /root/.cache/pip/wheels/7a/44/0d/3a7449885adaf8ebb157da8c3c834a712f48b3b3b84ba51dda\n",
            "  Building wheel for pyBigWig (setup.py) ... \u001b[?25l\u001b[?25hdone\n",
            "  Created wheel for pyBigWig: filename=pyBigWig-0.3.18-cp37-cp37m-linux_x86_64.whl size=148990 sha256=f0687de2838023ab63914d73177c6330e4c931039aee0af8874d76aed66bf3b2\n",
            "  Stored in directory: /root/.cache/pip/wheels/28/eb/46/c761563ba38bd516bcc6accde3d4188cd84eec067f9201cbec\n",
            "  Building wheel for pyfaidx (setup.py) ... \u001b[?25l\u001b[?25hdone\n",
            "  Created wheel for pyfaidx: filename=pyfaidx-0.6.4-py3-none-any.whl size=26534 sha256=02a4299af8c2b7f867aacd7015e5f4a06b9244e322dec64494485bc940d59193\n",
            "  Stored in directory: /root/.cache/pip/wheels/b2/16/a9/432d2035e17e4291f49cc518298a44192e5d4f544474f19123\n",
            "  Building wheel for asciitree (setup.py) ... \u001b[?25l\u001b[?25hdone\n",
            "  Created wheel for asciitree: filename=asciitree-0.3.3-py3-none-any.whl size=5036 sha256=7919ffb235a183105432b31b10c0d5648a91df4013c7f18f08075e50ca326e16\n",
            "  Stored in directory: /root/.cache/pip/wheels/12/1c/38/0def51e15add93bff3f4bf9c248b94db0839b980b8535e72a0\n",
            "  Building wheel for pypairix (setup.py) ... \u001b[?25l\u001b[?25hdone\n",
            "  Created wheel for pypairix: filename=pypairix-0.3.7-cp37-cp37m-linux_x86_64.whl size=148240 sha256=42c7a504926fc5e861bc77a37cde35f4e55ee144c9b143d8beba92da223d81b7\n",
            "  Stored in directory: /root/.cache/pip/wheels/c7/8e/06/7c0d1ddd07b0311ea0b859c34e63b395cb931857033ab3cff3\n",
            "Successfully built future gffutils cytoolz intervaltree pybedtools pyBigWig pyfaidx asciitree pypairix\n",
            "Installing collected packages: zipp, typing-extensions, pyparsing, toolz, pytz, python-dateutil, packaging, numpy, importlib-metadata, dill, cached-property, sortedcontainers, simplejson, scipy, pyyaml, pypairix, pyfaidx, pandas, numexpr, multiprocess, h5py, cytoolz, click, asciitree, tomli, tables, pysam, py, pluggy, pillow, kiwisolver, intervaltree, iniconfig, cycler, cooler, attrs, argh, argcomplete, pytest, pyBigWig, pybedtools, matplotlib, hicmatrix, gffutils, future, pyGenomeTracks\n",
            "Successfully installed argcomplete-2.0.0 argh-0.26.2 asciitree-0.3.3 attrs-21.4.0 cached-property-1.5.2 click-8.0.3 cooler-0.8.11 cycler-0.11.0 cytoolz-0.10.1 dill-0.3.4 future-0.18.2 gffutils-0.10.1 h5py-3.6.0 hicmatrix-15 importlib-metadata-4.11.1 iniconfig-1.1.1 intervaltree-3.1.0 kiwisolver-1.3.2 matplotlib-3.3.2 multiprocess-0.70.12.2 numexpr-2.8.1 numpy-1.21.5 packaging-21.3 pandas-1.3.5 pillow-9.0.1 pluggy-1.0.0 py-1.11.0 pyBigWig-0.3.18 pyGenomeTracks-3.6 pybedtools-0.9.0 pyfaidx-0.6.4 pypairix-0.3.7 pyparsing-3.0.7 pysam-0.18.0 pytest-7.0.1 python-dateutil-2.8.2 pytz-2021.3 pyyaml-6.0 scipy-1.7.3 simplejson-3.17.6 sortedcontainers-2.4.0 tables-3.7.0 tomli-2.0.1 toolz-0.11.2 typing-extensions-4.1.1 zipp-3.7.0\n"
          ]
        },
        {
          "output_type": "display_data",
          "data": {
            "application/vnd.colab-display-data+json": {
              "pip_warning": {
                "packages": [
                  "cycler",
                  "dateutil",
                  "kiwisolver",
                  "numexpr",
                  "numpy",
                  "packaging",
                  "pandas",
                  "pyparsing"
                ]
              }
            }
          },
          "metadata": {}
        },
        {
          "output_type": "stream",
          "name": "stdout",
          "text": [
            "Collecting ipykernel\n",
            "  Downloading ipykernel-6.9.1-py3-none-any.whl (128 kB)\n",
            "\u001b[?25l\r\u001b[K     |██▌                             | 10 kB 31.8 MB/s eta 0:00:01\r\u001b[K     |█████                           | 20 kB 33.4 MB/s eta 0:00:01\r\u001b[K     |███████▋                        | 30 kB 40.4 MB/s eta 0:00:01\r\u001b[K     |██████████▏                     | 40 kB 16.5 MB/s eta 0:00:01\r\u001b[K     |████████████▊                   | 51 kB 13.6 MB/s eta 0:00:01\r\u001b[K     |███████████████▎                | 61 kB 15.8 MB/s eta 0:00:01\r\u001b[K     |█████████████████▉              | 71 kB 12.9 MB/s eta 0:00:01\r\u001b[K     |████████████████████▍           | 81 kB 14.2 MB/s eta 0:00:01\r\u001b[K     |██████████████████████▉         | 92 kB 15.7 MB/s eta 0:00:01\r\u001b[K     |█████████████████████████▍      | 102 kB 14.3 MB/s eta 0:00:01\r\u001b[K     |████████████████████████████    | 112 kB 14.3 MB/s eta 0:00:01\r\u001b[K     |██████████████████████████████▌ | 122 kB 14.3 MB/s eta 0:00:01\r\u001b[K     |████████████████████████████████| 128 kB 14.3 MB/s \n",
            "\u001b[?25hCollecting matplotlib-inline<0.2.0,>=0.1.0\n",
            "  Downloading matplotlib_inline-0.1.3-py3-none-any.whl (8.2 kB)\n",
            "Collecting nest-asyncio\n",
            "  Downloading nest_asyncio-1.5.4-py3-none-any.whl (5.1 kB)\n",
            "Collecting tornado<7.0,>=4.2\n",
            "  Downloading tornado-6.1-cp37-cp37m-manylinux2010_x86_64.whl (428 kB)\n",
            "\u001b[K     |████████████████████████████████| 428 kB 63.6 MB/s \n",
            "\u001b[?25hCollecting traitlets<6.0,>=5.1.0\n",
            "  Downloading traitlets-5.1.1-py3-none-any.whl (102 kB)\n",
            "\u001b[K     |████████████████████████████████| 102 kB 4.2 MB/s \n",
            "\u001b[?25hCollecting jupyter-client<8.0\n",
            "  Downloading jupyter_client-7.1.2-py3-none-any.whl (130 kB)\n",
            "\u001b[K     |████████████████████████████████| 130 kB 15.4 MB/s \n",
            "\u001b[?25hCollecting debugpy<2.0,>=1.0.0\n",
            "  Downloading debugpy-1.5.1-cp37-cp37m-manylinux_2_5_x86_64.manylinux1_x86_64.manylinux_2_12_x86_64.manylinux2010_x86_64.whl (1.9 MB)\n",
            "\u001b[K     |████████████████████████████████| 1.9 MB 64.7 MB/s \n",
            "\u001b[?25hCollecting ipython>=7.23.1\n",
            "  Downloading ipython-7.31.1-py3-none-any.whl (792 kB)\n",
            "\u001b[K     |████████████████████████████████| 792 kB 82.9 MB/s \n",
            "\u001b[?25hCollecting pygments\n",
            "  Downloading Pygments-2.11.2-py3-none-any.whl (1.1 MB)\n",
            "\u001b[K     |████████████████████████████████| 1.1 MB 58.8 MB/s \n",
            "\u001b[?25hCollecting backcall\n",
            "  Downloading backcall-0.2.0-py2.py3-none-any.whl (11 kB)\n",
            "Requirement already satisfied: setuptools>=18.5 in /usr/local/lib/python3.7/site-packages (from ipython>=7.23.1->ipykernel) (49.6.0.post20210108)\n",
            "Collecting prompt-toolkit!=3.0.0,!=3.0.1,<3.1.0,>=2.0.0\n",
            "  Downloading prompt_toolkit-3.0.28-py3-none-any.whl (380 kB)\n",
            "\u001b[K     |████████████████████████████████| 380 kB 60.9 MB/s \n",
            "\u001b[?25hCollecting pickleshare\n",
            "  Downloading pickleshare-0.7.5-py2.py3-none-any.whl (6.9 kB)\n",
            "Collecting jedi>=0.16\n",
            "  Downloading jedi-0.18.1-py2.py3-none-any.whl (1.6 MB)\n",
            "\u001b[K     |████████████████████████████████| 1.6 MB 50.5 MB/s \n",
            "\u001b[?25hCollecting decorator\n",
            "  Downloading decorator-5.1.1-py3-none-any.whl (9.1 kB)\n",
            "Collecting pexpect>4.3\n",
            "  Downloading pexpect-4.8.0-py2.py3-none-any.whl (59 kB)\n",
            "\u001b[K     |████████████████████████████████| 59 kB 4.5 MB/s \n",
            "\u001b[?25hCollecting parso<0.9.0,>=0.8.0\n",
            "  Downloading parso-0.8.3-py2.py3-none-any.whl (100 kB)\n",
            "\u001b[K     |████████████████████████████████| 100 kB 9.0 MB/s \n",
            "\u001b[?25hCollecting jupyter-core>=4.6.0\n",
            "  Downloading jupyter_core-4.9.2-py3-none-any.whl (86 kB)\n",
            "\u001b[K     |████████████████████████████████| 86 kB 5.1 MB/s \n",
            "\u001b[?25hCollecting entrypoints\n",
            "  Downloading entrypoints-0.4-py3-none-any.whl (5.3 kB)\n",
            "Requirement already satisfied: python-dateutil>=2.1 in /usr/local/lib/python3.7/site-packages (from jupyter-client<8.0->ipykernel) (2.8.2)\n",
            "Collecting pyzmq>=13\n",
            "  Downloading pyzmq-22.3.0-cp37-cp37m-manylinux_2_5_x86_64.manylinux1_x86_64.whl (1.1 MB)\n",
            "\u001b[K     |████████████████████████████████| 1.1 MB 60.5 MB/s \n",
            "\u001b[?25hCollecting ptyprocess>=0.5\n",
            "  Downloading ptyprocess-0.7.0-py2.py3-none-any.whl (13 kB)\n",
            "Collecting wcwidth\n",
            "  Downloading wcwidth-0.2.5-py2.py3-none-any.whl (30 kB)\n",
            "Requirement already satisfied: six>=1.5 in /usr/local/lib/python3.7/site-packages (from python-dateutil>=2.1->jupyter-client<8.0->ipykernel) (1.15.0)\n",
            "Installing collected packages: wcwidth, traitlets, ptyprocess, parso, tornado, pyzmq, pygments, prompt-toolkit, pickleshare, pexpect, nest-asyncio, matplotlib-inline, jupyter-core, jedi, entrypoints, decorator, backcall, jupyter-client, ipython, debugpy, ipykernel\n",
            "Successfully installed backcall-0.2.0 debugpy-1.5.1 decorator-5.1.1 entrypoints-0.4 ipykernel-6.9.1 ipython-7.31.1 jedi-0.18.1 jupyter-client-7.1.2 jupyter-core-4.9.2 matplotlib-inline-0.1.3 nest-asyncio-1.5.4 parso-0.8.3 pexpect-4.8.0 pickleshare-0.7.5 prompt-toolkit-3.0.28 ptyprocess-0.7.0 pygments-2.11.2 pyzmq-22.3.0 tornado-6.1 traitlets-5.1.1 wcwidth-0.2.5\n"
          ]
        },
        {
          "output_type": "display_data",
          "data": {
            "application/vnd.colab-display-data+json": {
              "pip_warning": {
                "packages": [
                  "pexpect",
                  "pickleshare",
                  "traitlets",
                  "wcwidth",
                  "zmq"
                ]
              }
            }
          },
          "metadata": {}
        },
        {
          "output_type": "stream",
          "name": "stdout",
          "text": [
            "Collecting package metadata (current_repodata.json): - \b\b\\ \b\b| \b\b/ \b\b- \b\b\\ \b\b| \b\b/ \b\b- \b\b\\ \b\b| \b\b/ \b\b- \b\b\\ \b\b| \b\b/ \b\b- \b\b\\ \b\b| \b\b/ \b\b- \b\b\\ \b\b| \b\b/ \b\b- \b\b\\ \b\b| \b\b/ \b\b- \b\b\\ \b\b| \b\b/ \b\b- \b\b\\ \b\b| \b\b/ \b\b- \b\b\\ \b\b| \b\b/ \b\b- \b\b\\ \b\b| \b\b/ \b\b- \b\b\\ \b\b| \b\b/ \b\b- \b\b\\ \b\b| \b\b/ \b\b- \b\b\\ \b\b| \b\b/ \b\b- \b\b\\ \b\b| \b\b/ \b\b- \b\b\\ \b\b| \b\b/ \b\b- \b\b\\ \b\b| \b\b/ \b\b- \b\b\\ \b\b| \b\b/ \b\b- \b\b\\ \b\b| \b\b/ \b\b- \b\b\\ \b\b| \b\b/ \b\b- \b\b\\ \b\bdone\n",
            "Solving environment: / \b\b- \b\b\\ \b\b| \b\b/ \b\b- \b\b\\ \b\b| \b\b/ \b\b- \b\bdone\n",
            "\n",
            "## Package Plan ##\n",
            "\n",
            "  environment location: /usr/local\n",
            "\n",
            "  added / updated specs:\n",
            "    - ucsc-fetchchromsizes\n",
            "\n",
            "\n",
            "The following packages will be downloaded:\n",
            "\n",
            "    package                    |            build\n",
            "    ---------------------------|-----------------\n",
            "    libpng-1.6.37              |       h21135ba_2         306 KB  conda-forge\n",
            "    libuuid-2.32.1             |    h7f98852_1000          28 KB  conda-forge\n",
            "    mysql-connector-c-6.1.11   |    h6eb9d5d_1007         2.7 MB  conda-forge\n",
            "    ucsc-fetchchromsizes-377   |       h0b8a92a_2           7 KB  bioconda\n",
            "    ------------------------------------------------------------\n",
            "                                           Total:         3.0 MB\n",
            "\n",
            "The following NEW packages will be INSTALLED:\n",
            "\n",
            "  libpng             conda-forge/linux-64::libpng-1.6.37-h21135ba_2\n",
            "  libuuid            conda-forge/linux-64::libuuid-2.32.1-h7f98852_1000\n",
            "  mysql-connector-c  conda-forge/linux-64::mysql-connector-c-6.1.11-h6eb9d5d_1007\n",
            "  ucsc-fetchchromsi~ bioconda/linux-64::ucsc-fetchchromsizes-377-h0b8a92a_2\n",
            "\n",
            "\n",
            "\n",
            "Downloading and Extracting Packages\n",
            "ucsc-fetchchromsizes | 7 KB      | : 100% 1.0/1 [00:00<00:00, 11.01it/s]\n",
            "libuuid-2.32.1       | 28 KB     | : 100% 1.0/1 [00:00<00:00, 23.94it/s]\n",
            "libpng-1.6.37        | 306 KB    | : 100% 1.0/1 [00:00<00:00, 10.88it/s]\n",
            "mysql-connector-c-6. | 2.7 MB    | : 100% 1.0/1 [00:00<00:00,  1.97it/s]               \n",
            "Preparing transaction: | \b\bdone\n",
            "Verifying transaction: - \b\b\\ \b\bdone\n",
            "Executing transaction: / \b\bdone\n",
            "Collecting package metadata (current_repodata.json): - \b\b\\ \b\b| \b\b/ \b\b- \b\b\\ \b\b| \b\b/ \b\b- \b\b\\ \b\b| \b\b/ \b\b- \b\b\\ \b\b| \b\b/ \b\bdone\n",
            "Solving environment: \\ \b\b| \b\b/ \b\b- \b\b\\ \b\b| \b\b/ \b\b- \b\b\\ \b\b| \b\b/ \b\bdone\n",
            "\n",
            "## Package Plan ##\n",
            "\n",
            "  environment location: /usr/local\n",
            "\n",
            "  added / updated specs:\n",
            "    - ucsc-bedgraphtobigwig\n",
            "\n",
            "\n",
            "The following packages will be downloaded:\n",
            "\n",
            "    package                    |            build\n",
            "    ---------------------------|-----------------\n",
            "    ucsc-bedgraphtobigwig-377  |       h446ed27_1         321 KB  bioconda\n",
            "    ------------------------------------------------------------\n",
            "                                           Total:         321 KB\n",
            "\n",
            "The following NEW packages will be INSTALLED:\n",
            "\n",
            "  ucsc-bedgraphtobi~ bioconda/linux-64::ucsc-bedgraphtobigwig-377-h446ed27_1\n",
            "\n",
            "\n",
            "\n",
            "Downloading and Extracting Packages\n",
            "ucsc-bedgraphtobigwi | 321 KB    | : 100% 1.0/1 [00:00<00:00,  4.23it/s]                \n",
            "Preparing transaction: \\ \b\bdone\n",
            "Verifying transaction: / \b\bdone\n",
            "Executing transaction: \\ \b\bdone\n"
          ]
        }
      ],
      "source": [
        "!pip install pyGenomeTracks\n",
        "!pip install -U ipykernel\n",
        "!conda install -c bioconda ucsc-fetchchromsizes\n",
        "!conda install -c bioconda ucsc-bedgraphtobigwig"
      ]
    },
    {
      "cell_type": "code",
      "source": [
        "! fetchChromSizes mm10 > m.chrom.sizes"
      ],
      "metadata": {
        "colab": {
          "base_uri": "https://localhost:8080/"
        },
        "id": "LZpspVUvt4EY",
        "outputId": "b0008d87-0a02-4306-a620-c6f8c990fd0e"
      },
      "execution_count": null,
      "outputs": [
        {
          "output_type": "stream",
          "name": "stdout",
          "text": [
            "INFO: trying CURL  for database mm10\n",
            "url: http://hgdownload.soe.ucsc.edu/goldenPath/mm10/bigZips/mm10.chrom.sizes\n"
          ]
        }
      ]
    },
    {
      "cell_type": "markdown",
      "source": [
        "Распакуем архивы с bedGraph и bismark.cov\n"
      ],
      "metadata": {
        "id": "5rfzsqaBxTXZ"
      }
    },
    {
      "cell_type": "code",
      "source": [
        "! ls *.bedGraph.gz | xargs -P 3 -tI{} gunzip {}"
      ],
      "metadata": {
        "colab": {
          "base_uri": "https://localhost:8080/"
        },
        "id": "O5TxpJd3xH0n",
        "outputId": "77a1653e-e2ff-487d-842b-53575436192d"
      },
      "execution_count": null,
      "outputs": [
        {
          "output_type": "stream",
          "name": "stdout",
          "text": [
            "gunzip s_SRR3824222_1_bismark_bt2_pe.deduplicated.bedGraph.gz \n",
            "gunzip s_SRR5836473_1_bismark_bt2_pe.deduplicated.bedGraph.gz \n",
            "gunzip s_SRR5836475_1_bismark_bt2_pe.deduplicated.bedGraph.gz \n"
          ]
        }
      ]
    },
    {
      "cell_type": "code",
      "source": [
        "! ls *.bismark.cov.gz | xargs -P 3 -tI{} gunzip {}"
      ],
      "metadata": {
        "colab": {
          "base_uri": "https://localhost:8080/"
        },
        "id": "CLOauTvlxpmL",
        "outputId": "0f6dd868-7b27-4e9e-f731-6c552d89edec"
      },
      "execution_count": null,
      "outputs": [
        {
          "output_type": "stream",
          "name": "stdout",
          "text": [
            "gunzip s_SRR3824222_1_bismark_bt2_pe.deduplicated.bismark.cov.gz \n",
            "gunzip s_SRR5836473_1_bismark_bt2_pe.deduplicated.bismark.cov.gz \n",
            "gunzip s_SRR5836475_1_bismark_bt2_pe.deduplicated.bismark.cov.gz \n"
          ]
        }
      ]
    },
    {
      "cell_type": "code",
      "source": [
        "! ls *.bedGraph | xargs -P 3 -tI{} bedGraphToBigWig {} m.chrom.sizes {}.bigWig.bw"
      ],
      "metadata": {
        "id": "rh0ba_Y_tcq5",
        "colab": {
          "base_uri": "https://localhost:8080/"
        },
        "outputId": "24aa65c5-f55f-4491-ae43-088f86684d29"
      },
      "execution_count": null,
      "outputs": [
        {
          "output_type": "stream",
          "name": "stdout",
          "text": [
            "bedGraphToBigWig SRR3824222_1.cover.bedGraph m.chrom.sizes SRR3824222_1.cover.bedGraph.bigWig.bw \n",
            "bedGraphToBigWig SRR5836473_1.cover.bedGraph m.chrom.sizes SRR5836473_1.cover.bedGraph.bigWig.bw \n",
            "bedGraphToBigWig SRR5836475_1.cover.bedGraph m.chrom.sizes SRR5836475_1.cover.bedGraph.bigWig.bw \n",
            "bedGraphToBigWig s_SRR3824222_1_bismark_bt2_pe.deduplicated.bedGraph m.chrom.sizes s_SRR3824222_1_bismark_bt2_pe.deduplicated.bedGraph.bigWig.bw \n",
            "bedGraphToBigWig s_SRR5836473_1_bismark_bt2_pe.deduplicated.bedGraph m.chrom.sizes s_SRR5836473_1_bismark_bt2_pe.deduplicated.bedGraph.bigWig.bw \n",
            "bedGraphToBigWig s_SRR5836475_1_bismark_bt2_pe.deduplicated.bedGraph m.chrom.sizes s_SRR5836475_1_bismark_bt2_pe.deduplicated.bedGraph.bigWig.bw \n"
          ]
        }
      ]
    },
    {
      "cell_type": "code",
      "source": [
        "! apt-get install bedtools"
      ],
      "metadata": {
        "colab": {
          "base_uri": "https://localhost:8080/"
        },
        "id": "XEWV8p4ku-Hy",
        "outputId": "9405108e-257c-43db-e2e1-087f82023ac8"
      },
      "execution_count": null,
      "outputs": [
        {
          "output_type": "stream",
          "name": "stdout",
          "text": [
            "Reading package lists... Done\n",
            "Building dependency tree       \n",
            "Reading state information... Done\n",
            "The following packages were automatically installed and are no longer required:\n",
            "  cuda-command-line-tools-10-0 cuda-command-line-tools-10-1\n",
            "  cuda-command-line-tools-11-0 cuda-compiler-10-0 cuda-compiler-10-1\n",
            "  cuda-compiler-11-0 cuda-cuobjdump-10-0 cuda-cuobjdump-10-1\n",
            "  cuda-cuobjdump-11-0 cuda-cupti-10-0 cuda-cupti-10-1 cuda-cupti-11-0\n",
            "  cuda-cupti-dev-11-0 cuda-documentation-10-0 cuda-documentation-10-1\n",
            "  cuda-documentation-11-0 cuda-documentation-11-1 cuda-gdb-10-0 cuda-gdb-10-1\n",
            "  cuda-gdb-11-0 cuda-gpu-library-advisor-10-0 cuda-gpu-library-advisor-10-1\n",
            "  cuda-libraries-10-0 cuda-libraries-10-1 cuda-libraries-11-0\n",
            "  cuda-memcheck-10-0 cuda-memcheck-10-1 cuda-memcheck-11-0 cuda-nsight-10-0\n",
            "  cuda-nsight-10-1 cuda-nsight-11-0 cuda-nsight-11-1 cuda-nsight-compute-10-0\n",
            "  cuda-nsight-compute-10-1 cuda-nsight-compute-11-0 cuda-nsight-compute-11-1\n",
            "  cuda-nsight-systems-10-1 cuda-nsight-systems-11-0 cuda-nsight-systems-11-1\n",
            "  cuda-nvcc-10-0 cuda-nvcc-10-1 cuda-nvcc-11-0 cuda-nvdisasm-10-0\n",
            "  cuda-nvdisasm-10-1 cuda-nvdisasm-11-0 cuda-nvml-dev-10-0 cuda-nvml-dev-10-1\n",
            "  cuda-nvml-dev-11-0 cuda-nvprof-10-0 cuda-nvprof-10-1 cuda-nvprof-11-0\n",
            "  cuda-nvprune-10-0 cuda-nvprune-10-1 cuda-nvprune-11-0 cuda-nvtx-10-0\n",
            "  cuda-nvtx-10-1 cuda-nvtx-11-0 cuda-nvvp-10-0 cuda-nvvp-10-1 cuda-nvvp-11-0\n",
            "  cuda-nvvp-11-1 cuda-samples-10-0 cuda-samples-10-1 cuda-samples-11-0\n",
            "  cuda-samples-11-1 cuda-sanitizer-11-0 cuda-sanitizer-api-10-1\n",
            "  cuda-toolkit-10-0 cuda-toolkit-10-1 cuda-toolkit-11-0 cuda-toolkit-11-1\n",
            "  cuda-tools-10-0 cuda-tools-10-1 cuda-tools-11-0 cuda-tools-11-1\n",
            "  cuda-visual-tools-10-0 cuda-visual-tools-10-1 cuda-visual-tools-11-0\n",
            "  cuda-visual-tools-11-1 default-jre dkms freeglut3 freeglut3-dev\n",
            "  keyboard-configuration libargon2-0 libcap2 libcryptsetup12\n",
            "  libdevmapper1.02.1 libfontenc1 libidn11 libip4tc0 libjansson4\n",
            "  libnvidia-cfg1-510 libnvidia-common-460 libnvidia-common-510\n",
            "  libnvidia-extra-510 libnvidia-fbc1-510 libnvidia-gl-510 libpam-systemd\n",
            "  libpolkit-agent-1-0 libpolkit-backend-1-0 libpolkit-gobject-1-0 libxfont2\n",
            "  libxi-dev libxkbfile1 libxmu-dev libxmu-headers libxnvctrl0 libxtst6\n",
            "  nsight-compute-2020.2.1 nsight-compute-2022.1.0 nsight-systems-2020.3.2\n",
            "  nsight-systems-2020.3.4 nsight-systems-2021.5.2 nvidia-dkms-510\n",
            "  nvidia-kernel-common-510 nvidia-kernel-source-510 nvidia-modprobe\n",
            "  nvidia-settings openjdk-11-jre policykit-1 policykit-1-gnome python3-xkit\n",
            "  screen-resolution-extra systemd systemd-sysv udev x11-xkb-utils\n",
            "  xserver-common xserver-xorg-core-hwe-18.04 xserver-xorg-video-nvidia-510\n",
            "Use 'apt autoremove' to remove them.\n",
            "The following NEW packages will be installed:\n",
            "  bedtools\n",
            "0 upgraded, 1 newly installed, 0 to remove and 39 not upgraded.\n",
            "Need to get 577 kB of archives.\n",
            "After this operation, 2,040 kB of additional disk space will be used.\n",
            "Get:1 http://archive.ubuntu.com/ubuntu bionic/universe amd64 bedtools amd64 2.26.0+dfsg-5 [577 kB]\n",
            "Fetched 577 kB in 0s (5,779 kB/s)\n",
            "Selecting previously unselected package bedtools.\n",
            "(Reading database ... 155113 files and directories currently installed.)\n",
            "Preparing to unpack .../bedtools_2.26.0+dfsg-5_amd64.deb ...\n",
            "Unpacking bedtools (2.26.0+dfsg-5) ...\n",
            "Setting up bedtools (2.26.0+dfsg-5) ...\n"
          ]
        }
      ]
    },
    {
      "cell_type": "code",
      "source": [
        "! bedtools genomecov -bg -ibam s_SRR3824222_1_bismark_bt2_pe.deduplicated.bam -g m.chromSizes  >  SRR3824222_1.cover.bedGraph\n",
        "! bedtools genomecov -bg -ibam s_SRR5836473_1_bismark_bt2_pe.deduplicated.bam -g m.chromSizes  >  SRR5836473_1.cover.bedGraph\n",
        "! bedtools genomecov -bg -ibam s_SRR5836475_1_bismark_bt2_pe.deduplicated.bam -g m.chromSizes  >  SRR5836475_1.cover.bedGraph"
      ],
      "metadata": {
        "id": "ofhSsnSqvBbu"
      },
      "execution_count": null,
      "outputs": []
    },
    {
      "cell_type": "code",
      "source": [
        "! bedGraphToBigWig   SRR3824222_1.cover.bedGraph m.chrom.sizes SRR3824222_1_coverage.bigWig.bw\n",
        "! bedGraphToBigWig   SRR5836473_1.cover.bedGraph m.chrom.sizes SRR5836473_1_coverage.bigWig.bw\n",
        "! bedGraphToBigWig   SRR5836475_1.cover.bedGraph m.chrom.sizes SRR5836475_1_coverage.bigWig.bw"
      ],
      "metadata": {
        "id": "RLpT4wFCvr29"
      },
      "execution_count": null,
      "outputs": []
    },
    {
      "cell_type": "code",
      "source": [
        "! make_tracks_file --trackFiles s_SRR5836473_1_bismark_bt2_pe.deduplicated.bedGraph.bigWig.bw  SRR5836473_1_coverage.bigWig.bw s_SRR3824222_1_bismark_bt2_pe.deduplicated.bedGraph.bigWig.bw SRR3824222_1_coverage.bigWig.bw s_SRR5836475_1_bismark_bt2_pe.deduplicated.bedGraph.bigWig.bw  SRR5836475_1_coverage.bigWig.bw -o tracks.ini.txt"
      ],
      "metadata": {
        "colab": {
          "base_uri": "https://localhost:8080/"
        },
        "id": "CTPFxoKK-y_q",
        "outputId": "6cfd3ed3-14f0-4d4d-88fa-874f4c12e7a2"
      },
      "execution_count": null,
      "outputs": [
        {
          "output_type": "stream",
          "name": "stdout",
          "text": [
            "Adding bigwig file: s_SRR5836473_1_bismark_bt2_pe.deduplicated.bedGraph.bigWig.bw\n",
            "Adding bigwig file: SRR5836473_1_coverage.bigWig.bw\n",
            "Adding bigwig file: s_SRR3824222_1_bismark_bt2_pe.deduplicated.bedGraph.bigWig.bw\n",
            "Adding bigwig file: SRR3824222_1_coverage.bigWig.bw\n",
            "Adding bigwig file: s_SRR5836475_1_bismark_bt2_pe.deduplicated.bedGraph.bigWig.bw\n",
            "Adding bigwig file: SRR5836475_1_coverage.bigWig.bw\n"
          ]
        }
      ]
    },
    {
      "cell_type": "code",
      "source": [
        "! pyGenomeTracks --tracks tracks.ini.txt --region chr11:3200000-3300000 -o image_cov_.png"
      ],
      "metadata": {
        "colab": {
          "base_uri": "https://localhost:8080/"
        },
        "id": "bAaOdZCKsVtX",
        "outputId": "5969df98-52b4-47e4-d71f-ee0f27e71cbe"
      },
      "execution_count": null,
      "outputs": [
        {
          "output_type": "stream",
          "name": "stdout",
          "text": [
            "INFO:pygenometracks.tracksClass:initialize 1. [x-axis]\n",
            "INFO:pygenometracks.tracksClass:initialize 2. [spacer]\n",
            "INFO:pygenometracks.tracksClass:initialize 3. [s_SRR5836473_1_bismark_bt2_pe.deduplicated.bedGraph.bigWig]\n",
            "INFO:pygenometracks.tracksClass:initialize 4. [SRR5836473_1_coverage.bigWig]\n",
            "INFO:pygenometracks.tracksClass:initialize 5. [s_SRR3824222_1_bismark_bt2_pe.deduplicated.bedGraph.bigWig]\n",
            "INFO:pygenometracks.tracksClass:initialize 6. [SRR3824222_1_coverage.bigWig]\n",
            "INFO:pygenometracks.tracksClass:initialize 7. [s_SRR5836475_1_bismark_bt2_pe.deduplicated.bedGraph.bigWig]\n",
            "INFO:pygenometracks.tracksClass:initialize 8. [SRR5836475_1_coverage.bigWig]\n",
            "INFO:pygenometracks.tracksClass:time initializing track(s):\n",
            "INFO:pygenometracks.tracksClass:0.003753185272216797\n",
            "DEBUG:pygenometracks.tracksClass:Figure size in cm is 40 x 15.292553191489363. Dpi is set to 72\n",
            "\n",
            "INFO:pygenometracks.tracksClass:plotting 1. [x-axis]\n",
            "INFO:pygenometracks.tracksClass:plotting 2. [spacer]\n",
            "INFO:pygenometracks.tracksClass:plotting 3. [s_SRR5836473_1_bismark_bt2_pe.deduplicated.bedGraph.bigWig]\n",
            "INFO:pygenometracks.tracksClass:plotting 4. [SRR5836473_1_coverage.bigWig]\n",
            "INFO:pygenometracks.tracksClass:plotting 5. [s_SRR3824222_1_bismark_bt2_pe.deduplicated.bedGraph.bigWig]\n",
            "INFO:pygenometracks.tracksClass:plotting 6. [SRR3824222_1_coverage.bigWig]\n",
            "INFO:pygenometracks.tracksClass:plotting 7. [s_SRR5836475_1_bismark_bt2_pe.deduplicated.bedGraph.bigWig]\n",
            "INFO:pygenometracks.tracksClass:plotting 8. [SRR5836475_1_coverage.bigWig]\n"
          ]
        }
      ]
    }
  ],
  "metadata": {
    "colab": {
      "collapsed_sections": [],
      "name": "Дз_1_метилирование_Григорьев.ipynb",
      "provenance": []
    },
    "kernelspec": {
      "display_name": "Python 3",
      "name": "python3"
    },
    "language_info": {
      "name": "python"
    }
  },
  "nbformat": 4,
  "nbformat_minor": 0
}